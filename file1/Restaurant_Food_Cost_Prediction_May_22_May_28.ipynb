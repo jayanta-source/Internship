{
 "cells": [
  {
   "cell_type": "markdown",
   "id": "a8ced34c",
   "metadata": {},
   "source": [
    "# Restaurant Food Cost"
   ]
  },
  {
   "cell_type": "markdown",
   "id": "440e7b6a",
   "metadata": {},
   "source": [
    "Who doesn’t love food? All of us must have craving for at least a few favourite food items, we may also have a few places where we like to get them, a restaurant which serves our favourite food the way we want it to be. But there is one factor that will make us reconsider having our favourite food from our favourite restaurant, the cost. Here in this hackathon, you will be predicting the cost of the food served by the restaurants across different cities in India. You will use your Data Science skills to investigate the factors that really affect the cost, and who knows maybe you will even gain some very interesting insights that might help you choose what to eat and from where."
   ]
  },
  {
   "cell_type": "markdown",
   "id": "4b439244",
   "metadata": {},
   "source": [
    "Dataset Attributes\n",
    "\n",
    "TITLE: The feature of the restaurant which can help identify what and for whom it is suitable for.\n",
    "\n",
    "RESTAURANT_ID: A unique ID for each restaurant.\n",
    "\n",
    "CUISINES: The variety of cuisines that the restaurant offers.\n",
    "\n",
    "TIME: The open hours of the restaurant.\n",
    "\n",
    "CITY: The city in which the restaurant is located.\n",
    "\n",
    "LOCALITY: The locality of the restaurant.\n",
    "\n",
    "RATING: The average rating of the restaurant by customers.\n",
    "\n",
    "VOTES: The overall votes received by the restaurant.\n",
    "\n",
    "COST: The average cost of a two-person meal."
   ]
  },
  {
   "cell_type": "markdown",
   "id": "5f82d8fd",
   "metadata": {},
   "source": [
    "#### Importing required Libraries"
   ]
  },
  {
   "cell_type": "code",
   "execution_count": 1,
   "id": "7ab2266a",
   "metadata": {},
   "outputs": [],
   "source": [
    "import numpy as np\n",
    "import pandas as pd\n",
    "import matplotlib.pyplot as plt\n",
    "import seaborn as sns\n",
    "import re\n",
    "from scipy.stats import zscore\n",
    "from scipy.stats import boxcox\n",
    "from sklearn.preprocessing import LabelEncoder, StandardScaler\n",
    "from statsmodels.stats.outliers_influence import variance_inflation_factor as VIF\n",
    "from sklearn.linear_model import LinearRegression\n",
    "from sklearn.linear_model import Lasso, Ridge\n",
    "from sklearn.ensemble import RandomForestRegressor, GradientBoostingRegressor, ExtraTreesRegressor\n",
    "from sklearn.tree import DecisionTreeRegressor as DTR\n",
    "from sklearn.neighbors import KNeighborsRegressor as KNN\n",
    "from sklearn.svm import SVR\n",
    "from sklearn.model_selection import train_test_split\n",
    "from sklearn.metrics import mean_squared_error, mean_absolute_error,r2_score\n",
    "from sklearn.model_selection import cross_val_score\n",
    "from sklearn.model_selection import GridSearchCV\n",
    "\n",
    "import warnings\n",
    "warnings.filterwarnings('ignore')"
   ]
  },
  {
   "cell_type": "markdown",
   "id": "d640fdf6",
   "metadata": {},
   "source": [
    "#### Loading the dataset"
   ]
  },
  {
   "cell_type": "code",
   "execution_count": 2,
   "id": "0ecee32f",
   "metadata": {},
   "outputs": [],
   "source": [
    "data=pd.read_excel('https://github.com/FlipRoboTechnologies/ML-Datasets/raw/main/Restaurant%20Food%20Cost/Data_Train.xlsx')"
   ]
  },
  {
   "cell_type": "code",
   "execution_count": 3,
   "id": "8bb29398",
   "metadata": {},
   "outputs": [],
   "source": [
    "df_train=pd.DataFrame(data=data)"
   ]
  },
  {
   "cell_type": "markdown",
   "id": "9b2f983a",
   "metadata": {},
   "source": [
    "# Exploratory Data Analysis"
   ]
  },
  {
   "cell_type": "markdown",
   "id": "b6f0e9c9",
   "metadata": {},
   "source": [
    "#### Checking the dataframe"
   ]
  },
  {
   "cell_type": "code",
   "execution_count": 4,
   "id": "d5a61255",
   "metadata": {},
   "outputs": [
    {
     "data": {
      "text/html": [
       "<div>\n",
       "<style scoped>\n",
       "    .dataframe tbody tr th:only-of-type {\n",
       "        vertical-align: middle;\n",
       "    }\n",
       "\n",
       "    .dataframe tbody tr th {\n",
       "        vertical-align: top;\n",
       "    }\n",
       "\n",
       "    .dataframe thead th {\n",
       "        text-align: right;\n",
       "    }\n",
       "</style>\n",
       "<table border=\"1\" class=\"dataframe\">\n",
       "  <thead>\n",
       "    <tr style=\"text-align: right;\">\n",
       "      <th></th>\n",
       "      <th>TITLE</th>\n",
       "      <th>RESTAURANT_ID</th>\n",
       "      <th>CUISINES</th>\n",
       "      <th>TIME</th>\n",
       "      <th>CITY</th>\n",
       "      <th>LOCALITY</th>\n",
       "      <th>RATING</th>\n",
       "      <th>VOTES</th>\n",
       "      <th>COST</th>\n",
       "    </tr>\n",
       "  </thead>\n",
       "  <tbody>\n",
       "    <tr>\n",
       "      <th>0</th>\n",
       "      <td>CASUAL DINING</td>\n",
       "      <td>9438</td>\n",
       "      <td>Malwani, Goan, North Indian</td>\n",
       "      <td>11am – 4pm, 7:30pm – 11:30pm (Mon-Sun)</td>\n",
       "      <td>Thane</td>\n",
       "      <td>Dombivali East</td>\n",
       "      <td>3.6</td>\n",
       "      <td>49 votes</td>\n",
       "      <td>1200</td>\n",
       "    </tr>\n",
       "    <tr>\n",
       "      <th>1</th>\n",
       "      <td>CASUAL DINING,BAR</td>\n",
       "      <td>13198</td>\n",
       "      <td>Asian, Modern Indian, Japanese</td>\n",
       "      <td>6pm – 11pm (Mon-Sun)</td>\n",
       "      <td>Chennai</td>\n",
       "      <td>Ramapuram</td>\n",
       "      <td>4.2</td>\n",
       "      <td>30 votes</td>\n",
       "      <td>1500</td>\n",
       "    </tr>\n",
       "    <tr>\n",
       "      <th>2</th>\n",
       "      <td>CASUAL DINING</td>\n",
       "      <td>10915</td>\n",
       "      <td>North Indian, Chinese, Biryani, Hyderabadi</td>\n",
       "      <td>11am – 3:30pm, 7pm – 11pm (Mon-Sun)</td>\n",
       "      <td>Chennai</td>\n",
       "      <td>Saligramam</td>\n",
       "      <td>3.8</td>\n",
       "      <td>221 votes</td>\n",
       "      <td>800</td>\n",
       "    </tr>\n",
       "    <tr>\n",
       "      <th>3</th>\n",
       "      <td>QUICK BITES</td>\n",
       "      <td>6346</td>\n",
       "      <td>Tibetan, Chinese</td>\n",
       "      <td>11:30am – 1am (Mon-Sun)</td>\n",
       "      <td>Mumbai</td>\n",
       "      <td>Bandra West</td>\n",
       "      <td>4.1</td>\n",
       "      <td>24 votes</td>\n",
       "      <td>800</td>\n",
       "    </tr>\n",
       "    <tr>\n",
       "      <th>4</th>\n",
       "      <td>DESSERT PARLOR</td>\n",
       "      <td>15387</td>\n",
       "      <td>Desserts</td>\n",
       "      <td>11am – 1am (Mon-Sun)</td>\n",
       "      <td>Mumbai</td>\n",
       "      <td>Lower Parel</td>\n",
       "      <td>3.8</td>\n",
       "      <td>165 votes</td>\n",
       "      <td>300</td>\n",
       "    </tr>\n",
       "    <tr>\n",
       "      <th>...</th>\n",
       "      <td>...</td>\n",
       "      <td>...</td>\n",
       "      <td>...</td>\n",
       "      <td>...</td>\n",
       "      <td>...</td>\n",
       "      <td>...</td>\n",
       "      <td>...</td>\n",
       "      <td>...</td>\n",
       "      <td>...</td>\n",
       "    </tr>\n",
       "    <tr>\n",
       "      <th>12685</th>\n",
       "      <td>QUICK BITES</td>\n",
       "      <td>13228</td>\n",
       "      <td>North Indian, Burger, Kebab</td>\n",
       "      <td>12noon – 12midnight (Mon, Tue, Wed, Thu, Sun)...</td>\n",
       "      <td>Hyderabad</td>\n",
       "      <td>Gachibowli</td>\n",
       "      <td>3.8</td>\n",
       "      <td>546 votes</td>\n",
       "      <td>500</td>\n",
       "    </tr>\n",
       "    <tr>\n",
       "      <th>12686</th>\n",
       "      <td>CASUAL DINING,BAR</td>\n",
       "      <td>9686</td>\n",
       "      <td>Goan, Continental</td>\n",
       "      <td>12noon – 1am (Mon-Fri),11am – 5pm, 7pm – 1am...</td>\n",
       "      <td>Mumbai</td>\n",
       "      <td>Bandra Kurla Complex</td>\n",
       "      <td>4.3</td>\n",
       "      <td>1214 votes</td>\n",
       "      <td>1800</td>\n",
       "    </tr>\n",
       "    <tr>\n",
       "      <th>12687</th>\n",
       "      <td>LOUNGE</td>\n",
       "      <td>11133</td>\n",
       "      <td>Finger Food, Continental, Asian, Chinese</td>\n",
       "      <td>12noon – 12:30AM (Mon-Sun)</td>\n",
       "      <td>Navi Mumbai</td>\n",
       "      <td>Vashi</td>\n",
       "      <td>4.0</td>\n",
       "      <td>608 votes</td>\n",
       "      <td>1300</td>\n",
       "    </tr>\n",
       "    <tr>\n",
       "      <th>12688</th>\n",
       "      <td>CASUAL DINING</td>\n",
       "      <td>6134</td>\n",
       "      <td>North Indian, South Indian, Chinese, Street Food</td>\n",
       "      <td>6am – 10:45pm (Mon-Sun)</td>\n",
       "      <td>Chennai</td>\n",
       "      <td>Maduravoyal</td>\n",
       "      <td>3.5</td>\n",
       "      <td>32 votes</td>\n",
       "      <td>400</td>\n",
       "    </tr>\n",
       "    <tr>\n",
       "      <th>12689</th>\n",
       "      <td>CASUAL DINING</td>\n",
       "      <td>6430</td>\n",
       "      <td>North Indian, Chinese</td>\n",
       "      <td>12:30pm – 11pm (Mon-Sun)</td>\n",
       "      <td>Hyderabad</td>\n",
       "      <td>Vanasthalipuram</td>\n",
       "      <td>3.4</td>\n",
       "      <td>677 votes</td>\n",
       "      <td>600</td>\n",
       "    </tr>\n",
       "  </tbody>\n",
       "</table>\n",
       "<p>12690 rows × 9 columns</p>\n",
       "</div>"
      ],
      "text/plain": [
       "                   TITLE  RESTAURANT_ID  \\\n",
       "0          CASUAL DINING           9438   \n",
       "1      CASUAL DINING,BAR          13198   \n",
       "2          CASUAL DINING          10915   \n",
       "3            QUICK BITES           6346   \n",
       "4         DESSERT PARLOR          15387   \n",
       "...                  ...            ...   \n",
       "12685        QUICK BITES          13228   \n",
       "12686  CASUAL DINING,BAR           9686   \n",
       "12687             LOUNGE          11133   \n",
       "12688      CASUAL DINING           6134   \n",
       "12689      CASUAL DINING           6430   \n",
       "\n",
       "                                               CUISINES  \\\n",
       "0                           Malwani, Goan, North Indian   \n",
       "1                        Asian, Modern Indian, Japanese   \n",
       "2            North Indian, Chinese, Biryani, Hyderabadi   \n",
       "3                                      Tibetan, Chinese   \n",
       "4                                              Desserts   \n",
       "...                                                 ...   \n",
       "12685                       North Indian, Burger, Kebab   \n",
       "12686                                 Goan, Continental   \n",
       "12687          Finger Food, Continental, Asian, Chinese   \n",
       "12688  North Indian, South Indian, Chinese, Street Food   \n",
       "12689                             North Indian, Chinese   \n",
       "\n",
       "                                                   TIME         CITY  \\\n",
       "0                11am – 4pm, 7:30pm – 11:30pm (Mon-Sun)        Thane   \n",
       "1                                  6pm – 11pm (Mon-Sun)      Chennai   \n",
       "2                   11am – 3:30pm, 7pm – 11pm (Mon-Sun)      Chennai   \n",
       "3                               11:30am – 1am (Mon-Sun)       Mumbai   \n",
       "4                                  11am – 1am (Mon-Sun)       Mumbai   \n",
       "...                                                 ...          ...   \n",
       "12685  12noon – 12midnight (Mon, Tue, Wed, Thu, Sun)...    Hyderabad   \n",
       "12686   12noon – 1am (Mon-Fri),11am – 5pm, 7pm – 1am...       Mumbai   \n",
       "12687                        12noon – 12:30AM (Mon-Sun)  Navi Mumbai   \n",
       "12688                           6am – 10:45pm (Mon-Sun)      Chennai   \n",
       "12689                          12:30pm – 11pm (Mon-Sun)    Hyderabad   \n",
       "\n",
       "                   LOCALITY RATING       VOTES  COST  \n",
       "0            Dombivali East    3.6    49 votes  1200  \n",
       "1                 Ramapuram    4.2    30 votes  1500  \n",
       "2                Saligramam    3.8   221 votes   800  \n",
       "3               Bandra West    4.1    24 votes   800  \n",
       "4               Lower Parel    3.8   165 votes   300  \n",
       "...                     ...    ...         ...   ...  \n",
       "12685            Gachibowli    3.8   546 votes   500  \n",
       "12686  Bandra Kurla Complex    4.3  1214 votes  1800  \n",
       "12687                 Vashi    4.0   608 votes  1300  \n",
       "12688           Maduravoyal    3.5    32 votes   400  \n",
       "12689       Vanasthalipuram    3.4   677 votes   600  \n",
       "\n",
       "[12690 rows x 9 columns]"
      ]
     },
     "execution_count": 4,
     "metadata": {},
     "output_type": "execute_result"
    }
   ],
   "source": [
    "df_train"
   ]
  },
  {
   "cell_type": "code",
   "execution_count": 5,
   "id": "cadba421",
   "metadata": {},
   "outputs": [
    {
     "data": {
      "text/html": [
       "<div>\n",
       "<style scoped>\n",
       "    .dataframe tbody tr th:only-of-type {\n",
       "        vertical-align: middle;\n",
       "    }\n",
       "\n",
       "    .dataframe tbody tr th {\n",
       "        vertical-align: top;\n",
       "    }\n",
       "\n",
       "    .dataframe thead th {\n",
       "        text-align: right;\n",
       "    }\n",
       "</style>\n",
       "<table border=\"1\" class=\"dataframe\">\n",
       "  <thead>\n",
       "    <tr style=\"text-align: right;\">\n",
       "      <th></th>\n",
       "      <th>TITLE</th>\n",
       "      <th>RESTAURANT_ID</th>\n",
       "      <th>CUISINES</th>\n",
       "      <th>TIME</th>\n",
       "      <th>CITY</th>\n",
       "      <th>LOCALITY</th>\n",
       "      <th>RATING</th>\n",
       "      <th>VOTES</th>\n",
       "      <th>COST</th>\n",
       "    </tr>\n",
       "  </thead>\n",
       "  <tbody>\n",
       "    <tr>\n",
       "      <th>0</th>\n",
       "      <td>CASUAL DINING</td>\n",
       "      <td>9438</td>\n",
       "      <td>Malwani, Goan, North Indian</td>\n",
       "      <td>11am – 4pm, 7:30pm – 11:30pm (Mon-Sun)</td>\n",
       "      <td>Thane</td>\n",
       "      <td>Dombivali East</td>\n",
       "      <td>3.6</td>\n",
       "      <td>49 votes</td>\n",
       "      <td>1200</td>\n",
       "    </tr>\n",
       "    <tr>\n",
       "      <th>1</th>\n",
       "      <td>CASUAL DINING,BAR</td>\n",
       "      <td>13198</td>\n",
       "      <td>Asian, Modern Indian, Japanese</td>\n",
       "      <td>6pm – 11pm (Mon-Sun)</td>\n",
       "      <td>Chennai</td>\n",
       "      <td>Ramapuram</td>\n",
       "      <td>4.2</td>\n",
       "      <td>30 votes</td>\n",
       "      <td>1500</td>\n",
       "    </tr>\n",
       "    <tr>\n",
       "      <th>2</th>\n",
       "      <td>CASUAL DINING</td>\n",
       "      <td>10915</td>\n",
       "      <td>North Indian, Chinese, Biryani, Hyderabadi</td>\n",
       "      <td>11am – 3:30pm, 7pm – 11pm (Mon-Sun)</td>\n",
       "      <td>Chennai</td>\n",
       "      <td>Saligramam</td>\n",
       "      <td>3.8</td>\n",
       "      <td>221 votes</td>\n",
       "      <td>800</td>\n",
       "    </tr>\n",
       "    <tr>\n",
       "      <th>3</th>\n",
       "      <td>QUICK BITES</td>\n",
       "      <td>6346</td>\n",
       "      <td>Tibetan, Chinese</td>\n",
       "      <td>11:30am – 1am (Mon-Sun)</td>\n",
       "      <td>Mumbai</td>\n",
       "      <td>Bandra West</td>\n",
       "      <td>4.1</td>\n",
       "      <td>24 votes</td>\n",
       "      <td>800</td>\n",
       "    </tr>\n",
       "    <tr>\n",
       "      <th>4</th>\n",
       "      <td>DESSERT PARLOR</td>\n",
       "      <td>15387</td>\n",
       "      <td>Desserts</td>\n",
       "      <td>11am – 1am (Mon-Sun)</td>\n",
       "      <td>Mumbai</td>\n",
       "      <td>Lower Parel</td>\n",
       "      <td>3.8</td>\n",
       "      <td>165 votes</td>\n",
       "      <td>300</td>\n",
       "    </tr>\n",
       "    <tr>\n",
       "      <th>5</th>\n",
       "      <td>CASUAL DINING</td>\n",
       "      <td>5618</td>\n",
       "      <td>North Indian, Chinese, Seafood, Biryani</td>\n",
       "      <td>12noon – 12:30AM (Mon-Sun)</td>\n",
       "      <td>Mumbai</td>\n",
       "      <td>Vile Parle West</td>\n",
       "      <td>4.0</td>\n",
       "      <td>550 votes</td>\n",
       "      <td>800</td>\n",
       "    </tr>\n",
       "    <tr>\n",
       "      <th>6</th>\n",
       "      <td>CAFÉ</td>\n",
       "      <td>4383</td>\n",
       "      <td>Cafe, Chinese, Pizza, North Indian, Burger</td>\n",
       "      <td>12noon – 11:30pm (Mon, Tue, Thu, Fri, Sat, Sun...</td>\n",
       "      <td>Bangalore</td>\n",
       "      <td>Koramangala 6th Block</td>\n",
       "      <td>4.1</td>\n",
       "      <td>509 votes</td>\n",
       "      <td>600</td>\n",
       "    </tr>\n",
       "    <tr>\n",
       "      <th>7</th>\n",
       "      <td>MICROBREWERY</td>\n",
       "      <td>1249</td>\n",
       "      <td>Bar Food</td>\n",
       "      <td>1pm – 1am (Mon-Sun)</td>\n",
       "      <td>Gurgaon</td>\n",
       "      <td>Sector 29</td>\n",
       "      <td>4.3</td>\n",
       "      <td>1612 votes</td>\n",
       "      <td>1600</td>\n",
       "    </tr>\n",
       "    <tr>\n",
       "      <th>8</th>\n",
       "      <td>QUICK BITES</td>\n",
       "      <td>7062</td>\n",
       "      <td>South Indian, North Indian</td>\n",
       "      <td>7am – 10:30pm (Mon-Sun)</td>\n",
       "      <td>Bangalore</td>\n",
       "      <td>Bannerghatta Road</td>\n",
       "      <td>3.9</td>\n",
       "      <td>101 votes</td>\n",
       "      <td>300</td>\n",
       "    </tr>\n",
       "    <tr>\n",
       "      <th>9</th>\n",
       "      <td>QUICK BITES</td>\n",
       "      <td>10109</td>\n",
       "      <td>North Indian</td>\n",
       "      <td>11am – 2pm, 4pm – 10:30pm (Mon-Sun)</td>\n",
       "      <td>Hyderabad</td>\n",
       "      <td>Dilsukhnagar</td>\n",
       "      <td>3.3</td>\n",
       "      <td>219 votes</td>\n",
       "      <td>200</td>\n",
       "    </tr>\n",
       "  </tbody>\n",
       "</table>\n",
       "</div>"
      ],
      "text/plain": [
       "               TITLE  RESTAURANT_ID  \\\n",
       "0      CASUAL DINING           9438   \n",
       "1  CASUAL DINING,BAR          13198   \n",
       "2      CASUAL DINING          10915   \n",
       "3        QUICK BITES           6346   \n",
       "4     DESSERT PARLOR          15387   \n",
       "5      CASUAL DINING           5618   \n",
       "6               CAFÉ           4383   \n",
       "7       MICROBREWERY           1249   \n",
       "8        QUICK BITES           7062   \n",
       "9        QUICK BITES          10109   \n",
       "\n",
       "                                     CUISINES  \\\n",
       "0                 Malwani, Goan, North Indian   \n",
       "1              Asian, Modern Indian, Japanese   \n",
       "2  North Indian, Chinese, Biryani, Hyderabadi   \n",
       "3                            Tibetan, Chinese   \n",
       "4                                    Desserts   \n",
       "5     North Indian, Chinese, Seafood, Biryani   \n",
       "6  Cafe, Chinese, Pizza, North Indian, Burger   \n",
       "7                                    Bar Food   \n",
       "8                  South Indian, North Indian   \n",
       "9                                North Indian   \n",
       "\n",
       "                                                TIME       CITY  \\\n",
       "0             11am – 4pm, 7:30pm – 11:30pm (Mon-Sun)      Thane   \n",
       "1                               6pm – 11pm (Mon-Sun)    Chennai   \n",
       "2                11am – 3:30pm, 7pm – 11pm (Mon-Sun)    Chennai   \n",
       "3                            11:30am – 1am (Mon-Sun)     Mumbai   \n",
       "4                               11am – 1am (Mon-Sun)     Mumbai   \n",
       "5                         12noon – 12:30AM (Mon-Sun)     Mumbai   \n",
       "6  12noon – 11:30pm (Mon, Tue, Thu, Fri, Sat, Sun...  Bangalore   \n",
       "7                                1pm – 1am (Mon-Sun)    Gurgaon   \n",
       "8                            7am – 10:30pm (Mon-Sun)  Bangalore   \n",
       "9                11am – 2pm, 4pm – 10:30pm (Mon-Sun)  Hyderabad   \n",
       "\n",
       "                LOCALITY RATING       VOTES  COST  \n",
       "0         Dombivali East    3.6    49 votes  1200  \n",
       "1              Ramapuram    4.2    30 votes  1500  \n",
       "2             Saligramam    3.8   221 votes   800  \n",
       "3            Bandra West    4.1    24 votes   800  \n",
       "4            Lower Parel    3.8   165 votes   300  \n",
       "5        Vile Parle West    4.0   550 votes   800  \n",
       "6  Koramangala 6th Block    4.1   509 votes   600  \n",
       "7              Sector 29    4.3  1612 votes  1600  \n",
       "8      Bannerghatta Road    3.9   101 votes   300  \n",
       "9           Dilsukhnagar    3.3   219 votes   200  "
      ]
     },
     "execution_count": 5,
     "metadata": {},
     "output_type": "execute_result"
    }
   ],
   "source": [
    "df_train.head(10)"
   ]
  },
  {
   "cell_type": "code",
   "execution_count": 6,
   "id": "f745d810",
   "metadata": {},
   "outputs": [
    {
     "data": {
      "text/html": [
       "<div>\n",
       "<style scoped>\n",
       "    .dataframe tbody tr th:only-of-type {\n",
       "        vertical-align: middle;\n",
       "    }\n",
       "\n",
       "    .dataframe tbody tr th {\n",
       "        vertical-align: top;\n",
       "    }\n",
       "\n",
       "    .dataframe thead th {\n",
       "        text-align: right;\n",
       "    }\n",
       "</style>\n",
       "<table border=\"1\" class=\"dataframe\">\n",
       "  <thead>\n",
       "    <tr style=\"text-align: right;\">\n",
       "      <th></th>\n",
       "      <th>TITLE</th>\n",
       "      <th>RESTAURANT_ID</th>\n",
       "      <th>CUISINES</th>\n",
       "      <th>TIME</th>\n",
       "      <th>CITY</th>\n",
       "      <th>LOCALITY</th>\n",
       "      <th>RATING</th>\n",
       "      <th>VOTES</th>\n",
       "      <th>COST</th>\n",
       "    </tr>\n",
       "  </thead>\n",
       "  <tbody>\n",
       "    <tr>\n",
       "      <th>12680</th>\n",
       "      <td>QUICK BITES</td>\n",
       "      <td>13798</td>\n",
       "      <td>North Indian, Fast Food, Desserts</td>\n",
       "      <td>10am – 11pm (Mon-Sun)</td>\n",
       "      <td>New Delhi</td>\n",
       "      <td>Near Malviya Nagar</td>\n",
       "      <td>3.4</td>\n",
       "      <td>13 votes</td>\n",
       "      <td>300</td>\n",
       "    </tr>\n",
       "    <tr>\n",
       "      <th>12681</th>\n",
       "      <td>CAFÉ</td>\n",
       "      <td>3241</td>\n",
       "      <td>Beverages, Cafe, Bakery</td>\n",
       "      <td>11am – 11pm (Mon-Sun)</td>\n",
       "      <td>Noida</td>\n",
       "      <td>Sector 18</td>\n",
       "      <td>4.1</td>\n",
       "      <td>300 votes</td>\n",
       "      <td>450</td>\n",
       "    </tr>\n",
       "    <tr>\n",
       "      <th>12682</th>\n",
       "      <td>QUICK BITES</td>\n",
       "      <td>8085</td>\n",
       "      <td>Fast Food</td>\n",
       "      <td>11am – 11pm (Mon-Sun)</td>\n",
       "      <td>Chennai.</td>\n",
       "      <td>Mogappair</td>\n",
       "      <td>3.6</td>\n",
       "      <td>30 votes</td>\n",
       "      <td>450</td>\n",
       "    </tr>\n",
       "    <tr>\n",
       "      <th>12683</th>\n",
       "      <td>QUICK BITES,SWEET SHOP</td>\n",
       "      <td>5430</td>\n",
       "      <td>North Indian, South Indian, Street Food, Mithai</td>\n",
       "      <td>8:30am – 11pm (Mon-Sun)</td>\n",
       "      <td>New Delhi</td>\n",
       "      <td>Pitampura</td>\n",
       "      <td>4.1</td>\n",
       "      <td>1426 votes</td>\n",
       "      <td>500</td>\n",
       "    </tr>\n",
       "    <tr>\n",
       "      <th>12684</th>\n",
       "      <td>CASUAL DINING</td>\n",
       "      <td>8324</td>\n",
       "      <td>North Indian, Chinese</td>\n",
       "      <td>11am – 11pm (Mon-Sun)</td>\n",
       "      <td>New Delhi</td>\n",
       "      <td>Moti Nagar</td>\n",
       "      <td>3.8</td>\n",
       "      <td>492 votes</td>\n",
       "      <td>550</td>\n",
       "    </tr>\n",
       "    <tr>\n",
       "      <th>12685</th>\n",
       "      <td>QUICK BITES</td>\n",
       "      <td>13228</td>\n",
       "      <td>North Indian, Burger, Kebab</td>\n",
       "      <td>12noon – 12midnight (Mon, Tue, Wed, Thu, Sun)...</td>\n",
       "      <td>Hyderabad</td>\n",
       "      <td>Gachibowli</td>\n",
       "      <td>3.8</td>\n",
       "      <td>546 votes</td>\n",
       "      <td>500</td>\n",
       "    </tr>\n",
       "    <tr>\n",
       "      <th>12686</th>\n",
       "      <td>CASUAL DINING,BAR</td>\n",
       "      <td>9686</td>\n",
       "      <td>Goan, Continental</td>\n",
       "      <td>12noon – 1am (Mon-Fri),11am – 5pm, 7pm – 1am...</td>\n",
       "      <td>Mumbai</td>\n",
       "      <td>Bandra Kurla Complex</td>\n",
       "      <td>4.3</td>\n",
       "      <td>1214 votes</td>\n",
       "      <td>1800</td>\n",
       "    </tr>\n",
       "    <tr>\n",
       "      <th>12687</th>\n",
       "      <td>LOUNGE</td>\n",
       "      <td>11133</td>\n",
       "      <td>Finger Food, Continental, Asian, Chinese</td>\n",
       "      <td>12noon – 12:30AM (Mon-Sun)</td>\n",
       "      <td>Navi Mumbai</td>\n",
       "      <td>Vashi</td>\n",
       "      <td>4.0</td>\n",
       "      <td>608 votes</td>\n",
       "      <td>1300</td>\n",
       "    </tr>\n",
       "    <tr>\n",
       "      <th>12688</th>\n",
       "      <td>CASUAL DINING</td>\n",
       "      <td>6134</td>\n",
       "      <td>North Indian, South Indian, Chinese, Street Food</td>\n",
       "      <td>6am – 10:45pm (Mon-Sun)</td>\n",
       "      <td>Chennai</td>\n",
       "      <td>Maduravoyal</td>\n",
       "      <td>3.5</td>\n",
       "      <td>32 votes</td>\n",
       "      <td>400</td>\n",
       "    </tr>\n",
       "    <tr>\n",
       "      <th>12689</th>\n",
       "      <td>CASUAL DINING</td>\n",
       "      <td>6430</td>\n",
       "      <td>North Indian, Chinese</td>\n",
       "      <td>12:30pm – 11pm (Mon-Sun)</td>\n",
       "      <td>Hyderabad</td>\n",
       "      <td>Vanasthalipuram</td>\n",
       "      <td>3.4</td>\n",
       "      <td>677 votes</td>\n",
       "      <td>600</td>\n",
       "    </tr>\n",
       "  </tbody>\n",
       "</table>\n",
       "</div>"
      ],
      "text/plain": [
       "                        TITLE  RESTAURANT_ID  \\\n",
       "12680             QUICK BITES          13798   \n",
       "12681                    CAFÉ           3241   \n",
       "12682             QUICK BITES           8085   \n",
       "12683  QUICK BITES,SWEET SHOP           5430   \n",
       "12684           CASUAL DINING           8324   \n",
       "12685             QUICK BITES          13228   \n",
       "12686       CASUAL DINING,BAR           9686   \n",
       "12687                  LOUNGE          11133   \n",
       "12688           CASUAL DINING           6134   \n",
       "12689           CASUAL DINING           6430   \n",
       "\n",
       "                                               CUISINES  \\\n",
       "12680                 North Indian, Fast Food, Desserts   \n",
       "12681                           Beverages, Cafe, Bakery   \n",
       "12682                                         Fast Food   \n",
       "12683   North Indian, South Indian, Street Food, Mithai   \n",
       "12684                             North Indian, Chinese   \n",
       "12685                       North Indian, Burger, Kebab   \n",
       "12686                                 Goan, Continental   \n",
       "12687          Finger Food, Continental, Asian, Chinese   \n",
       "12688  North Indian, South Indian, Chinese, Street Food   \n",
       "12689                             North Indian, Chinese   \n",
       "\n",
       "                                                   TIME         CITY  \\\n",
       "12680                             10am – 11pm (Mon-Sun)    New Delhi   \n",
       "12681                             11am – 11pm (Mon-Sun)        Noida   \n",
       "12682                             11am – 11pm (Mon-Sun)     Chennai.   \n",
       "12683                           8:30am – 11pm (Mon-Sun)    New Delhi   \n",
       "12684                             11am – 11pm (Mon-Sun)    New Delhi   \n",
       "12685  12noon – 12midnight (Mon, Tue, Wed, Thu, Sun)...    Hyderabad   \n",
       "12686   12noon – 1am (Mon-Fri),11am – 5pm, 7pm – 1am...       Mumbai   \n",
       "12687                        12noon – 12:30AM (Mon-Sun)  Navi Mumbai   \n",
       "12688                           6am – 10:45pm (Mon-Sun)      Chennai   \n",
       "12689                          12:30pm – 11pm (Mon-Sun)    Hyderabad   \n",
       "\n",
       "                   LOCALITY RATING       VOTES  COST  \n",
       "12680    Near Malviya Nagar    3.4    13 votes   300  \n",
       "12681             Sector 18    4.1   300 votes   450  \n",
       "12682             Mogappair    3.6    30 votes   450  \n",
       "12683             Pitampura    4.1  1426 votes   500  \n",
       "12684            Moti Nagar    3.8   492 votes   550  \n",
       "12685            Gachibowli    3.8   546 votes   500  \n",
       "12686  Bandra Kurla Complex    4.3  1214 votes  1800  \n",
       "12687                 Vashi    4.0   608 votes  1300  \n",
       "12688           Maduravoyal    3.5    32 votes   400  \n",
       "12689       Vanasthalipuram    3.4   677 votes   600  "
      ]
     },
     "execution_count": 6,
     "metadata": {},
     "output_type": "execute_result"
    }
   ],
   "source": [
    "df_train.tail(10)"
   ]
  },
  {
   "cell_type": "markdown",
   "id": "852ab9a9",
   "metadata": {},
   "source": [
    "#### Checking the shape of the dataframe"
   ]
  },
  {
   "cell_type": "code",
   "execution_count": 7,
   "id": "53a088fc",
   "metadata": {},
   "outputs": [
    {
     "data": {
      "text/plain": [
       "(12690, 9)"
      ]
     },
     "execution_count": 7,
     "metadata": {},
     "output_type": "execute_result"
    }
   ],
   "source": [
    "df_train.shape"
   ]
  },
  {
   "cell_type": "markdown",
   "id": "8baae543",
   "metadata": {},
   "source": [
    "#### Checking the dataframe information using info method"
   ]
  },
  {
   "cell_type": "code",
   "execution_count": 8,
   "id": "d498ea90",
   "metadata": {},
   "outputs": [
    {
     "name": "stdout",
     "output_type": "stream",
     "text": [
      "<class 'pandas.core.frame.DataFrame'>\n",
      "RangeIndex: 12690 entries, 0 to 12689\n",
      "Data columns (total 9 columns):\n",
      " #   Column         Non-Null Count  Dtype \n",
      "---  ------         --------------  ----- \n",
      " 0   TITLE          11687 non-null  object\n",
      " 1   RESTAURANT_ID  12690 non-null  int64 \n",
      " 2   CUISINES       12690 non-null  object\n",
      " 3   TIME           12690 non-null  object\n",
      " 4   CITY           12578 non-null  object\n",
      " 5   LOCALITY       12592 non-null  object\n",
      " 6   RATING         12688 non-null  object\n",
      " 7   VOTES          11486 non-null  object\n",
      " 8   COST           12690 non-null  int64 \n",
      "dtypes: int64(2), object(7)\n",
      "memory usage: 892.4+ KB\n"
     ]
    }
   ],
   "source": [
    "df_train.info()"
   ]
  },
  {
   "cell_type": "markdown",
   "id": "d517b4a3",
   "metadata": {},
   "source": [
    "- The dataset has 12690 rows and 9 columns. We need predict the cost of food based on the features provided. Hence the target is cost. \n",
    "- Since the target column id Cost, hence we need to apply regression models for prediction.\n",
    "- Accept RESTAURANT_ID and COST all the other columns are of object type.\n",
    "- We can observe null values are present in the dataset. Need to perform further analysis.\n",
    "- From the above analysis we can observed that the feature RESTAURANT_ID is used as indexing purpose. Hence we can drop it from the dataset. \n",
    "- Feature Vote and rating are of object type in the dataset. However, we can observe that both the features are of integer nature. Hence, we need to convert the features into integer.\n",
    "- The string votes present in the VOTES feature has no value. Hence we need to remove it."
   ]
  },
  {
   "cell_type": "markdown",
   "id": "5f9bdc19",
   "metadata": {},
   "source": [
    "#### Removing the string votes from VOTES feature"
   ]
  },
  {
   "cell_type": "code",
   "execution_count": 9,
   "id": "7b987ba4",
   "metadata": {},
   "outputs": [],
   "source": [
    "df_train['VOTES']=df_train['VOTES'].str.replace(' votes','')"
   ]
  },
  {
   "cell_type": "markdown",
   "id": "80e439e2",
   "metadata": {},
   "source": [
    "#### Checking uniques values in categorical columns"
   ]
  },
  {
   "cell_type": "code",
   "execution_count": 10,
   "id": "cffdc8a4",
   "metadata": {},
   "outputs": [
    {
     "data": {
      "text/plain": [
       "['TITLE', 'CUISINES', 'TIME', 'CITY', 'LOCALITY']"
      ]
     },
     "execution_count": 10,
     "metadata": {},
     "output_type": "execute_result"
    }
   ],
   "source": [
    "cat_features=[feature for feature in df_train.columns if df_train[feature].dtypes=='O' and feature not in ['VOTES','RATING']]\n",
    "cat_features"
   ]
  },
  {
   "cell_type": "markdown",
   "id": "271e605c",
   "metadata": {},
   "source": [
    "#### Checking the count unique values in each categorical feature"
   ]
  },
  {
   "cell_type": "code",
   "execution_count": 11,
   "id": "940921eb",
   "metadata": {},
   "outputs": [
    {
     "name": "stdout",
     "output_type": "stream",
     "text": [
      "TITLE: Unique value count 113\n",
      "\n",
      "\n",
      "CUISINES: Unique value count 4155\n",
      "\n",
      "\n",
      "TIME: Unique value count 2689\n",
      "\n",
      "\n",
      "CITY: Unique value count 360\n",
      "\n",
      "\n",
      "LOCALITY: Unique value count 1417\n",
      "\n",
      "\n"
     ]
    }
   ],
   "source": [
    "for feature in cat_features:\n",
    "    count=len(df_train[feature].unique())\n",
    "    print('{}: Unique value count {}'.format(feature,count))\n",
    "    print('\\n')"
   ]
  },
  {
   "cell_type": "markdown",
   "id": "c05cc925",
   "metadata": {},
   "source": [
    "- High volume of unique categories can be observed in features CUISINES, TIME and LOCALITY.\n",
    "- Moderate amount of unique categories can be observed in CITY and TITLE."
   ]
  },
  {
   "cell_type": "markdown",
   "id": "ec1fb97f",
   "metadata": {},
   "source": [
    "#### Checking for null values"
   ]
  },
  {
   "cell_type": "code",
   "execution_count": 12,
   "id": "ebe1cab8",
   "metadata": {},
   "outputs": [],
   "source": [
    "def null_value_check(df_train):\n",
    "    for column in df_train.columns:\n",
    "        if column not in 'RESTAURANT_ID':\n",
    "            total_null_count=df_train[column].isnull().sum()\n",
    "            null_percentage=total_null_count*100/df_train.shape[0]\n",
    "            print('{} count = {}. Percentage = {:.2f}%'.format(column,total_null_count,null_percentage))"
   ]
  },
  {
   "cell_type": "code",
   "execution_count": 13,
   "id": "95845095",
   "metadata": {},
   "outputs": [
    {
     "name": "stdout",
     "output_type": "stream",
     "text": [
      "TITLE count = 1003. Percentage = 7.90%\n",
      "CUISINES count = 0. Percentage = 0.00%\n",
      "TIME count = 0. Percentage = 0.00%\n",
      "CITY count = 112. Percentage = 0.88%\n",
      "LOCALITY count = 98. Percentage = 0.77%\n",
      "RATING count = 2. Percentage = 0.02%\n",
      "VOTES count = 1204. Percentage = 9.49%\n",
      "COST count = 0. Percentage = 0.00%\n"
     ]
    }
   ],
   "source": [
    "null_value_check(df_train)"
   ]
  },
  {
   "cell_type": "markdown",
   "id": "9e3c3e78",
   "metadata": {},
   "source": [
    "- We can observe that high percentage of null values present in columns Title and Votes with 7.90% and 9.49%.\n",
    "- Column Votes, Locality and Rating has below 1% for null values present.\n",
    "- CUISINES and TIME has no null values present."
   ]
  },
  {
   "cell_type": "markdown",
   "id": "73674fd3",
   "metadata": {},
   "source": [
    "#### Removing null values"
   ]
  },
  {
   "cell_type": "markdown",
   "id": "9d8fd667",
   "metadata": {},
   "source": [
    "- RATING and VOTES are of integer. Hence it will be preplace with 0.\n",
    "- TITLE , CITY and LOCALITY are of object type. Hence null values will be replace with 'Not Available'."
   ]
  },
  {
   "cell_type": "markdown",
   "id": "5f899cc0",
   "metadata": {},
   "source": [
    "#### Replacing null values on RATING with 0"
   ]
  },
  {
   "cell_type": "code",
   "execution_count": 14,
   "id": "9da4bdb1",
   "metadata": {},
   "outputs": [],
   "source": [
    "df_train['RATING'].fillna(0,inplace=True)"
   ]
  },
  {
   "cell_type": "markdown",
   "id": "c51222f1",
   "metadata": {},
   "source": [
    "#### Replacing null values in VOTES with 0"
   ]
  },
  {
   "cell_type": "code",
   "execution_count": 15,
   "id": "bc1f1def",
   "metadata": {},
   "outputs": [],
   "source": [
    "df_train['VOTES'].fillna(0,inplace=True)"
   ]
  },
  {
   "cell_type": "markdown",
   "id": "cde5bec3",
   "metadata": {},
   "source": [
    "#### Replacing null values in TITLE with Not Available"
   ]
  },
  {
   "cell_type": "code",
   "execution_count": 16,
   "id": "9d24e30a",
   "metadata": {},
   "outputs": [],
   "source": [
    "df_train['TITLE'].fillna('Not Available',inplace=True)"
   ]
  },
  {
   "cell_type": "markdown",
   "id": "9306227c",
   "metadata": {},
   "source": [
    "#### Replacing null values in CITY with Not Available"
   ]
  },
  {
   "cell_type": "code",
   "execution_count": 17,
   "id": "fb29ac31",
   "metadata": {},
   "outputs": [],
   "source": [
    "df_train['CITY'].fillna('Not Available',inplace=True)"
   ]
  },
  {
   "cell_type": "markdown",
   "id": "77701b9a",
   "metadata": {},
   "source": [
    "#### Replacing null values in LOCALITY with Not Available"
   ]
  },
  {
   "cell_type": "code",
   "execution_count": 18,
   "id": "4b105ba4",
   "metadata": {},
   "outputs": [],
   "source": [
    "df_train['LOCALITY'].fillna('Not Available',inplace=True)"
   ]
  },
  {
   "cell_type": "markdown",
   "id": "8ca58844",
   "metadata": {},
   "source": [
    "#### Verifying Null value presence"
   ]
  },
  {
   "cell_type": "code",
   "execution_count": 19,
   "id": "9fd6eced",
   "metadata": {},
   "outputs": [
    {
     "name": "stdout",
     "output_type": "stream",
     "text": [
      "TITLE count = 0. Percentage = 0.00%\n",
      "CUISINES count = 0. Percentage = 0.00%\n",
      "TIME count = 0. Percentage = 0.00%\n",
      "CITY count = 0. Percentage = 0.00%\n",
      "LOCALITY count = 0. Percentage = 0.00%\n",
      "RATING count = 0. Percentage = 0.00%\n",
      "VOTES count = 0. Percentage = 0.00%\n",
      "COST count = 0. Percentage = 0.00%\n"
     ]
    }
   ],
   "source": [
    "null_value_check(df_train)"
   ]
  },
  {
   "cell_type": "markdown",
   "id": "d1632116",
   "metadata": {},
   "source": [
    "- All null values are removed. No null value presence observed."
   ]
  },
  {
   "cell_type": "markdown",
   "id": "645b176b",
   "metadata": {},
   "source": [
    "### Typecasting object to  integer"
   ]
  },
  {
   "cell_type": "markdown",
   "id": "d5e503cc",
   "metadata": {},
   "source": [
    "We can observe that the feature RATING and VOTES are of numerical nature. However, it is present in the dataset as object. Hence we need to change its data types as integer."
   ]
  },
  {
   "cell_type": "markdown",
   "id": "11dc7d3b",
   "metadata": {},
   "source": [
    "Checking for uniuqe values in RATING and VOTES"
   ]
  },
  {
   "cell_type": "code",
   "execution_count": 20,
   "id": "46079537",
   "metadata": {},
   "outputs": [
    {
     "data": {
      "text/plain": [
       "array(['49', '30', '221', ..., '2723', '1426', '1214'], dtype=object)"
      ]
     },
     "execution_count": 20,
     "metadata": {},
     "output_type": "execute_result"
    }
   ],
   "source": [
    "df_train['VOTES'].unique()"
   ]
  },
  {
   "cell_type": "code",
   "execution_count": 21,
   "id": "fd4ef04c",
   "metadata": {},
   "outputs": [
    {
     "data": {
      "text/plain": [
       "array(['3.6', '4.2', '3.8', '4.1', '4.0', '4.3', '3.9', '3.3', '3.4', '-',\n",
       "       '4.5', '3.5', '4.4', '2.7', '3.7', '4.7', 'NEW', '3.1', '2.5',\n",
       "       '4.6', '2.8', 0, '3.0', '3.2', '2.6', '2.9', '4.9', '4.8', '2.4',\n",
       "       '2.3', '2.0', '2.1', '2.2'], dtype=object)"
      ]
     },
     "execution_count": 21,
     "metadata": {},
     "output_type": "execute_result"
    }
   ],
   "source": [
    "df_train['RATING'].unique()"
   ]
  },
  {
   "cell_type": "markdown",
   "id": "aa529776",
   "metadata": {},
   "source": [
    "- We can observe that RATING has values such as 'NEW' and '-'."
   ]
  },
  {
   "cell_type": "markdown",
   "id": "e7d7b477",
   "metadata": {},
   "source": [
    "Checking the count of value '-' in RATING"
   ]
  },
  {
   "cell_type": "code",
   "execution_count": 22,
   "id": "229590e7",
   "metadata": {},
   "outputs": [
    {
     "data": {
      "text/plain": [
       "495"
      ]
     },
     "execution_count": 22,
     "metadata": {},
     "output_type": "execute_result"
    }
   ],
   "source": [
    "count=(df_train['RATING']=='-').sum()\n",
    "count"
   ]
  },
  {
   "cell_type": "markdown",
   "id": "965bd15f",
   "metadata": {},
   "source": [
    "- There are total of 495 '-' present in RATING"
   ]
  },
  {
   "cell_type": "markdown",
   "id": "b0eb77e2",
   "metadata": {},
   "source": [
    "Replacing '-' with value 0"
   ]
  },
  {
   "cell_type": "code",
   "execution_count": 23,
   "id": "64744ea6",
   "metadata": {},
   "outputs": [],
   "source": [
    "df_train['RATING']=df_train['RATING'].str.replace('-','0')"
   ]
  },
  {
   "cell_type": "code",
   "execution_count": 24,
   "id": "48244ff1",
   "metadata": {},
   "outputs": [
    {
     "data": {
      "text/plain": [
       "0"
      ]
     },
     "execution_count": 24,
     "metadata": {},
     "output_type": "execute_result"
    }
   ],
   "source": [
    "count=(df_train['RATING']=='-').sum()\n",
    "count"
   ]
  },
  {
   "cell_type": "markdown",
   "id": "1fe5807c",
   "metadata": {},
   "source": [
    "Checking the count of value 'NEW' in RATING"
   ]
  },
  {
   "cell_type": "code",
   "execution_count": 25,
   "id": "8d40c8fe",
   "metadata": {},
   "outputs": [
    {
     "data": {
      "text/plain": [
       "707"
      ]
     },
     "execution_count": 25,
     "metadata": {},
     "output_type": "execute_result"
    }
   ],
   "source": [
    "count=(df_train['RATING']=='NEW').sum()\n",
    "count"
   ]
  },
  {
   "cell_type": "markdown",
   "id": "c3cc1672",
   "metadata": {},
   "source": [
    "Replacing 'NEW' with value 0"
   ]
  },
  {
   "cell_type": "code",
   "execution_count": 26,
   "id": "35372392",
   "metadata": {},
   "outputs": [],
   "source": [
    "df_train['RATING']=df_train['RATING'].str.replace('NEW','0')"
   ]
  },
  {
   "cell_type": "code",
   "execution_count": 27,
   "id": "15b0b3e9",
   "metadata": {},
   "outputs": [
    {
     "data": {
      "text/plain": [
       "0"
      ]
     },
     "execution_count": 27,
     "metadata": {},
     "output_type": "execute_result"
    }
   ],
   "source": [
    "count=(df_train['RATING']=='NEW').sum()\n",
    "count"
   ]
  },
  {
   "cell_type": "markdown",
   "id": "6c0affe1",
   "metadata": {},
   "source": [
    "Typecasting VOTES feature as Integer"
   ]
  },
  {
   "cell_type": "code",
   "execution_count": 28,
   "id": "0446145f",
   "metadata": {},
   "outputs": [],
   "source": [
    "df_train['VOTES']=df_train['VOTES'].astype('int')"
   ]
  },
  {
   "cell_type": "markdown",
   "id": "2038c07d",
   "metadata": {},
   "source": [
    "Typecasting RATING feature into float"
   ]
  },
  {
   "cell_type": "code",
   "execution_count": 29,
   "id": "89503126",
   "metadata": {},
   "outputs": [],
   "source": [
    "df_train['RATING']=df_train['RATING'].astype('float')"
   ]
  },
  {
   "cell_type": "markdown",
   "id": "c4f3088c",
   "metadata": {},
   "source": [
    "Verifying the datatypes"
   ]
  },
  {
   "cell_type": "code",
   "execution_count": 30,
   "id": "08e351f9",
   "metadata": {},
   "outputs": [
    {
     "data": {
      "text/plain": [
       "TITLE             object\n",
       "RESTAURANT_ID      int64\n",
       "CUISINES          object\n",
       "TIME              object\n",
       "CITY              object\n",
       "LOCALITY          object\n",
       "RATING           float64\n",
       "VOTES              int32\n",
       "COST               int64\n",
       "dtype: object"
      ]
     },
     "execution_count": 30,
     "metadata": {},
     "output_type": "execute_result"
    }
   ],
   "source": [
    "df_train.dtypes"
   ]
  },
  {
   "cell_type": "markdown",
   "id": "40a9274f",
   "metadata": {},
   "source": [
    "#### Separating each CUISINES into a separate columns"
   ]
  },
  {
   "cell_type": "code",
   "execution_count": 31,
   "id": "fbdce9e1",
   "metadata": {},
   "outputs": [],
   "source": [
    "cuisines_split = df_train['CUISINES'].str.split(', ', expand=True)\n",
    "cuisines_split.columns = [f'CUISINE_{i+1}' for i in range(cuisines_split.shape[1])]\n",
    "df_train = pd.concat([df_train, cuisines_split], axis=1)"
   ]
  },
  {
   "cell_type": "code",
   "execution_count": 32,
   "id": "34985fe4",
   "metadata": {},
   "outputs": [],
   "source": [
    "df_train.drop('CUISINES', axis=1, inplace=True)"
   ]
  },
  {
   "cell_type": "markdown",
   "id": "c72e0295",
   "metadata": {},
   "source": [
    "#### Separating each Title into a separate columns"
   ]
  },
  {
   "cell_type": "code",
   "execution_count": 33,
   "id": "b7d09d72",
   "metadata": {},
   "outputs": [],
   "source": [
    "title_split = df_train['TITLE'].str.split(',', expand=True)\n",
    "title_split.columns = [f'TITLE_{i+1}' for i in range(title_split.shape[1])]\n",
    "df_train = pd.concat([df_train, title_split], axis=1)"
   ]
  },
  {
   "cell_type": "code",
   "execution_count": 34,
   "id": "ccbad030",
   "metadata": {},
   "outputs": [],
   "source": [
    "df_train.drop('TITLE', axis=1, inplace=True)"
   ]
  },
  {
   "cell_type": "markdown",
   "id": "5d80ad82",
   "metadata": {},
   "source": [
    "#### Analysing TIME column"
   ]
  },
  {
   "cell_type": "code",
   "execution_count": 35,
   "id": "21e1f2f7",
   "metadata": {},
   "outputs": [
    {
     "data": {
      "text/plain": [
       "2689"
      ]
     },
     "execution_count": 35,
     "metadata": {},
     "output_type": "execute_result"
    }
   ],
   "source": [
    "df_train['TIME'].nunique()"
   ]
  },
  {
   "cell_type": "markdown",
   "id": "5a766173",
   "metadata": {},
   "source": [
    "- Total 2689 unique time are present "
   ]
  },
  {
   "cell_type": "code",
   "execution_count": 36,
   "id": "34fbb2f0",
   "metadata": {},
   "outputs": [
    {
     "data": {
      "text/plain": [
       "array(['11am – 4pm, 7:30pm – 11:30pm (Mon-Sun)', '6pm – 11pm (Mon-Sun)',\n",
       "       '11am – 3:30pm, 7pm – 11pm (Mon-Sun)', ...,\n",
       "       '12:1pm – 4am (Mon-Sun)', '12:30pm – 9:45pm (Mon-Sun)',\n",
       "       '12noon – 1am (Mon-Fri),11am – 5pm, 7pm – 1am...'], dtype=object)"
      ]
     },
     "execution_count": 36,
     "metadata": {},
     "output_type": "execute_result"
    }
   ],
   "source": [
    "df_train['TIME'].unique()"
   ]
  },
  {
   "cell_type": "markdown",
   "id": "0389ca27",
   "metadata": {},
   "source": [
    "- We will remove the time column from the due to large unique values present"
   ]
  },
  {
   "cell_type": "markdown",
   "id": "fe849215",
   "metadata": {},
   "source": [
    "#### Dropping TIME column"
   ]
  },
  {
   "cell_type": "code",
   "execution_count": 37,
   "id": "c8e79fee",
   "metadata": {},
   "outputs": [],
   "source": [
    "df_train.drop('TIME',axis=1,inplace=True)"
   ]
  },
  {
   "cell_type": "markdown",
   "id": "0024e4a6",
   "metadata": {},
   "source": [
    "#### Dropping RESTAURANT_ID"
   ]
  },
  {
   "cell_type": "code",
   "execution_count": 38,
   "id": "81a83c47",
   "metadata": {},
   "outputs": [],
   "source": [
    "df_train.drop('RESTAURANT_ID',axis=1,inplace=True)"
   ]
  },
  {
   "cell_type": "markdown",
   "id": "1078181b",
   "metadata": {},
   "source": [
    "#### Checking the revised columns"
   ]
  },
  {
   "cell_type": "code",
   "execution_count": 39,
   "id": "ba36a26f",
   "metadata": {},
   "outputs": [
    {
     "data": {
      "text/plain": [
       "['CITY',\n",
       " 'LOCALITY',\n",
       " 'RATING',\n",
       " 'VOTES',\n",
       " 'COST',\n",
       " 'CUISINE_1',\n",
       " 'CUISINE_2',\n",
       " 'CUISINE_3',\n",
       " 'CUISINE_4',\n",
       " 'CUISINE_5',\n",
       " 'CUISINE_6',\n",
       " 'CUISINE_7',\n",
       " 'CUISINE_8',\n",
       " 'TITLE_1',\n",
       " 'TITLE_2']"
      ]
     },
     "execution_count": 39,
     "metadata": {},
     "output_type": "execute_result"
    }
   ],
   "source": [
    "df_train.columns.to_list()"
   ]
  },
  {
   "cell_type": "markdown",
   "id": "487503e0",
   "metadata": {},
   "source": [
    "#### Rearranging the columns for better analysis"
   ]
  },
  {
   "cell_type": "code",
   "execution_count": 40,
   "id": "387e387a",
   "metadata": {},
   "outputs": [],
   "source": [
    "rearrange=['TITLE_1','TITLE_2',\n",
    "           'CUISINE_1','CUISINE_2','CUISINE_3','CUISINE_4','CUISINE_5','CUISINE_6','CUISINE_7','CUISINE_8',\n",
    "           'CITY',\n",
    "           'LOCALITY',\n",
    "           'RATING',\n",
    "           'VOTES',\n",
    "           'COST'\n",
    "          ]"
   ]
  },
  {
   "cell_type": "code",
   "execution_count": 41,
   "id": "c4d78e08",
   "metadata": {},
   "outputs": [],
   "source": [
    "df_train=df_train[rearrange]"
   ]
  },
  {
   "cell_type": "code",
   "execution_count": 42,
   "id": "5ea92553",
   "metadata": {},
   "outputs": [
    {
     "data": {
      "text/html": [
       "<div>\n",
       "<style scoped>\n",
       "    .dataframe tbody tr th:only-of-type {\n",
       "        vertical-align: middle;\n",
       "    }\n",
       "\n",
       "    .dataframe tbody tr th {\n",
       "        vertical-align: top;\n",
       "    }\n",
       "\n",
       "    .dataframe thead th {\n",
       "        text-align: right;\n",
       "    }\n",
       "</style>\n",
       "<table border=\"1\" class=\"dataframe\">\n",
       "  <thead>\n",
       "    <tr style=\"text-align: right;\">\n",
       "      <th></th>\n",
       "      <th>TITLE_1</th>\n",
       "      <th>TITLE_2</th>\n",
       "      <th>CUISINE_1</th>\n",
       "      <th>CUISINE_2</th>\n",
       "      <th>CUISINE_3</th>\n",
       "      <th>CUISINE_4</th>\n",
       "      <th>CUISINE_5</th>\n",
       "      <th>CUISINE_6</th>\n",
       "      <th>CUISINE_7</th>\n",
       "      <th>CUISINE_8</th>\n",
       "      <th>CITY</th>\n",
       "      <th>LOCALITY</th>\n",
       "      <th>RATING</th>\n",
       "      <th>VOTES</th>\n",
       "      <th>COST</th>\n",
       "    </tr>\n",
       "  </thead>\n",
       "  <tbody>\n",
       "    <tr>\n",
       "      <th>0</th>\n",
       "      <td>CASUAL DINING</td>\n",
       "      <td>None</td>\n",
       "      <td>Malwani</td>\n",
       "      <td>Goan</td>\n",
       "      <td>North Indian</td>\n",
       "      <td>None</td>\n",
       "      <td>None</td>\n",
       "      <td>None</td>\n",
       "      <td>None</td>\n",
       "      <td>None</td>\n",
       "      <td>Thane</td>\n",
       "      <td>Dombivali East</td>\n",
       "      <td>3.6</td>\n",
       "      <td>49</td>\n",
       "      <td>1200</td>\n",
       "    </tr>\n",
       "    <tr>\n",
       "      <th>1</th>\n",
       "      <td>CASUAL DINING</td>\n",
       "      <td>BAR</td>\n",
       "      <td>Asian</td>\n",
       "      <td>Modern Indian</td>\n",
       "      <td>Japanese</td>\n",
       "      <td>None</td>\n",
       "      <td>None</td>\n",
       "      <td>None</td>\n",
       "      <td>None</td>\n",
       "      <td>None</td>\n",
       "      <td>Chennai</td>\n",
       "      <td>Ramapuram</td>\n",
       "      <td>4.2</td>\n",
       "      <td>30</td>\n",
       "      <td>1500</td>\n",
       "    </tr>\n",
       "    <tr>\n",
       "      <th>2</th>\n",
       "      <td>CASUAL DINING</td>\n",
       "      <td>None</td>\n",
       "      <td>North Indian</td>\n",
       "      <td>Chinese</td>\n",
       "      <td>Biryani</td>\n",
       "      <td>Hyderabadi</td>\n",
       "      <td>None</td>\n",
       "      <td>None</td>\n",
       "      <td>None</td>\n",
       "      <td>None</td>\n",
       "      <td>Chennai</td>\n",
       "      <td>Saligramam</td>\n",
       "      <td>3.8</td>\n",
       "      <td>221</td>\n",
       "      <td>800</td>\n",
       "    </tr>\n",
       "    <tr>\n",
       "      <th>3</th>\n",
       "      <td>QUICK BITES</td>\n",
       "      <td>None</td>\n",
       "      <td>Tibetan</td>\n",
       "      <td>Chinese</td>\n",
       "      <td>None</td>\n",
       "      <td>None</td>\n",
       "      <td>None</td>\n",
       "      <td>None</td>\n",
       "      <td>None</td>\n",
       "      <td>None</td>\n",
       "      <td>Mumbai</td>\n",
       "      <td>Bandra West</td>\n",
       "      <td>4.1</td>\n",
       "      <td>24</td>\n",
       "      <td>800</td>\n",
       "    </tr>\n",
       "    <tr>\n",
       "      <th>4</th>\n",
       "      <td>DESSERT PARLOR</td>\n",
       "      <td>None</td>\n",
       "      <td>Desserts</td>\n",
       "      <td>None</td>\n",
       "      <td>None</td>\n",
       "      <td>None</td>\n",
       "      <td>None</td>\n",
       "      <td>None</td>\n",
       "      <td>None</td>\n",
       "      <td>None</td>\n",
       "      <td>Mumbai</td>\n",
       "      <td>Lower Parel</td>\n",
       "      <td>3.8</td>\n",
       "      <td>165</td>\n",
       "      <td>300</td>\n",
       "    </tr>\n",
       "    <tr>\n",
       "      <th>...</th>\n",
       "      <td>...</td>\n",
       "      <td>...</td>\n",
       "      <td>...</td>\n",
       "      <td>...</td>\n",
       "      <td>...</td>\n",
       "      <td>...</td>\n",
       "      <td>...</td>\n",
       "      <td>...</td>\n",
       "      <td>...</td>\n",
       "      <td>...</td>\n",
       "      <td>...</td>\n",
       "      <td>...</td>\n",
       "      <td>...</td>\n",
       "      <td>...</td>\n",
       "      <td>...</td>\n",
       "    </tr>\n",
       "    <tr>\n",
       "      <th>12685</th>\n",
       "      <td>QUICK BITES</td>\n",
       "      <td>None</td>\n",
       "      <td>North Indian</td>\n",
       "      <td>Burger</td>\n",
       "      <td>Kebab</td>\n",
       "      <td>None</td>\n",
       "      <td>None</td>\n",
       "      <td>None</td>\n",
       "      <td>None</td>\n",
       "      <td>None</td>\n",
       "      <td>Hyderabad</td>\n",
       "      <td>Gachibowli</td>\n",
       "      <td>3.8</td>\n",
       "      <td>546</td>\n",
       "      <td>500</td>\n",
       "    </tr>\n",
       "    <tr>\n",
       "      <th>12686</th>\n",
       "      <td>CASUAL DINING</td>\n",
       "      <td>BAR</td>\n",
       "      <td>Goan</td>\n",
       "      <td>Continental</td>\n",
       "      <td>None</td>\n",
       "      <td>None</td>\n",
       "      <td>None</td>\n",
       "      <td>None</td>\n",
       "      <td>None</td>\n",
       "      <td>None</td>\n",
       "      <td>Mumbai</td>\n",
       "      <td>Bandra Kurla Complex</td>\n",
       "      <td>4.3</td>\n",
       "      <td>1214</td>\n",
       "      <td>1800</td>\n",
       "    </tr>\n",
       "    <tr>\n",
       "      <th>12687</th>\n",
       "      <td>LOUNGE</td>\n",
       "      <td>None</td>\n",
       "      <td>Finger Food</td>\n",
       "      <td>Continental</td>\n",
       "      <td>Asian</td>\n",
       "      <td>Chinese</td>\n",
       "      <td>None</td>\n",
       "      <td>None</td>\n",
       "      <td>None</td>\n",
       "      <td>None</td>\n",
       "      <td>Navi Mumbai</td>\n",
       "      <td>Vashi</td>\n",
       "      <td>4.0</td>\n",
       "      <td>608</td>\n",
       "      <td>1300</td>\n",
       "    </tr>\n",
       "    <tr>\n",
       "      <th>12688</th>\n",
       "      <td>CASUAL DINING</td>\n",
       "      <td>None</td>\n",
       "      <td>North Indian</td>\n",
       "      <td>South Indian</td>\n",
       "      <td>Chinese</td>\n",
       "      <td>Street Food</td>\n",
       "      <td>None</td>\n",
       "      <td>None</td>\n",
       "      <td>None</td>\n",
       "      <td>None</td>\n",
       "      <td>Chennai</td>\n",
       "      <td>Maduravoyal</td>\n",
       "      <td>3.5</td>\n",
       "      <td>32</td>\n",
       "      <td>400</td>\n",
       "    </tr>\n",
       "    <tr>\n",
       "      <th>12689</th>\n",
       "      <td>CASUAL DINING</td>\n",
       "      <td>None</td>\n",
       "      <td>North Indian</td>\n",
       "      <td>Chinese</td>\n",
       "      <td>None</td>\n",
       "      <td>None</td>\n",
       "      <td>None</td>\n",
       "      <td>None</td>\n",
       "      <td>None</td>\n",
       "      <td>None</td>\n",
       "      <td>Hyderabad</td>\n",
       "      <td>Vanasthalipuram</td>\n",
       "      <td>3.4</td>\n",
       "      <td>677</td>\n",
       "      <td>600</td>\n",
       "    </tr>\n",
       "  </tbody>\n",
       "</table>\n",
       "<p>12690 rows × 15 columns</p>\n",
       "</div>"
      ],
      "text/plain": [
       "              TITLE_1 TITLE_2     CUISINE_1      CUISINE_2     CUISINE_3  \\\n",
       "0       CASUAL DINING    None       Malwani           Goan  North Indian   \n",
       "1       CASUAL DINING     BAR         Asian  Modern Indian      Japanese   \n",
       "2       CASUAL DINING    None  North Indian        Chinese       Biryani   \n",
       "3         QUICK BITES    None       Tibetan        Chinese          None   \n",
       "4      DESSERT PARLOR    None      Desserts           None          None   \n",
       "...               ...     ...           ...            ...           ...   \n",
       "12685     QUICK BITES    None  North Indian         Burger         Kebab   \n",
       "12686   CASUAL DINING     BAR          Goan    Continental          None   \n",
       "12687          LOUNGE    None   Finger Food    Continental         Asian   \n",
       "12688   CASUAL DINING    None  North Indian   South Indian       Chinese   \n",
       "12689   CASUAL DINING    None  North Indian        Chinese          None   \n",
       "\n",
       "         CUISINE_4 CUISINE_5 CUISINE_6 CUISINE_7 CUISINE_8         CITY  \\\n",
       "0             None      None      None      None      None        Thane   \n",
       "1             None      None      None      None      None      Chennai   \n",
       "2       Hyderabadi      None      None      None      None      Chennai   \n",
       "3             None      None      None      None      None       Mumbai   \n",
       "4             None      None      None      None      None       Mumbai   \n",
       "...            ...       ...       ...       ...       ...          ...   \n",
       "12685         None      None      None      None      None    Hyderabad   \n",
       "12686         None      None      None      None      None       Mumbai   \n",
       "12687      Chinese      None      None      None      None  Navi Mumbai   \n",
       "12688  Street Food      None      None      None      None      Chennai   \n",
       "12689         None      None      None      None      None    Hyderabad   \n",
       "\n",
       "                   LOCALITY  RATING  VOTES  COST  \n",
       "0            Dombivali East     3.6     49  1200  \n",
       "1                 Ramapuram     4.2     30  1500  \n",
       "2                Saligramam     3.8    221   800  \n",
       "3               Bandra West     4.1     24   800  \n",
       "4               Lower Parel     3.8    165   300  \n",
       "...                     ...     ...    ...   ...  \n",
       "12685            Gachibowli     3.8    546   500  \n",
       "12686  Bandra Kurla Complex     4.3   1214  1800  \n",
       "12687                 Vashi     4.0    608  1300  \n",
       "12688           Maduravoyal     3.5     32   400  \n",
       "12689       Vanasthalipuram     3.4    677   600  \n",
       "\n",
       "[12690 rows x 15 columns]"
      ]
     },
     "execution_count": 42,
     "metadata": {},
     "output_type": "execute_result"
    }
   ],
   "source": [
    "df_train"
   ]
  },
  {
   "cell_type": "markdown",
   "id": "6dddcb11",
   "metadata": {},
   "source": [
    "#### Checking for Null values"
   ]
  },
  {
   "cell_type": "code",
   "execution_count": 43,
   "id": "b482037d",
   "metadata": {},
   "outputs": [
    {
     "name": "stdout",
     "output_type": "stream",
     "text": [
      "TITLE_1 count = 0. Percentage = 0.00%\n",
      "TITLE_2 count = 11208. Percentage = 88.32%\n",
      "CUISINE_1 count = 0. Percentage = 0.00%\n",
      "CUISINE_2 count = 3062. Percentage = 24.13%\n",
      "CUISINE_3 count = 6999. Percentage = 55.15%\n",
      "CUISINE_4 count = 9995. Percentage = 78.76%\n",
      "CUISINE_5 count = 11675. Percentage = 92.00%\n",
      "CUISINE_6 count = 12277. Percentage = 96.75%\n",
      "CUISINE_7 count = 12539. Percentage = 98.81%\n",
      "CUISINE_8 count = 12665. Percentage = 99.80%\n",
      "CITY count = 0. Percentage = 0.00%\n",
      "LOCALITY count = 0. Percentage = 0.00%\n",
      "RATING count = 2. Percentage = 0.02%\n",
      "VOTES count = 0. Percentage = 0.00%\n",
      "COST count = 0. Percentage = 0.00%\n"
     ]
    }
   ],
   "source": [
    "null_value_check(df_train)"
   ]
  },
  {
   "cell_type": "markdown",
   "id": "305fecd6",
   "metadata": {},
   "source": [
    "#### Checking unique values in TITLE_2"
   ]
  },
  {
   "cell_type": "code",
   "execution_count": 44,
   "id": "ddbc6e96",
   "metadata": {},
   "outputs": [
    {
     "data": {
      "text/plain": [
       "array([None, 'BAR', 'BEVERAGE SHOP', 'IRANI CAFE', 'QUICK BITES',\n",
       "       'CASUAL DINING', 'DESSERT PARLOR', 'SWEET SHOP', 'LOUNGE',\n",
       "       'FOOD COURT', 'KIOSK', 'CAFÉ', 'CONFECTIONERY', 'MICROBREWERY',\n",
       "       'PUB', 'BAKERY', 'CLUB', 'FINE DINING', 'FOOD TRUCK', 'PAAN SHOP'],\n",
       "      dtype=object)"
      ]
     },
     "execution_count": 44,
     "metadata": {},
     "output_type": "execute_result"
    }
   ],
   "source": [
    "df_train['TITLE_2'].unique()"
   ]
  },
  {
   "cell_type": "markdown",
   "id": "790d1002",
   "metadata": {},
   "source": [
    "#### Checking unique values in CUISINE_2"
   ]
  },
  {
   "cell_type": "code",
   "execution_count": 45,
   "id": "74c17d13",
   "metadata": {},
   "outputs": [
    {
     "data": {
      "text/plain": [
       "array(['Goan', 'Modern Indian', 'Chinese', None, 'North Indian', 'Burger',\n",
       "       'Mughlai', 'Hyderabadi', 'Fast Food', 'Thai', 'European', 'Rolls',\n",
       "       'Italian', 'Continental', 'Tea', 'Coffee', 'Indonesian',\n",
       "       'Healthy Food', 'South Indian', 'Nepalese', 'Pizza', 'Desserts',\n",
       "       'Beverages', 'Street Food', 'Momos', 'Mithai', 'Biryani',\n",
       "       'Japanese', 'Mexican', 'Iranian', 'Kebab', 'Sandwich', 'Andhra',\n",
       "       'Seafood', 'Rajasthani', 'Tex-Mex', 'Kerala', 'Arabian',\n",
       "       'Ice Cream', 'American', 'Chettinad', 'Lebanese', 'Asian',\n",
       "       'Mediterranean', 'Juices', 'Finger Food', 'French', 'Gujarati',\n",
       "       'Bakery', 'Wraps', 'Lucknowi', 'Konkan', 'Cafe', 'Sushi', 'Salad',\n",
       "       'Bubble Tea', 'Afghan', 'BBQ', 'Awadhi', 'Maharashtrian',\n",
       "       'North Eastern', 'Bengali', 'Bihari', 'Malaysian', 'German',\n",
       "       'Turkish', 'Tibetan', 'Cantonese', 'Oriya', 'Kashmiri', 'Malwani',\n",
       "       'Mangalorean', 'Parsi', 'Korean', 'Burmese', 'Vietnamese', 'Tamil',\n",
       "       'Bar Food', 'Indian', 'Middle Eastern', 'Portuguese', 'Naga',\n",
       "       'Belgian', 'Sindhi', 'Roast Chicken', 'Spanish',\n",
       "       'Charcoal Chicken', 'Singaporean', 'Steak', 'Russian', 'Panini',\n",
       "       'Greek', 'Pakistani', 'Pan Asian', 'Oriental', 'British',\n",
       "       'Assamese', 'Grill', 'Sri Lankan'], dtype=object)"
      ]
     },
     "execution_count": 45,
     "metadata": {},
     "output_type": "execute_result"
    }
   ],
   "source": [
    "df_train['CUISINE_2'].unique()"
   ]
  },
  {
   "cell_type": "markdown",
   "id": "cbc52db1",
   "metadata": {},
   "source": [
    "#### Checking unique values in CUISINE_3"
   ]
  },
  {
   "cell_type": "code",
   "execution_count": 46,
   "id": "6008ad6e",
   "metadata": {},
   "outputs": [
    {
     "data": {
      "text/plain": [
       "array(['North Indian', 'Japanese', 'Biryani', None, 'Seafood', 'Pizza',\n",
       "       'Fast Food', 'Beverages', 'Chinese', 'Momos', 'Mughlai', 'BBQ',\n",
       "       'Continental', 'Asian', 'European', 'Tea', 'Korean', 'American',\n",
       "       'Mexican', 'Indian', 'Burger', 'Healthy Food', 'Thai', 'Italian',\n",
       "       'Sandwich', 'Maharashtrian', 'Roast Chicken', 'South Indian',\n",
       "       'Ice Cream', 'Rolls', 'Chettinad', 'Kebab', 'Hyderabadi',\n",
       "       'North Eastern', 'Lebanese', 'Cafe', 'Salad', 'Desserts', 'Mithai',\n",
       "       'Street Food', 'Andhra', 'Lucknowi', 'Bengali', 'Steak',\n",
       "       'Sri Lankan', 'Arabian', 'Juices', 'Coffee', 'Mediterranean',\n",
       "       'Kerala', 'Indonesian', 'Malaysian', 'French', 'Bakery',\n",
       "       'Rajasthani', 'Wraps', 'Vietnamese', 'Grill', 'Singaporean',\n",
       "       'Malwani', 'Finger Food', 'Modern Indian', 'Sushi', 'Goan',\n",
       "       'Hot Pot', 'Mangalorean', 'Burmese', 'Afghan', 'Drinks Only',\n",
       "       'Moroccan', 'Panini', 'Tex-Mex', 'Awadhi', 'Bar Food',\n",
       "       'Charcoal Chicken', 'Turkish', 'Belgian', 'Oriya', 'Tibetan',\n",
       "       'Parsi', 'Kashmiri', 'Spanish', 'Paan', 'Konkan', 'British',\n",
       "       'Naga', 'Gujarati', 'Fusion', 'Peruvian', 'Middle Eastern',\n",
       "       'Mongolian', 'Cantonese', 'Modern Australian', 'Bubble Tea'],\n",
       "      dtype=object)"
      ]
     },
     "execution_count": 46,
     "metadata": {},
     "output_type": "execute_result"
    }
   ],
   "source": [
    "df_train['CUISINE_3'].unique()"
   ]
  },
  {
   "cell_type": "markdown",
   "id": "8f6a87d7",
   "metadata": {},
   "source": [
    "#### Checking unique values in CUISINE_4"
   ]
  },
  {
   "cell_type": "code",
   "execution_count": 47,
   "id": "473a8302",
   "metadata": {},
   "outputs": [
    {
     "data": {
      "text/plain": [
       "array([None, 'Hyderabadi', 'Biryani', 'North Indian', 'Rolls', 'Italian',\n",
       "       'American', 'Chinese', 'Healthy Food', 'Fast Food', 'Momos',\n",
       "       'Seafood', 'Malaysian', 'Thai', 'Beverages', 'Salad',\n",
       "       'Finger Food', 'Continental', 'Ice Cream', 'Rajasthani', 'Burmese',\n",
       "       'Mughlai', 'Coffee and Tea', 'Street Food', 'Japanese', 'Sandwich',\n",
       "       'Asian', 'Awadhi', 'European', 'Kebab', 'Juices', 'Mexican',\n",
       "       'Burger', 'South Indian', 'Desserts', 'Kerala', 'Goan',\n",
       "       'Modern Indian', 'BBQ', 'Mediterranean', 'Gujarati', 'Steak',\n",
       "       'Pizza', 'Afghan', 'Chettinad', 'Tea', 'Mithai', 'Indonesian',\n",
       "       'Bar Food', 'Bakery', 'Grill', 'Wraps', 'Konkan', 'Middle Eastern',\n",
       "       'Andhra', 'Korean', 'Vietnamese', 'Mangalorean', 'Malwani',\n",
       "       'Lebanese', 'Cafe', 'Tex-Mex', 'Spanish', 'Coffee', 'Arabian',\n",
       "       'Cafe Food', 'Sri Lankan', 'Mongolian', 'Sushi', 'Maharashtrian',\n",
       "       'Tibetan', 'Parsi', 'Turkish', 'Bengali', 'Indian', 'Iranian',\n",
       "       'Nepalese', 'Poké', 'Lucknowi', 'Cuisine Varies', 'French',\n",
       "       'Jewish', 'Oriya', 'British', 'Peruvian', 'Moroccan'], dtype=object)"
      ]
     },
     "execution_count": 47,
     "metadata": {},
     "output_type": "execute_result"
    }
   ],
   "source": [
    "df_train['CUISINE_4'].unique()"
   ]
  },
  {
   "cell_type": "markdown",
   "id": "06b3f134",
   "metadata": {},
   "source": [
    "#### Checking unique values in CUISINE_5"
   ]
  },
  {
   "cell_type": "code",
   "execution_count": 48,
   "id": "dd1bf02d",
   "metadata": {},
   "outputs": [
    {
     "data": {
      "text/plain": [
       "array([None, 'Burger', 'Healthy Food', 'Fast Food', 'Continental',\n",
       "       'Vietnamese', 'American', 'South Indian', 'Desserts', 'Chinese',\n",
       "       'Juices', 'Seafood', 'Grill', 'BBQ', 'Malaysian', 'Salad', 'Cafe',\n",
       "       'Goan', 'Japanese', 'Asian', 'Kebab', 'Pizza', 'Chettinad',\n",
       "       'Wraps', 'Beverages', 'Street Food', 'Momos', 'Andhra', 'Italian',\n",
       "       'Finger Food', 'Mughlai', 'North Indian', 'French', 'Rajasthani',\n",
       "       'Middle Eastern', 'Sandwich', 'Mithai', 'Pan Asian', 'Arabian',\n",
       "       'Thai', 'Tibetan', 'Hyderabadi', 'Coffee', 'Rolls', 'Sushi',\n",
       "       'Biryani', 'Mangalorean', 'European', 'German', 'Gujarati',\n",
       "       'Ice Cream', 'Malwani', 'Korean', 'Spanish', 'Steak', 'Indonesian',\n",
       "       'Singaporean', 'Mexican', 'Bengali', 'Maharashtrian', 'Bar Food',\n",
       "       'Kerala', 'Lucknowi', 'Lebanese', 'Poké', 'Mediterranean',\n",
       "       'Bakery', 'Fusion', 'Awadhi', 'Burmese', 'Bubble Tea', 'Kashmiri',\n",
       "       'Indian', 'Nepalese', 'European,', 'Afghan', 'Iranian', 'Tea',\n",
       "       'Modern Indian', 'Greek'], dtype=object)"
      ]
     },
     "execution_count": 48,
     "metadata": {},
     "output_type": "execute_result"
    }
   ],
   "source": [
    "df_train['CUISINE_5'].unique()"
   ]
  },
  {
   "cell_type": "markdown",
   "id": "245c9d7e",
   "metadata": {},
   "source": [
    "#### Checking unique values in CUISINE_6"
   ]
  },
  {
   "cell_type": "code",
   "execution_count": 49,
   "id": "ec6c4739",
   "metadata": {},
   "outputs": [
    {
     "data": {
      "text/plain": [
       "array([None, 'Japanese', 'Arabian', 'North Indian', 'Beverages', 'Asian',\n",
       "       'Pizza', 'Momos', 'Coffee', 'Kebab', 'Desserts', 'Rolls', 'Cafe',\n",
       "       'Sandwich', 'Burger', 'Salad,', 'Juices', 'Seafood',\n",
       "       'South Indian', 'Goan', 'Fast Food', 'Healthy Food,', 'Salad',\n",
       "       'Italian', 'Desserts,', 'Street Food', 'Burmese', 'Mexican',\n",
       "       'Sri Lankan', 'Steak', 'Kerala', 'Satay', 'Awadhi', 'Biryani',\n",
       "       'Chinese', 'Finger Food,', 'Lebanese', 'Mughlai', 'American',\n",
       "       'European', 'Continental', 'Malaysian', 'Wraps', 'Tea',\n",
       "       'Hyderabadi', 'Cafe Food,', 'Healthy Food', 'Konkan', 'Chinese,',\n",
       "       'Mediterranean', 'Bengali,', 'Kebab,', 'Thai', 'Mithai',\n",
       "       'Beverages,', 'Tex-Mex', 'Indian', 'Gujarati', 'Fast Food,',\n",
       "       'Finger Food', 'Cafe Food', 'Charcoal Chicken,', 'Ice Cream,',\n",
       "       'Sandwich,', 'Poké', 'Grill', 'Bar Food', 'Mediterranean,',\n",
       "       'Panini', 'French', 'Sushi', 'Vietnamese', 'Afghan', 'Ice Cream',\n",
       "       'Bakery', 'Vegan', 'South Indian,', 'Singaporean', 'Hyderabadi,',\n",
       "       'Arabian,', 'Parsi', 'Korean', 'Middle Eastern', 'North Indian,',\n",
       "       'Asian,', 'BBQ', 'Italian,'], dtype=object)"
      ]
     },
     "execution_count": 49,
     "metadata": {},
     "output_type": "execute_result"
    }
   ],
   "source": [
    "df_train['CUISINE_6'].unique()"
   ]
  },
  {
   "cell_type": "markdown",
   "id": "5b2059dd",
   "metadata": {},
   "source": [
    "#### Checking unique values in CUISINE_7"
   ]
  },
  {
   "cell_type": "code",
   "execution_count": 50,
   "id": "36a8e856",
   "metadata": {},
   "outputs": [
    {
     "data": {
      "text/plain": [
       "array([None, 'Biryani,', 'Tea', 'Burger', 'Sandwich', ',', 'European,',\n",
       "       'North Indian', 'Italian', 'BBQ', 'Vietnamese', 'Pizza',\n",
       "       'North Indian,', 'Salad', 'Dumplings,', 'Desserts', 'Burmese',\n",
       "       'Seafood', 'Beverages', 'French', 'Desserts,', 'Arabian,',\n",
       "       'Chinese,', 'Lucknowi,', 'Healthy Food,', 'Mangalorean', 'Momos',\n",
       "       'Indonesian', 'Mughlai', 'Chinese', 'Mediterranean,', 'Lebanese',\n",
       "       'Parsi', 'Juices,', 'Seafood,', 'Middle Eastern,', 'Continental',\n",
       "       'Bakery', 'Biryani', 'Salad,', 'Healthy Food', 'Kebab', 'Afghan',\n",
       "       'Lebanese,', 'Pizza,', 'Turkish', 'American', 'Thai',\n",
       "       'South Indian', 'Beverages,', 'American,', 'Sandwich,', 'Steak',\n",
       "       'Modern Indian,', 'Momos,', 'Coffee', 'Japanese,', 'Malaysian,',\n",
       "       'Rolls', 'Spanish'], dtype=object)"
      ]
     },
     "execution_count": 50,
     "metadata": {},
     "output_type": "execute_result"
    }
   ],
   "source": [
    "df_train['CUISINE_7'].unique()"
   ]
  },
  {
   "cell_type": "markdown",
   "id": "0e226111",
   "metadata": {},
   "source": [
    "#### Checking unique values in CUISINE_8"
   ]
  },
  {
   "cell_type": "code",
   "execution_count": 51,
   "id": "0f0fb4cb",
   "metadata": {},
   "outputs": [
    {
     "data": {
      "text/plain": [
       "array([None, 'Healthy Food', 'Pizza', 'Ice Cream', 'Lebanese', 'Desserts',\n",
       "       'Asian', 'Mexican', 'Fast Food', 'Rolls', 'Beverages', 'Chinese',\n",
       "       'Momos', 'North Indian', 'Burger', 'Coffee and Tea', 'Cafe Food',\n",
       "       'Salad', 'European'], dtype=object)"
      ]
     },
     "execution_count": 51,
     "metadata": {},
     "output_type": "execute_result"
    }
   ],
   "source": [
    "df_train['CUISINE_8'].unique()"
   ]
  },
  {
   "cell_type": "markdown",
   "id": "4ce47c17",
   "metadata": {},
   "source": [
    "#### Remove NULL from 'CUISINES'"
   ]
  },
  {
   "cell_type": "code",
   "execution_count": 52,
   "id": "ea62e00e",
   "metadata": {},
   "outputs": [],
   "source": [
    "df_train['CUISINE_2'].fillna('0',inplace=True)\n",
    "df_train['CUISINE_3'].fillna('0',inplace=True)\n",
    "df_train['CUISINE_4'].fillna('0',inplace=True)\n",
    "df_train['CUISINE_5'].fillna('0',inplace=True)\n",
    "df_train['CUISINE_6'].fillna('0',inplace=True)\n",
    "df_train['CUISINE_7'].fillna('0',inplace=True)\n",
    "df_train['CUISINE_8'].fillna('0',inplace=True)"
   ]
  },
  {
   "cell_type": "markdown",
   "id": "0358d424",
   "metadata": {},
   "source": [
    "#### Remove NULL from 'TITLE_2'"
   ]
  },
  {
   "cell_type": "code",
   "execution_count": 53,
   "id": "dd96087c",
   "metadata": {},
   "outputs": [],
   "source": [
    "df_train['TITLE_2'].fillna('0',inplace=True)"
   ]
  },
  {
   "cell_type": "markdown",
   "id": "19de8a5e",
   "metadata": {},
   "source": [
    "#### Checking the RATING Null values"
   ]
  },
  {
   "cell_type": "code",
   "execution_count": 54,
   "id": "38890247",
   "metadata": {},
   "outputs": [
    {
     "data": {
      "text/html": [
       "<div>\n",
       "<style scoped>\n",
       "    .dataframe tbody tr th:only-of-type {\n",
       "        vertical-align: middle;\n",
       "    }\n",
       "\n",
       "    .dataframe tbody tr th {\n",
       "        vertical-align: top;\n",
       "    }\n",
       "\n",
       "    .dataframe thead th {\n",
       "        text-align: right;\n",
       "    }\n",
       "</style>\n",
       "<table border=\"1\" class=\"dataframe\">\n",
       "  <thead>\n",
       "    <tr style=\"text-align: right;\">\n",
       "      <th></th>\n",
       "      <th>TITLE_1</th>\n",
       "      <th>TITLE_2</th>\n",
       "      <th>CUISINE_1</th>\n",
       "      <th>CUISINE_2</th>\n",
       "      <th>CUISINE_3</th>\n",
       "      <th>CUISINE_4</th>\n",
       "      <th>CUISINE_5</th>\n",
       "      <th>CUISINE_6</th>\n",
       "      <th>CUISINE_7</th>\n",
       "      <th>CUISINE_8</th>\n",
       "      <th>CITY</th>\n",
       "      <th>LOCALITY</th>\n",
       "      <th>RATING</th>\n",
       "      <th>VOTES</th>\n",
       "      <th>COST</th>\n",
       "    </tr>\n",
       "  </thead>\n",
       "  <tbody>\n",
       "    <tr>\n",
       "      <th>204</th>\n",
       "      <td>BAKERY</td>\n",
       "      <td>0</td>\n",
       "      <td>Bakery</td>\n",
       "      <td>0</td>\n",
       "      <td>0</td>\n",
       "      <td>0</td>\n",
       "      <td>0</td>\n",
       "      <td>0</td>\n",
       "      <td>0</td>\n",
       "      <td>0</td>\n",
       "      <td>Kochi</td>\n",
       "      <td>Marine Drive</td>\n",
       "      <td>NaN</td>\n",
       "      <td>0</td>\n",
       "      <td>200</td>\n",
       "    </tr>\n",
       "    <tr>\n",
       "      <th>421</th>\n",
       "      <td>CAFÉ</td>\n",
       "      <td>0</td>\n",
       "      <td>Cafe</td>\n",
       "      <td>Fast Food</td>\n",
       "      <td>0</td>\n",
       "      <td>0</td>\n",
       "      <td>0</td>\n",
       "      <td>0</td>\n",
       "      <td>0</td>\n",
       "      <td>0</td>\n",
       "      <td>Hyderabad</td>\n",
       "      <td>Banjara Hills</td>\n",
       "      <td>NaN</td>\n",
       "      <td>0</td>\n",
       "      <td>350</td>\n",
       "    </tr>\n",
       "  </tbody>\n",
       "</table>\n",
       "</div>"
      ],
      "text/plain": [
       "    TITLE_1 TITLE_2 CUISINE_1  CUISINE_2 CUISINE_3 CUISINE_4 CUISINE_5  \\\n",
       "204  BAKERY       0    Bakery          0         0         0         0   \n",
       "421    CAFÉ       0      Cafe  Fast Food         0         0         0   \n",
       "\n",
       "    CUISINE_6 CUISINE_7 CUISINE_8       CITY       LOCALITY  RATING  VOTES  \\\n",
       "204         0         0         0      Kochi   Marine Drive     NaN      0   \n",
       "421         0         0         0  Hyderabad  Banjara Hills     NaN      0   \n",
       "\n",
       "     COST  \n",
       "204   200  \n",
       "421   350  "
      ]
     },
     "execution_count": 54,
     "metadata": {},
     "output_type": "execute_result"
    }
   ],
   "source": [
    "df_train.loc[df_train['RATING'].isnull()]"
   ]
  },
  {
   "cell_type": "markdown",
   "id": "508fcc73",
   "metadata": {},
   "source": [
    "#### Removing null values from RATING"
   ]
  },
  {
   "cell_type": "code",
   "execution_count": 55,
   "id": "ba987817",
   "metadata": {},
   "outputs": [],
   "source": [
    "df_train['RATING'].fillna(0,inplace=True)"
   ]
  },
  {
   "cell_type": "markdown",
   "id": "ca4ae55c",
   "metadata": {},
   "source": [
    "#### Verifying Null values"
   ]
  },
  {
   "cell_type": "code",
   "execution_count": 56,
   "id": "b364c4b3",
   "metadata": {},
   "outputs": [
    {
     "name": "stdout",
     "output_type": "stream",
     "text": [
      "TITLE_1 count = 0. Percentage = 0.00%\n",
      "TITLE_2 count = 0. Percentage = 0.00%\n",
      "CUISINE_1 count = 0. Percentage = 0.00%\n",
      "CUISINE_2 count = 0. Percentage = 0.00%\n",
      "CUISINE_3 count = 0. Percentage = 0.00%\n",
      "CUISINE_4 count = 0. Percentage = 0.00%\n",
      "CUISINE_5 count = 0. Percentage = 0.00%\n",
      "CUISINE_6 count = 0. Percentage = 0.00%\n",
      "CUISINE_7 count = 0. Percentage = 0.00%\n",
      "CUISINE_8 count = 0. Percentage = 0.00%\n",
      "CITY count = 0. Percentage = 0.00%\n",
      "LOCALITY count = 0. Percentage = 0.00%\n",
      "RATING count = 0. Percentage = 0.00%\n",
      "VOTES count = 0. Percentage = 0.00%\n",
      "COST count = 0. Percentage = 0.00%\n"
     ]
    }
   ],
   "source": [
    "null_value_check(df_train)"
   ]
  },
  {
   "cell_type": "markdown",
   "id": "d09a7b0c",
   "metadata": {},
   "source": [
    "#### Checking for empty string"
   ]
  },
  {
   "cell_type": "code",
   "execution_count": 57,
   "id": "20a64c89",
   "metadata": {},
   "outputs": [
    {
     "data": {
      "text/html": [
       "<div>\n",
       "<style scoped>\n",
       "    .dataframe tbody tr th:only-of-type {\n",
       "        vertical-align: middle;\n",
       "    }\n",
       "\n",
       "    .dataframe tbody tr th {\n",
       "        vertical-align: top;\n",
       "    }\n",
       "\n",
       "    .dataframe thead th {\n",
       "        text-align: right;\n",
       "    }\n",
       "</style>\n",
       "<table border=\"1\" class=\"dataframe\">\n",
       "  <thead>\n",
       "    <tr style=\"text-align: right;\">\n",
       "      <th></th>\n",
       "      <th>TITLE_1</th>\n",
       "      <th>TITLE_2</th>\n",
       "      <th>CUISINE_1</th>\n",
       "      <th>CUISINE_2</th>\n",
       "      <th>CUISINE_3</th>\n",
       "      <th>CUISINE_4</th>\n",
       "      <th>CUISINE_5</th>\n",
       "      <th>CUISINE_6</th>\n",
       "      <th>CUISINE_7</th>\n",
       "      <th>CUISINE_8</th>\n",
       "      <th>CITY</th>\n",
       "      <th>LOCALITY</th>\n",
       "      <th>RATING</th>\n",
       "      <th>VOTES</th>\n",
       "      <th>COST</th>\n",
       "    </tr>\n",
       "  </thead>\n",
       "  <tbody>\n",
       "  </tbody>\n",
       "</table>\n",
       "</div>"
      ],
      "text/plain": [
       "Empty DataFrame\n",
       "Columns: [TITLE_1, TITLE_2, CUISINE_1, CUISINE_2, CUISINE_3, CUISINE_4, CUISINE_5, CUISINE_6, CUISINE_7, CUISINE_8, CITY, LOCALITY, RATING, VOTES, COST]\n",
       "Index: []"
      ]
     },
     "execution_count": 57,
     "metadata": {},
     "output_type": "execute_result"
    }
   ],
   "source": [
    "df_train[df_train.applymap(lambda x: x == '').any(axis=1)]"
   ]
  },
  {
   "cell_type": "markdown",
   "id": "38dac6bf",
   "metadata": {},
   "source": [
    "- There are empty string present."
   ]
  },
  {
   "cell_type": "code",
   "execution_count": 58,
   "id": "42789b2f",
   "metadata": {},
   "outputs": [],
   "source": [
    "df_train.replace('', 'X', inplace=True)"
   ]
  },
  {
   "cell_type": "markdown",
   "id": "0b19932d",
   "metadata": {},
   "source": [
    "#### Verying empty string"
   ]
  },
  {
   "cell_type": "code",
   "execution_count": 59,
   "id": "d4d0e281",
   "metadata": {},
   "outputs": [
    {
     "data": {
      "text/html": [
       "<div>\n",
       "<style scoped>\n",
       "    .dataframe tbody tr th:only-of-type {\n",
       "        vertical-align: middle;\n",
       "    }\n",
       "\n",
       "    .dataframe tbody tr th {\n",
       "        vertical-align: top;\n",
       "    }\n",
       "\n",
       "    .dataframe thead th {\n",
       "        text-align: right;\n",
       "    }\n",
       "</style>\n",
       "<table border=\"1\" class=\"dataframe\">\n",
       "  <thead>\n",
       "    <tr style=\"text-align: right;\">\n",
       "      <th></th>\n",
       "      <th>TITLE_1</th>\n",
       "      <th>TITLE_2</th>\n",
       "      <th>CUISINE_1</th>\n",
       "      <th>CUISINE_2</th>\n",
       "      <th>CUISINE_3</th>\n",
       "      <th>CUISINE_4</th>\n",
       "      <th>CUISINE_5</th>\n",
       "      <th>CUISINE_6</th>\n",
       "      <th>CUISINE_7</th>\n",
       "      <th>CUISINE_8</th>\n",
       "      <th>CITY</th>\n",
       "      <th>LOCALITY</th>\n",
       "      <th>RATING</th>\n",
       "      <th>VOTES</th>\n",
       "      <th>COST</th>\n",
       "    </tr>\n",
       "  </thead>\n",
       "  <tbody>\n",
       "  </tbody>\n",
       "</table>\n",
       "</div>"
      ],
      "text/plain": [
       "Empty DataFrame\n",
       "Columns: [TITLE_1, TITLE_2, CUISINE_1, CUISINE_2, CUISINE_3, CUISINE_4, CUISINE_5, CUISINE_6, CUISINE_7, CUISINE_8, CITY, LOCALITY, RATING, VOTES, COST]\n",
       "Index: []"
      ]
     },
     "execution_count": 59,
     "metadata": {},
     "output_type": "execute_result"
    }
   ],
   "source": [
    "df_train[df_train.applymap(lambda x: x == '').any(axis=1)]"
   ]
  },
  {
   "cell_type": "markdown",
   "id": "aee7bf32",
   "metadata": {},
   "source": [
    "- All empty strings removed"
   ]
  },
  {
   "cell_type": "markdown",
   "id": "6dfbf412",
   "metadata": {},
   "source": [
    "# Data visualization"
   ]
  },
  {
   "cell_type": "markdown",
   "id": "22866380",
   "metadata": {},
   "source": [
    "#### Visualising rating and cost using regplot"
   ]
  },
  {
   "cell_type": "code",
   "execution_count": 60,
   "id": "fefd1498",
   "metadata": {},
   "outputs": [
    {
     "data": {
      "text/plain": [
       "<Axes: xlabel='RATING', ylabel='COST'>"
      ]
     },
     "execution_count": 60,
     "metadata": {},
     "output_type": "execute_result"
    },
    {
     "data": {
      "image/png": "[encoded data removed]",
      "text/plain": [
       "<Figure size 640x480 with 1 Axes>"
      ]
     },
     "metadata": {},
     "output_type": "display_data"
    }
   ],
   "source": [
    "sns.regplot(x=df_train['RATING'],y=df_train['COST'],data=df_train)"
   ]
  },
  {
   "cell_type": "markdown",
   "id": "2e735035",
   "metadata": {},
   "source": [
    "#### Visualising votes and cost using regplot¶"
   ]
  },
  {
   "cell_type": "code",
   "execution_count": 61,
   "id": "b6596d55",
   "metadata": {},
   "outputs": [
    {
     "data": {
      "text/plain": [
       "<Axes: xlabel='VOTES', ylabel='COST'>"
      ]
     },
     "execution_count": 61,
     "metadata": {},
     "output_type": "execute_result"
    },
    {
     "data": {
      "image/png": "[encoded data removed]",
      "text/plain": [
       "<Figure size 640x480 with 1 Axes>"
      ]
     },
     "metadata": {},
     "output_type": "display_data"
    }
   ],
   "source": [
    "sns.regplot(x=df_train['VOTES'],y=df_train['COST'],data=df_train)"
   ]
  },
  {
   "cell_type": "markdown",
   "id": "f5fc28c1",
   "metadata": {},
   "source": [
    "# Checking for Outliers"
   ]
  },
  {
   "cell_type": "code",
   "execution_count": 62,
   "id": "91cc2652",
   "metadata": {},
   "outputs": [
    {
     "data": {
      "text/plain": [
       "['RATING', 'VOTES', 'COST']"
      ]
     },
     "execution_count": 62,
     "metadata": {},
     "output_type": "execute_result"
    }
   ],
   "source": [
    "num_features=[feature for feature in df_train.columns if df_train[feature].dtypes!='O']\n",
    "num_features"
   ]
  },
  {
   "cell_type": "code",
   "execution_count": 63,
   "id": "ee0b5b74",
   "metadata": {},
   "outputs": [
    {
     "data": {
      "image/png": "[encoded data removed]",
      "text/plain": [
       "<Figure size 500x1500 with 3 Axes>"
      ]
     },
     "metadata": {},
     "output_type": "display_data"
    }
   ],
   "source": [
    "plt.figure(figsize=(5,15))\n",
    "index=1\n",
    "for feature in num_features:\n",
    "    if index<=len(num_features):\n",
    "        plt.subplot(3,1,index)\n",
    "        sns.boxplot(df_train[feature],palette='deep',linewidth=.5)\n",
    "        plt.xlabel(feature)\n",
    "        index+=1\n",
    "        \n",
    "plt.tight_layout()"
   ]
  },
  {
   "cell_type": "markdown",
   "id": "c35e9439",
   "metadata": {},
   "source": [
    "Checking max rating"
   ]
  },
  {
   "cell_type": "code",
   "execution_count": 64,
   "id": "0922083f",
   "metadata": {},
   "outputs": [
    {
     "data": {
      "text/plain": [
       "41186"
      ]
     },
     "execution_count": 64,
     "metadata": {},
     "output_type": "execute_result"
    }
   ],
   "source": [
    "df_train['VOTES'].max()"
   ]
  },
  {
   "cell_type": "markdown",
   "id": "dc5aaa2c",
   "metadata": {},
   "source": [
    "Checking max rating"
   ]
  },
  {
   "cell_type": "code",
   "execution_count": 65,
   "id": "8817f7f2",
   "metadata": {},
   "outputs": [
    {
     "data": {
      "text/plain": [
       "4.9"
      ]
     },
     "execution_count": 65,
     "metadata": {},
     "output_type": "execute_result"
    }
   ],
   "source": [
    "df_train['RATING'].max()"
   ]
  },
  {
   "cell_type": "markdown",
   "id": "c2861d7a",
   "metadata": {},
   "source": [
    "Checking max cost"
   ]
  },
  {
   "cell_type": "code",
   "execution_count": 66,
   "id": "80af195d",
   "metadata": {},
   "outputs": [
    {
     "data": {
      "text/plain": [
       "14000"
      ]
     },
     "execution_count": 66,
     "metadata": {},
     "output_type": "execute_result"
    }
   ],
   "source": [
    "df_train['COST'].max()"
   ]
  },
  {
   "cell_type": "markdown",
   "id": "18e9ddfd",
   "metadata": {},
   "source": [
    "Checking outlier using zscore"
   ]
  },
  {
   "cell_type": "code",
   "execution_count": 67,
   "id": "e35e1b6a",
   "metadata": {},
   "outputs": [],
   "source": [
    "def outliers_detection(data):\n",
    "    z_score=np.abs(zscore(data[['RATING','VOTES']]))\n",
    "    print(np.where(z_score>3))\n",
    "    return z_score"
   ]
  },
  {
   "cell_type": "markdown",
   "id": "606a0b5c",
   "metadata": {},
   "source": [
    "Checking for zscore values higher than 3"
   ]
  },
  {
   "cell_type": "code",
   "execution_count": 68,
   "id": "5aea7873",
   "metadata": {},
   "outputs": [
    {
     "name": "stdout",
     "output_type": "stream",
     "text": [
      "(array([  186,   196,   293,   303,   304,   344,   354,   431,   510,\n",
      "         775,   796,   852,   855,   872,   913,  1034,  1038,  1132,\n",
      "        1147,  1151,  1244,  1346,  1467,  1476,  1522,  1540,  1617,\n",
      "        1681,  1685,  1850,  2090,  2204,  2268,  2302,  2305,  2886,\n",
      "        2905,  2977,  3028,  3033,  3289,  3333,  3398,  3408,  3507,\n",
      "        3578,  3587,  3706,  3728,  3841,  3855,  3877,  3909,  3952,\n",
      "        3974,  3987,  4124,  4150,  4192,  4193,  4268,  4367,  4470,\n",
      "        4512,  4557,  4578,  4592,  4618,  4628,  4634,  4647,  4658,\n",
      "        4691,  4709,  4760,  4768,  4855,  4947,  4987,  5078,  5140,\n",
      "        5257,  5375,  5492,  5502,  5594,  5629,  5662,  5774,  5792,\n",
      "        5836,  5880,  5897,  5969,  5996,  6005,  6142,  6390,  6421,\n",
      "        6446,  6448,  6472,  6496,  6506,  6519,  6608,  6649,  6684,\n",
      "        6690,  6714,  6760,  6878,  6922,  6982,  7028,  7034,  7059,\n",
      "        7189,  7202,  7262,  7459,  7494,  7626,  7988,  7997,  8009,\n",
      "        8123,  8400,  8448,  8459,  8509,  8510,  8578,  8630,  8674,\n",
      "        8797,  8925,  9017,  9022,  9124,  9200,  9227,  9281,  9300,\n",
      "        9546,  9552,  9577,  9616,  9702,  9783,  9809,  9876,  9878,\n",
      "        9941, 10065, 10168, 10219, 10221, 10266, 10365, 10380, 10465,\n",
      "       10480, 10538, 10568, 10628, 10629, 10727, 10736, 10863, 10868,\n",
      "       10895, 10898, 11021, 11073, 11125, 11170, 11179, 11197, 11216,\n",
      "       11295, 11373, 11410, 11441, 11657, 11786, 11861, 11904, 11954,\n",
      "       12021, 12050, 12083, 12120, 12138, 12143, 12196, 12236, 12271,\n",
      "       12338, 12360, 12506, 12628], dtype=int64), array([1, 1, 1, 1, 1, 1, 1, 1, 1, 1, 1, 1, 1, 1, 1, 1, 1, 1, 1, 1, 1, 1,\n",
      "       1, 1, 1, 1, 1, 1, 1, 1, 1, 1, 1, 1, 1, 1, 1, 1, 1, 1, 1, 1, 1, 1,\n",
      "       1, 1, 1, 1, 1, 1, 1, 1, 1, 1, 1, 1, 1, 1, 1, 1, 1, 1, 1, 1, 1, 1,\n",
      "       1, 1, 1, 1, 1, 1, 1, 1, 1, 1, 1, 1, 1, 1, 1, 1, 1, 1, 1, 1, 1, 1,\n",
      "       1, 1, 1, 1, 1, 1, 1, 1, 1, 1, 1, 1, 1, 1, 1, 1, 1, 1, 1, 1, 1, 1,\n",
      "       1, 1, 1, 1, 1, 1, 1, 1, 1, 1, 1, 1, 1, 1, 1, 1, 1, 1, 1, 1, 1, 1,\n",
      "       1, 1, 1, 1, 1, 1, 1, 1, 1, 1, 1, 1, 1, 1, 1, 1, 1, 1, 1, 1, 1, 1,\n",
      "       1, 1, 1, 1, 1, 1, 1, 1, 1, 1, 1, 1, 1, 1, 1, 1, 1, 1, 1, 1, 1, 1,\n",
      "       1, 1, 1, 1, 1, 1, 1, 1, 1, 1, 1, 1, 1, 1, 1, 1, 1, 1, 1, 1, 1, 1,\n",
      "       1, 1, 1, 1], dtype=int64))\n"
     ]
    }
   ],
   "source": [
    "z_score=outliers_detection(df_train)"
   ]
  },
  {
   "cell_type": "markdown",
   "id": "086d9b7d",
   "metadata": {},
   "source": [
    "Removing outliers in the dataset"
   ]
  },
  {
   "cell_type": "code",
   "execution_count": 69,
   "id": "819401f7",
   "metadata": {},
   "outputs": [],
   "source": [
    "def removing_outliers(z_score,data):\n",
    "    data=data[(z_score<3).all(axis=1)]\n",
    "    return data"
   ]
  },
  {
   "cell_type": "code",
   "execution_count": 70,
   "id": "e519cbc5",
   "metadata": {},
   "outputs": [],
   "source": [
    "df_clean=removing_outliers(z_score,df_train)"
   ]
  },
  {
   "cell_type": "code",
   "execution_count": 71,
   "id": "fb00dde3",
   "metadata": {},
   "outputs": [
    {
     "data": {
      "text/plain": [
       "(12488, 15)"
      ]
     },
     "execution_count": 71,
     "metadata": {},
     "output_type": "execute_result"
    }
   ],
   "source": [
    "df_clean.shape"
   ]
  },
  {
   "cell_type": "markdown",
   "id": "d38d3741",
   "metadata": {},
   "source": [
    "Calculating the total data loss"
   ]
  },
  {
   "cell_type": "code",
   "execution_count": 72,
   "id": "ed0367b1",
   "metadata": {},
   "outputs": [
    {
     "name": "stdout",
     "output_type": "stream",
     "text": [
      "The total data lost due to outliers is: 202\n"
     ]
    }
   ],
   "source": [
    "total_data_loss=df_train.shape[0]-df_clean.shape[0]\n",
    "print('The total data lost due to outliers is:', total_data_loss)"
   ]
  },
  {
   "cell_type": "markdown",
   "id": "cbb2f087",
   "metadata": {},
   "source": [
    "Calculating the percentage of data loss"
   ]
  },
  {
   "cell_type": "code",
   "execution_count": 73,
   "id": "8f711ac0",
   "metadata": {},
   "outputs": [
    {
     "name": "stdout",
     "output_type": "stream",
     "text": [
      "Total percentage of data lost is: 1.59%\n"
     ]
    }
   ],
   "source": [
    "total_data=df_train.shape[0]\n",
    "percent=total_data_loss*100/total_data\n",
    "print('Total percentage of data lost is: {:.2f}%'.format(percent))"
   ]
  },
  {
   "cell_type": "markdown",
   "id": "3d505279",
   "metadata": {},
   "source": [
    "Assigning the outlier free dataset to df_train"
   ]
  },
  {
   "cell_type": "code",
   "execution_count": 74,
   "id": "ed2641ea",
   "metadata": {},
   "outputs": [],
   "source": [
    "df_train=df_clean"
   ]
  },
  {
   "cell_type": "markdown",
   "id": "225ae40a",
   "metadata": {},
   "source": [
    "# Skewness check"
   ]
  },
  {
   "cell_type": "markdown",
   "id": "00546929",
   "metadata": {},
   "source": [
    "Checking the skewness of all the numerical features"
   ]
  },
  {
   "cell_type": "code",
   "execution_count": 75,
   "id": "b5a01833",
   "metadata": {},
   "outputs": [
    {
     "data": {
      "text/plain": [
       "RATING   -2.203071\n",
       "VOTES     2.548633\n",
       "dtype: float64"
      ]
     },
     "execution_count": 75,
     "metadata": {},
     "output_type": "execute_result"
    }
   ],
   "source": [
    "df_train[['RATING','VOTES']].skew()"
   ]
  },
  {
   "cell_type": "markdown",
   "id": "0f9ae8fa",
   "metadata": {},
   "source": [
    "- Skewness present in RATING and VOTES"
   ]
  },
  {
   "cell_type": "markdown",
   "id": "1cefdacd",
   "metadata": {},
   "source": [
    "Removing skewness in VOTED using cube root"
   ]
  },
  {
   "cell_type": "code",
   "execution_count": 76,
   "id": "8f789f22",
   "metadata": {},
   "outputs": [],
   "source": [
    "votes_cbrt=np.cbrt(df_train['VOTES'])"
   ]
  },
  {
   "cell_type": "code",
   "execution_count": 77,
   "id": "b52e3326",
   "metadata": {},
   "outputs": [
    {
     "data": {
      "text/plain": [
       "0.3083038868854167"
      ]
     },
     "execution_count": 77,
     "metadata": {},
     "output_type": "execute_result"
    }
   ],
   "source": [
    "votes_cbrt.skew()"
   ]
  },
  {
   "cell_type": "code",
   "execution_count": 78,
   "id": "14def041",
   "metadata": {},
   "outputs": [],
   "source": [
    "df_train['VOTES']=votes_cbrt"
   ]
  },
  {
   "cell_type": "code",
   "execution_count": 79,
   "id": "79c5a1f9",
   "metadata": {},
   "outputs": [
    {
     "data": {
      "text/plain": [
       "RATING   -2.203071\n",
       "VOTES     0.308304\n",
       "dtype: float64"
      ]
     },
     "execution_count": 79,
     "metadata": {},
     "output_type": "execute_result"
    }
   ],
   "source": [
    "df_train[['RATING','VOTES']].skew()"
   ]
  },
  {
   "cell_type": "code",
   "execution_count": 80,
   "id": "299eeb3f",
   "metadata": {},
   "outputs": [
    {
     "data": {
      "text/html": [
       "<div>\n",
       "<style scoped>\n",
       "    .dataframe tbody tr th:only-of-type {\n",
       "        vertical-align: middle;\n",
       "    }\n",
       "\n",
       "    .dataframe tbody tr th {\n",
       "        vertical-align: top;\n",
       "    }\n",
       "\n",
       "    .dataframe thead th {\n",
       "        text-align: right;\n",
       "    }\n",
       "</style>\n",
       "<table border=\"1\" class=\"dataframe\">\n",
       "  <thead>\n",
       "    <tr style=\"text-align: right;\">\n",
       "      <th></th>\n",
       "      <th>TITLE_1</th>\n",
       "      <th>TITLE_2</th>\n",
       "      <th>CUISINE_1</th>\n",
       "      <th>CUISINE_2</th>\n",
       "      <th>CUISINE_3</th>\n",
       "      <th>CUISINE_4</th>\n",
       "      <th>CUISINE_5</th>\n",
       "      <th>CUISINE_6</th>\n",
       "      <th>CUISINE_7</th>\n",
       "      <th>CUISINE_8</th>\n",
       "      <th>CITY</th>\n",
       "      <th>LOCALITY</th>\n",
       "      <th>RATING</th>\n",
       "      <th>VOTES</th>\n",
       "      <th>COST</th>\n",
       "    </tr>\n",
       "  </thead>\n",
       "  <tbody>\n",
       "    <tr>\n",
       "      <th>0</th>\n",
       "      <td>CASUAL DINING</td>\n",
       "      <td>0</td>\n",
       "      <td>Malwani</td>\n",
       "      <td>Goan</td>\n",
       "      <td>North Indian</td>\n",
       "      <td>0</td>\n",
       "      <td>0</td>\n",
       "      <td>0</td>\n",
       "      <td>0</td>\n",
       "      <td>0</td>\n",
       "      <td>Thane</td>\n",
       "      <td>Dombivali East</td>\n",
       "      <td>3.6</td>\n",
       "      <td>3.659306</td>\n",
       "      <td>1200</td>\n",
       "    </tr>\n",
       "    <tr>\n",
       "      <th>1</th>\n",
       "      <td>CASUAL DINING</td>\n",
       "      <td>BAR</td>\n",
       "      <td>Asian</td>\n",
       "      <td>Modern Indian</td>\n",
       "      <td>Japanese</td>\n",
       "      <td>0</td>\n",
       "      <td>0</td>\n",
       "      <td>0</td>\n",
       "      <td>0</td>\n",
       "      <td>0</td>\n",
       "      <td>Chennai</td>\n",
       "      <td>Ramapuram</td>\n",
       "      <td>4.2</td>\n",
       "      <td>3.107233</td>\n",
       "      <td>1500</td>\n",
       "    </tr>\n",
       "    <tr>\n",
       "      <th>2</th>\n",
       "      <td>CASUAL DINING</td>\n",
       "      <td>0</td>\n",
       "      <td>North Indian</td>\n",
       "      <td>Chinese</td>\n",
       "      <td>Biryani</td>\n",
       "      <td>Hyderabadi</td>\n",
       "      <td>0</td>\n",
       "      <td>0</td>\n",
       "      <td>0</td>\n",
       "      <td>0</td>\n",
       "      <td>Chennai</td>\n",
       "      <td>Saligramam</td>\n",
       "      <td>3.8</td>\n",
       "      <td>6.045944</td>\n",
       "      <td>800</td>\n",
       "    </tr>\n",
       "    <tr>\n",
       "      <th>3</th>\n",
       "      <td>QUICK BITES</td>\n",
       "      <td>0</td>\n",
       "      <td>Tibetan</td>\n",
       "      <td>Chinese</td>\n",
       "      <td>0</td>\n",
       "      <td>0</td>\n",
       "      <td>0</td>\n",
       "      <td>0</td>\n",
       "      <td>0</td>\n",
       "      <td>0</td>\n",
       "      <td>Mumbai</td>\n",
       "      <td>Bandra West</td>\n",
       "      <td>4.1</td>\n",
       "      <td>2.884499</td>\n",
       "      <td>800</td>\n",
       "    </tr>\n",
       "    <tr>\n",
       "      <th>4</th>\n",
       "      <td>DESSERT PARLOR</td>\n",
       "      <td>0</td>\n",
       "      <td>Desserts</td>\n",
       "      <td>0</td>\n",
       "      <td>0</td>\n",
       "      <td>0</td>\n",
       "      <td>0</td>\n",
       "      <td>0</td>\n",
       "      <td>0</td>\n",
       "      <td>0</td>\n",
       "      <td>Mumbai</td>\n",
       "      <td>Lower Parel</td>\n",
       "      <td>3.8</td>\n",
       "      <td>5.484807</td>\n",
       "      <td>300</td>\n",
       "    </tr>\n",
       "    <tr>\n",
       "      <th>...</th>\n",
       "      <td>...</td>\n",
       "      <td>...</td>\n",
       "      <td>...</td>\n",
       "      <td>...</td>\n",
       "      <td>...</td>\n",
       "      <td>...</td>\n",
       "      <td>...</td>\n",
       "      <td>...</td>\n",
       "      <td>...</td>\n",
       "      <td>...</td>\n",
       "      <td>...</td>\n",
       "      <td>...</td>\n",
       "      <td>...</td>\n",
       "      <td>...</td>\n",
       "      <td>...</td>\n",
       "    </tr>\n",
       "    <tr>\n",
       "      <th>12685</th>\n",
       "      <td>QUICK BITES</td>\n",
       "      <td>0</td>\n",
       "      <td>North Indian</td>\n",
       "      <td>Burger</td>\n",
       "      <td>Kebab</td>\n",
       "      <td>0</td>\n",
       "      <td>0</td>\n",
       "      <td>0</td>\n",
       "      <td>0</td>\n",
       "      <td>0</td>\n",
       "      <td>Hyderabad</td>\n",
       "      <td>Gachibowli</td>\n",
       "      <td>3.8</td>\n",
       "      <td>8.173302</td>\n",
       "      <td>500</td>\n",
       "    </tr>\n",
       "    <tr>\n",
       "      <th>12686</th>\n",
       "      <td>CASUAL DINING</td>\n",
       "      <td>BAR</td>\n",
       "      <td>Goan</td>\n",
       "      <td>Continental</td>\n",
       "      <td>0</td>\n",
       "      <td>0</td>\n",
       "      <td>0</td>\n",
       "      <td>0</td>\n",
       "      <td>0</td>\n",
       "      <td>0</td>\n",
       "      <td>Mumbai</td>\n",
       "      <td>Bandra Kurla Complex</td>\n",
       "      <td>4.3</td>\n",
       "      <td>10.667752</td>\n",
       "      <td>1800</td>\n",
       "    </tr>\n",
       "    <tr>\n",
       "      <th>12687</th>\n",
       "      <td>LOUNGE</td>\n",
       "      <td>0</td>\n",
       "      <td>Finger Food</td>\n",
       "      <td>Continental</td>\n",
       "      <td>Asian</td>\n",
       "      <td>Chinese</td>\n",
       "      <td>0</td>\n",
       "      <td>0</td>\n",
       "      <td>0</td>\n",
       "      <td>0</td>\n",
       "      <td>Navi Mumbai</td>\n",
       "      <td>Vashi</td>\n",
       "      <td>4.0</td>\n",
       "      <td>8.471647</td>\n",
       "      <td>1300</td>\n",
       "    </tr>\n",
       "    <tr>\n",
       "      <th>12688</th>\n",
       "      <td>CASUAL DINING</td>\n",
       "      <td>0</td>\n",
       "      <td>North Indian</td>\n",
       "      <td>South Indian</td>\n",
       "      <td>Chinese</td>\n",
       "      <td>Street Food</td>\n",
       "      <td>0</td>\n",
       "      <td>0</td>\n",
       "      <td>0</td>\n",
       "      <td>0</td>\n",
       "      <td>Chennai</td>\n",
       "      <td>Maduravoyal</td>\n",
       "      <td>3.5</td>\n",
       "      <td>3.174802</td>\n",
       "      <td>400</td>\n",
       "    </tr>\n",
       "    <tr>\n",
       "      <th>12689</th>\n",
       "      <td>CASUAL DINING</td>\n",
       "      <td>0</td>\n",
       "      <td>North Indian</td>\n",
       "      <td>Chinese</td>\n",
       "      <td>0</td>\n",
       "      <td>0</td>\n",
       "      <td>0</td>\n",
       "      <td>0</td>\n",
       "      <td>0</td>\n",
       "      <td>0</td>\n",
       "      <td>Hyderabad</td>\n",
       "      <td>Vanasthalipuram</td>\n",
       "      <td>3.4</td>\n",
       "      <td>8.780708</td>\n",
       "      <td>600</td>\n",
       "    </tr>\n",
       "  </tbody>\n",
       "</table>\n",
       "<p>12488 rows × 15 columns</p>\n",
       "</div>"
      ],
      "text/plain": [
       "              TITLE_1 TITLE_2     CUISINE_1      CUISINE_2     CUISINE_3  \\\n",
       "0       CASUAL DINING       0       Malwani           Goan  North Indian   \n",
       "1       CASUAL DINING     BAR         Asian  Modern Indian      Japanese   \n",
       "2       CASUAL DINING       0  North Indian        Chinese       Biryani   \n",
       "3         QUICK BITES       0       Tibetan        Chinese             0   \n",
       "4      DESSERT PARLOR       0      Desserts              0             0   \n",
       "...               ...     ...           ...            ...           ...   \n",
       "12685     QUICK BITES       0  North Indian         Burger         Kebab   \n",
       "12686   CASUAL DINING     BAR          Goan    Continental             0   \n",
       "12687          LOUNGE       0   Finger Food    Continental         Asian   \n",
       "12688   CASUAL DINING       0  North Indian   South Indian       Chinese   \n",
       "12689   CASUAL DINING       0  North Indian        Chinese             0   \n",
       "\n",
       "         CUISINE_4 CUISINE_5 CUISINE_6 CUISINE_7 CUISINE_8         CITY  \\\n",
       "0                0         0         0         0         0        Thane   \n",
       "1                0         0         0         0         0      Chennai   \n",
       "2       Hyderabadi         0         0         0         0      Chennai   \n",
       "3                0         0         0         0         0       Mumbai   \n",
       "4                0         0         0         0         0       Mumbai   \n",
       "...            ...       ...       ...       ...       ...          ...   \n",
       "12685            0         0         0         0         0    Hyderabad   \n",
       "12686            0         0         0         0         0       Mumbai   \n",
       "12687      Chinese         0         0         0         0  Navi Mumbai   \n",
       "12688  Street Food         0         0         0         0      Chennai   \n",
       "12689            0         0         0         0         0    Hyderabad   \n",
       "\n",
       "                   LOCALITY  RATING      VOTES  COST  \n",
       "0            Dombivali East     3.6   3.659306  1200  \n",
       "1                 Ramapuram     4.2   3.107233  1500  \n",
       "2                Saligramam     3.8   6.045944   800  \n",
       "3               Bandra West     4.1   2.884499   800  \n",
       "4               Lower Parel     3.8   5.484807   300  \n",
       "...                     ...     ...        ...   ...  \n",
       "12685            Gachibowli     3.8   8.173302   500  \n",
       "12686  Bandra Kurla Complex     4.3  10.667752  1800  \n",
       "12687                 Vashi     4.0   8.471647  1300  \n",
       "12688           Maduravoyal     3.5   3.174802   400  \n",
       "12689       Vanasthalipuram     3.4   8.780708   600  \n",
       "\n",
       "[12488 rows x 15 columns]"
      ]
     },
     "execution_count": 80,
     "metadata": {},
     "output_type": "execute_result"
    }
   ],
   "source": [
    "df_train"
   ]
  },
  {
   "cell_type": "markdown",
   "id": "80c361b0",
   "metadata": {},
   "source": [
    "#### Applying LabelEncoder"
   ]
  },
  {
   "cell_type": "code",
   "execution_count": 81,
   "id": "9f5e5f70",
   "metadata": {},
   "outputs": [
    {
     "data": {
      "text/plain": [
       "['TITLE_1',\n",
       " 'TITLE_2',\n",
       " 'CUISINE_1',\n",
       " 'CUISINE_2',\n",
       " 'CUISINE_3',\n",
       " 'CUISINE_4',\n",
       " 'CUISINE_5',\n",
       " 'CUISINE_6',\n",
       " 'CUISINE_7',\n",
       " 'CUISINE_8',\n",
       " 'CITY',\n",
       " 'LOCALITY']"
      ]
     },
     "execution_count": 81,
     "metadata": {},
     "output_type": "execute_result"
    }
   ],
   "source": [
    "cat_features=[feature for feature in df_train.columns if df_train[feature].dtypes=='O']\n",
    "cat_features"
   ]
  },
  {
   "cell_type": "code",
   "execution_count": 82,
   "id": "67a30658",
   "metadata": {},
   "outputs": [],
   "source": [
    "le=LabelEncoder()\n",
    "df_train[cat_features]=df_train[cat_features].apply(lambda feature: le.fit_transform(feature))"
   ]
  },
  {
   "cell_type": "code",
   "execution_count": 83,
   "id": "a12de8d4",
   "metadata": {},
   "outputs": [
    {
     "data": {
      "text/html": [
       "<div>\n",
       "<style scoped>\n",
       "    .dataframe tbody tr th:only-of-type {\n",
       "        vertical-align: middle;\n",
       "    }\n",
       "\n",
       "    .dataframe tbody tr th {\n",
       "        vertical-align: top;\n",
       "    }\n",
       "\n",
       "    .dataframe thead th {\n",
       "        text-align: right;\n",
       "    }\n",
       "</style>\n",
       "<table border=\"1\" class=\"dataframe\">\n",
       "  <thead>\n",
       "    <tr style=\"text-align: right;\">\n",
       "      <th></th>\n",
       "      <th>TITLE_1</th>\n",
       "      <th>TITLE_2</th>\n",
       "      <th>CUISINE_1</th>\n",
       "      <th>CUISINE_2</th>\n",
       "      <th>CUISINE_3</th>\n",
       "      <th>CUISINE_4</th>\n",
       "      <th>CUISINE_5</th>\n",
       "      <th>CUISINE_6</th>\n",
       "      <th>CUISINE_7</th>\n",
       "      <th>CUISINE_8</th>\n",
       "      <th>CITY</th>\n",
       "      <th>LOCALITY</th>\n",
       "      <th>RATING</th>\n",
       "      <th>VOTES</th>\n",
       "      <th>COST</th>\n",
       "    </tr>\n",
       "  </thead>\n",
       "  <tbody>\n",
       "    <tr>\n",
       "      <th>0</th>\n",
       "      <td>4</td>\n",
       "      <td>0</td>\n",
       "      <td>58</td>\n",
       "      <td>33</td>\n",
       "      <td>67</td>\n",
       "      <td>0</td>\n",
       "      <td>0</td>\n",
       "      <td>0</td>\n",
       "      <td>1</td>\n",
       "      <td>0</td>\n",
       "      <td>320</td>\n",
       "      <td>284</td>\n",
       "      <td>3.6</td>\n",
       "      <td>3.659306</td>\n",
       "      <td>1200</td>\n",
       "    </tr>\n",
       "    <tr>\n",
       "      <th>1</th>\n",
       "      <td>4</td>\n",
       "      <td>2</td>\n",
       "      <td>6</td>\n",
       "      <td>61</td>\n",
       "      <td>42</td>\n",
       "      <td>0</td>\n",
       "      <td>0</td>\n",
       "      <td>0</td>\n",
       "      <td>1</td>\n",
       "      <td>0</td>\n",
       "      <td>67</td>\n",
       "      <td>1043</td>\n",
       "      <td>4.2</td>\n",
       "      <td>3.107233</td>\n",
       "      <td>1500</td>\n",
       "    </tr>\n",
       "    <tr>\n",
       "      <th>2</th>\n",
       "      <td>4</td>\n",
       "      <td>0</td>\n",
       "      <td>71</td>\n",
       "      <td>24</td>\n",
       "      <td>13</td>\n",
       "      <td>33</td>\n",
       "      <td>0</td>\n",
       "      <td>0</td>\n",
       "      <td>1</td>\n",
       "      <td>0</td>\n",
       "      <td>67</td>\n",
       "      <td>1097</td>\n",
       "      <td>3.8</td>\n",
       "      <td>6.045944</td>\n",
       "      <td>800</td>\n",
       "    </tr>\n",
       "    <tr>\n",
       "      <th>3</th>\n",
       "      <td>21</td>\n",
       "      <td>0</td>\n",
       "      <td>98</td>\n",
       "      <td>24</td>\n",
       "      <td>0</td>\n",
       "      <td>0</td>\n",
       "      <td>0</td>\n",
       "      <td>0</td>\n",
       "      <td>1</td>\n",
       "      <td>0</td>\n",
       "      <td>222</td>\n",
       "      <td>136</td>\n",
       "      <td>4.1</td>\n",
       "      <td>2.884499</td>\n",
       "      <td>800</td>\n",
       "    </tr>\n",
       "    <tr>\n",
       "      <th>4</th>\n",
       "      <td>8</td>\n",
       "      <td>0</td>\n",
       "      <td>27</td>\n",
       "      <td>0</td>\n",
       "      <td>0</td>\n",
       "      <td>0</td>\n",
       "      <td>0</td>\n",
       "      <td>0</td>\n",
       "      <td>1</td>\n",
       "      <td>0</td>\n",
       "      <td>222</td>\n",
       "      <td>619</td>\n",
       "      <td>3.8</td>\n",
       "      <td>5.484807</td>\n",
       "      <td>300</td>\n",
       "    </tr>\n",
       "    <tr>\n",
       "      <th>...</th>\n",
       "      <td>...</td>\n",
       "      <td>...</td>\n",
       "      <td>...</td>\n",
       "      <td>...</td>\n",
       "      <td>...</td>\n",
       "      <td>...</td>\n",
       "      <td>...</td>\n",
       "      <td>...</td>\n",
       "      <td>...</td>\n",
       "      <td>...</td>\n",
       "      <td>...</td>\n",
       "      <td>...</td>\n",
       "      <td>...</td>\n",
       "      <td>...</td>\n",
       "      <td>...</td>\n",
       "    </tr>\n",
       "    <tr>\n",
       "      <th>12685</th>\n",
       "      <td>21</td>\n",
       "      <td>0</td>\n",
       "      <td>71</td>\n",
       "      <td>18</td>\n",
       "      <td>45</td>\n",
       "      <td>0</td>\n",
       "      <td>0</td>\n",
       "      <td>0</td>\n",
       "      <td>1</td>\n",
       "      <td>0</td>\n",
       "      <td>131</td>\n",
       "      <td>341</td>\n",
       "      <td>3.8</td>\n",
       "      <td>8.173302</td>\n",
       "      <td>500</td>\n",
       "    </tr>\n",
       "    <tr>\n",
       "      <th>12686</th>\n",
       "      <td>4</td>\n",
       "      <td>2</td>\n",
       "      <td>36</td>\n",
       "      <td>26</td>\n",
       "      <td>0</td>\n",
       "      <td>0</td>\n",
       "      <td>0</td>\n",
       "      <td>0</td>\n",
       "      <td>1</td>\n",
       "      <td>0</td>\n",
       "      <td>222</td>\n",
       "      <td>133</td>\n",
       "      <td>4.3</td>\n",
       "      <td>10.667752</td>\n",
       "      <td>1800</td>\n",
       "    </tr>\n",
       "    <tr>\n",
       "      <th>12687</th>\n",
       "      <td>14</td>\n",
       "      <td>0</td>\n",
       "      <td>33</td>\n",
       "      <td>26</td>\n",
       "      <td>5</td>\n",
       "      <td>19</td>\n",
       "      <td>0</td>\n",
       "      <td>0</td>\n",
       "      <td>1</td>\n",
       "      <td>0</td>\n",
       "      <td>239</td>\n",
       "      <td>1338</td>\n",
       "      <td>4.0</td>\n",
       "      <td>8.471647</td>\n",
       "      <td>1300</td>\n",
       "    </tr>\n",
       "    <tr>\n",
       "      <th>12688</th>\n",
       "      <td>4</td>\n",
       "      <td>0</td>\n",
       "      <td>71</td>\n",
       "      <td>85</td>\n",
       "      <td>22</td>\n",
       "      <td>77</td>\n",
       "      <td>0</td>\n",
       "      <td>0</td>\n",
       "      <td>1</td>\n",
       "      <td>0</td>\n",
       "      <td>67</td>\n",
       "      <td>630</td>\n",
       "      <td>3.5</td>\n",
       "      <td>3.174802</td>\n",
       "      <td>400</td>\n",
       "    </tr>\n",
       "    <tr>\n",
       "      <th>12689</th>\n",
       "      <td>4</td>\n",
       "      <td>0</td>\n",
       "      <td>71</td>\n",
       "      <td>24</td>\n",
       "      <td>0</td>\n",
       "      <td>0</td>\n",
       "      <td>0</td>\n",
       "      <td>0</td>\n",
       "      <td>1</td>\n",
       "      <td>0</td>\n",
       "      <td>131</td>\n",
       "      <td>1329</td>\n",
       "      <td>3.4</td>\n",
       "      <td>8.780708</td>\n",
       "      <td>600</td>\n",
       "    </tr>\n",
       "  </tbody>\n",
       "</table>\n",
       "<p>12488 rows × 15 columns</p>\n",
       "</div>"
      ],
      "text/plain": [
       "       TITLE_1  TITLE_2  CUISINE_1  CUISINE_2  CUISINE_3  CUISINE_4  \\\n",
       "0            4        0         58         33         67          0   \n",
       "1            4        2          6         61         42          0   \n",
       "2            4        0         71         24         13         33   \n",
       "3           21        0         98         24          0          0   \n",
       "4            8        0         27          0          0          0   \n",
       "...        ...      ...        ...        ...        ...        ...   \n",
       "12685       21        0         71         18         45          0   \n",
       "12686        4        2         36         26          0          0   \n",
       "12687       14        0         33         26          5         19   \n",
       "12688        4        0         71         85         22         77   \n",
       "12689        4        0         71         24          0          0   \n",
       "\n",
       "       CUISINE_5  CUISINE_6  CUISINE_7  CUISINE_8  CITY  LOCALITY  RATING  \\\n",
       "0              0          0          1          0   320       284     3.6   \n",
       "1              0          0          1          0    67      1043     4.2   \n",
       "2              0          0          1          0    67      1097     3.8   \n",
       "3              0          0          1          0   222       136     4.1   \n",
       "4              0          0          1          0   222       619     3.8   \n",
       "...          ...        ...        ...        ...   ...       ...     ...   \n",
       "12685          0          0          1          0   131       341     3.8   \n",
       "12686          0          0          1          0   222       133     4.3   \n",
       "12687          0          0          1          0   239      1338     4.0   \n",
       "12688          0          0          1          0    67       630     3.5   \n",
       "12689          0          0          1          0   131      1329     3.4   \n",
       "\n",
       "           VOTES  COST  \n",
       "0       3.659306  1200  \n",
       "1       3.107233  1500  \n",
       "2       6.045944   800  \n",
       "3       2.884499   800  \n",
       "4       5.484807   300  \n",
       "...          ...   ...  \n",
       "12685   8.173302   500  \n",
       "12686  10.667752  1800  \n",
       "12687   8.471647  1300  \n",
       "12688   3.174802   400  \n",
       "12689   8.780708   600  \n",
       "\n",
       "[12488 rows x 15 columns]"
      ]
     },
     "execution_count": 83,
     "metadata": {},
     "output_type": "execute_result"
    }
   ],
   "source": [
    "df_train"
   ]
  },
  {
   "cell_type": "markdown",
   "id": "301fc1fd",
   "metadata": {},
   "source": [
    "#### Checking correlation"
   ]
  },
  {
   "cell_type": "code",
   "execution_count": 86,
   "id": "7c683dea",
   "metadata": {},
   "outputs": [
    {
     "data": {
      "text/plain": [
       "<Axes: >"
      ]
     },
     "execution_count": 86,
     "metadata": {},
     "output_type": "execute_result"
    },
    {
     "data": {
      "image/png": "[encoded data removed]",
      "text/plain": [
       "<Figure size 1500x1200 with 2 Axes>"
      ]
     },
     "metadata": {},
     "output_type": "display_data"
    }
   ],
   "source": [
    "plt.figure(figsize=(15,12))\n",
    "sns.heatmap(df_train.corr(),annot=True,linewidth=.2,fmt='.2g',cmap='Reds')"
   ]
  },
  {
   "cell_type": "markdown",
   "id": "b9981199",
   "metadata": {},
   "source": [
    "# Scaling the Dataset"
   ]
  },
  {
   "cell_type": "markdown",
   "id": "ddbde31f",
   "metadata": {},
   "source": [
    "Separating dependent and target columns"
   ]
  },
  {
   "cell_type": "code",
   "execution_count": 87,
   "id": "d93ec23e",
   "metadata": {},
   "outputs": [],
   "source": [
    "x=df_train.drop('COST',axis=1)\n",
    "y=df_train['COST']"
   ]
  },
  {
   "cell_type": "markdown",
   "id": "5e2db575",
   "metadata": {},
   "source": [
    "Applying StandardScaler"
   ]
  },
  {
   "cell_type": "code",
   "execution_count": 88,
   "id": "f430fc39",
   "metadata": {},
   "outputs": [],
   "source": [
    "def StandardScaling(x):\n",
    "    ss=StandardScaler()\n",
    "    x=pd.DataFrame(ss.fit_transform(x),columns=x.columns)\n",
    "    return x"
   ]
  },
  {
   "cell_type": "code",
   "execution_count": 89,
   "id": "e2c31214",
   "metadata": {},
   "outputs": [],
   "source": [
    "x=StandardScaling(x)"
   ]
  },
  {
   "cell_type": "code",
   "execution_count": 90,
   "id": "e70e0d33",
   "metadata": {},
   "outputs": [
    {
     "data": {
      "text/html": [
       "<div>\n",
       "<style scoped>\n",
       "    .dataframe tbody tr th:only-of-type {\n",
       "        vertical-align: middle;\n",
       "    }\n",
       "\n",
       "    .dataframe tbody tr th {\n",
       "        vertical-align: top;\n",
       "    }\n",
       "\n",
       "    .dataframe thead th {\n",
       "        text-align: right;\n",
       "    }\n",
       "</style>\n",
       "<table border=\"1\" class=\"dataframe\">\n",
       "  <thead>\n",
       "    <tr style=\"text-align: right;\">\n",
       "      <th></th>\n",
       "      <th>TITLE_1</th>\n",
       "      <th>TITLE_2</th>\n",
       "      <th>CUISINE_1</th>\n",
       "      <th>CUISINE_2</th>\n",
       "      <th>CUISINE_3</th>\n",
       "      <th>CUISINE_4</th>\n",
       "      <th>CUISINE_5</th>\n",
       "      <th>CUISINE_6</th>\n",
       "      <th>CUISINE_7</th>\n",
       "      <th>CUISINE_8</th>\n",
       "      <th>CITY</th>\n",
       "      <th>LOCALITY</th>\n",
       "      <th>RATING</th>\n",
       "      <th>VOTES</th>\n",
       "    </tr>\n",
       "  </thead>\n",
       "  <tbody>\n",
       "    <tr>\n",
       "      <th>0</th>\n",
       "      <td>-0.925355</td>\n",
       "      <td>-0.268184</td>\n",
       "      <td>0.344216</td>\n",
       "      <td>0.008218</td>\n",
       "      <td>1.874272</td>\n",
       "      <td>-0.423001</td>\n",
       "      <td>-0.244094</td>\n",
       "      <td>-0.158682</td>\n",
       "      <td>-0.086757</td>\n",
       "      <td>-0.037572</td>\n",
       "      <td>2.091576</td>\n",
       "      <td>-0.933229</td>\n",
       "      <td>0.158749</td>\n",
       "      <td>-0.545025</td>\n",
       "    </tr>\n",
       "    <tr>\n",
       "      <th>1</th>\n",
       "      <td>-0.925355</td>\n",
       "      <td>0.333465</td>\n",
       "      <td>-1.508890</td>\n",
       "      <td>0.978023</td>\n",
       "      <td>0.919147</td>\n",
       "      <td>-0.423001</td>\n",
       "      <td>-0.244094</td>\n",
       "      <td>-0.158682</td>\n",
       "      <td>-0.086757</td>\n",
       "      <td>-0.037572</td>\n",
       "      <td>-0.913904</td>\n",
       "      <td>0.973449</td>\n",
       "      <td>0.665816</td>\n",
       "      <td>-0.725996</td>\n",
       "    </tr>\n",
       "    <tr>\n",
       "      <th>2</th>\n",
       "      <td>-0.925355</td>\n",
       "      <td>-0.268184</td>\n",
       "      <td>0.807492</td>\n",
       "      <td>-0.303505</td>\n",
       "      <td>-0.188798</td>\n",
       "      <td>1.277021</td>\n",
       "      <td>-0.244094</td>\n",
       "      <td>-0.158682</td>\n",
       "      <td>-0.086757</td>\n",
       "      <td>-0.037572</td>\n",
       "      <td>-0.913904</td>\n",
       "      <td>1.109102</td>\n",
       "      <td>0.327772</td>\n",
       "      <td>0.237322</td>\n",
       "    </tr>\n",
       "    <tr>\n",
       "      <th>3</th>\n",
       "      <td>1.139466</td>\n",
       "      <td>-0.268184</td>\n",
       "      <td>1.769682</td>\n",
       "      <td>-0.303505</td>\n",
       "      <td>-0.685463</td>\n",
       "      <td>-0.423001</td>\n",
       "      <td>-0.244094</td>\n",
       "      <td>-0.158682</td>\n",
       "      <td>-0.086757</td>\n",
       "      <td>-0.037572</td>\n",
       "      <td>0.927398</td>\n",
       "      <td>-1.305018</td>\n",
       "      <td>0.581305</td>\n",
       "      <td>-0.799009</td>\n",
       "    </tr>\n",
       "    <tr>\n",
       "      <th>4</th>\n",
       "      <td>-0.439515</td>\n",
       "      <td>-0.268184</td>\n",
       "      <td>-0.760521</td>\n",
       "      <td>-1.134767</td>\n",
       "      <td>-0.685463</td>\n",
       "      <td>-0.423001</td>\n",
       "      <td>-0.244094</td>\n",
       "      <td>-0.158682</td>\n",
       "      <td>-0.086757</td>\n",
       "      <td>-0.037572</td>\n",
       "      <td>0.927398</td>\n",
       "      <td>-0.091678</td>\n",
       "      <td>0.327772</td>\n",
       "      <td>0.053380</td>\n",
       "    </tr>\n",
       "    <tr>\n",
       "      <th>...</th>\n",
       "      <td>...</td>\n",
       "      <td>...</td>\n",
       "      <td>...</td>\n",
       "      <td>...</td>\n",
       "      <td>...</td>\n",
       "      <td>...</td>\n",
       "      <td>...</td>\n",
       "      <td>...</td>\n",
       "      <td>...</td>\n",
       "      <td>...</td>\n",
       "      <td>...</td>\n",
       "      <td>...</td>\n",
       "      <td>...</td>\n",
       "      <td>...</td>\n",
       "    </tr>\n",
       "    <tr>\n",
       "      <th>12483</th>\n",
       "      <td>1.139466</td>\n",
       "      <td>-0.268184</td>\n",
       "      <td>0.807492</td>\n",
       "      <td>-0.511321</td>\n",
       "      <td>1.033762</td>\n",
       "      <td>-0.423001</td>\n",
       "      <td>-0.244094</td>\n",
       "      <td>-0.158682</td>\n",
       "      <td>-0.086757</td>\n",
       "      <td>-0.037572</td>\n",
       "      <td>-0.153624</td>\n",
       "      <td>-0.790039</td>\n",
       "      <td>0.327772</td>\n",
       "      <td>0.934677</td>\n",
       "    </tr>\n",
       "    <tr>\n",
       "      <th>12484</th>\n",
       "      <td>-0.925355</td>\n",
       "      <td>0.333465</td>\n",
       "      <td>-0.439791</td>\n",
       "      <td>-0.234233</td>\n",
       "      <td>-0.685463</td>\n",
       "      <td>-0.423001</td>\n",
       "      <td>-0.244094</td>\n",
       "      <td>-0.158682</td>\n",
       "      <td>-0.086757</td>\n",
       "      <td>-0.037572</td>\n",
       "      <td>0.927398</td>\n",
       "      <td>-1.312554</td>\n",
       "      <td>0.750327</td>\n",
       "      <td>1.752366</td>\n",
       "    </tr>\n",
       "    <tr>\n",
       "      <th>12485</th>\n",
       "      <td>0.289246</td>\n",
       "      <td>-0.268184</td>\n",
       "      <td>-0.546701</td>\n",
       "      <td>-0.234233</td>\n",
       "      <td>-0.494438</td>\n",
       "      <td>0.555800</td>\n",
       "      <td>-0.244094</td>\n",
       "      <td>-0.158682</td>\n",
       "      <td>-0.086757</td>\n",
       "      <td>-0.037572</td>\n",
       "      <td>1.129347</td>\n",
       "      <td>1.714516</td>\n",
       "      <td>0.496794</td>\n",
       "      <td>1.032476</td>\n",
       "    </tr>\n",
       "    <tr>\n",
       "      <th>12486</th>\n",
       "      <td>-0.925355</td>\n",
       "      <td>-0.268184</td>\n",
       "      <td>0.807492</td>\n",
       "      <td>1.809285</td>\n",
       "      <td>0.155047</td>\n",
       "      <td>3.543718</td>\n",
       "      <td>-0.244094</td>\n",
       "      <td>-0.158682</td>\n",
       "      <td>-0.086757</td>\n",
       "      <td>-0.037572</td>\n",
       "      <td>-0.913904</td>\n",
       "      <td>-0.064045</td>\n",
       "      <td>0.074238</td>\n",
       "      <td>-0.703847</td>\n",
       "    </tr>\n",
       "    <tr>\n",
       "      <th>12487</th>\n",
       "      <td>-0.925355</td>\n",
       "      <td>-0.268184</td>\n",
       "      <td>0.807492</td>\n",
       "      <td>-0.303505</td>\n",
       "      <td>-0.685463</td>\n",
       "      <td>-0.423001</td>\n",
       "      <td>-0.244094</td>\n",
       "      <td>-0.158682</td>\n",
       "      <td>-0.086757</td>\n",
       "      <td>-0.037572</td>\n",
       "      <td>-0.153624</td>\n",
       "      <td>1.691907</td>\n",
       "      <td>-0.010273</td>\n",
       "      <td>1.133787</td>\n",
       "    </tr>\n",
       "  </tbody>\n",
       "</table>\n",
       "<p>12488 rows × 14 columns</p>\n",
       "</div>"
      ],
      "text/plain": [
       "        TITLE_1   TITLE_2  CUISINE_1  CUISINE_2  CUISINE_3  CUISINE_4  \\\n",
       "0     -0.925355 -0.268184   0.344216   0.008218   1.874272  -0.423001   \n",
       "1     -0.925355  0.333465  -1.508890   0.978023   0.919147  -0.423001   \n",
       "2     -0.925355 -0.268184   0.807492  -0.303505  -0.188798   1.277021   \n",
       "3      1.139466 -0.268184   1.769682  -0.303505  -0.685463  -0.423001   \n",
       "4     -0.439515 -0.268184  -0.760521  -1.134767  -0.685463  -0.423001   \n",
       "...         ...       ...        ...        ...        ...        ...   \n",
       "12483  1.139466 -0.268184   0.807492  -0.511321   1.033762  -0.423001   \n",
       "12484 -0.925355  0.333465  -0.439791  -0.234233  -0.685463  -0.423001   \n",
       "12485  0.289246 -0.268184  -0.546701  -0.234233  -0.494438   0.555800   \n",
       "12486 -0.925355 -0.268184   0.807492   1.809285   0.155047   3.543718   \n",
       "12487 -0.925355 -0.268184   0.807492  -0.303505  -0.685463  -0.423001   \n",
       "\n",
       "       CUISINE_5  CUISINE_6  CUISINE_7  CUISINE_8      CITY  LOCALITY  \\\n",
       "0      -0.244094  -0.158682  -0.086757  -0.037572  2.091576 -0.933229   \n",
       "1      -0.244094  -0.158682  -0.086757  -0.037572 -0.913904  0.973449   \n",
       "2      -0.244094  -0.158682  -0.086757  -0.037572 -0.913904  1.109102   \n",
       "3      -0.244094  -0.158682  -0.086757  -0.037572  0.927398 -1.305018   \n",
       "4      -0.244094  -0.158682  -0.086757  -0.037572  0.927398 -0.091678   \n",
       "...          ...        ...        ...        ...       ...       ...   \n",
       "12483  -0.244094  -0.158682  -0.086757  -0.037572 -0.153624 -0.790039   \n",
       "12484  -0.244094  -0.158682  -0.086757  -0.037572  0.927398 -1.312554   \n",
       "12485  -0.244094  -0.158682  -0.086757  -0.037572  1.129347  1.714516   \n",
       "12486  -0.244094  -0.158682  -0.086757  -0.037572 -0.913904 -0.064045   \n",
       "12487  -0.244094  -0.158682  -0.086757  -0.037572 -0.153624  1.691907   \n",
       "\n",
       "         RATING     VOTES  \n",
       "0      0.158749 -0.545025  \n",
       "1      0.665816 -0.725996  \n",
       "2      0.327772  0.237322  \n",
       "3      0.581305 -0.799009  \n",
       "4      0.327772  0.053380  \n",
       "...         ...       ...  \n",
       "12483  0.327772  0.934677  \n",
       "12484  0.750327  1.752366  \n",
       "12485  0.496794  1.032476  \n",
       "12486  0.074238 -0.703847  \n",
       "12487 -0.010273  1.133787  \n",
       "\n",
       "[12488 rows x 14 columns]"
      ]
     },
     "execution_count": 90,
     "metadata": {},
     "output_type": "execute_result"
    }
   ],
   "source": [
    "x"
   ]
  },
  {
   "cell_type": "markdown",
   "id": "63487965",
   "metadata": {},
   "source": [
    "# Variance Inflation Factor"
   ]
  },
  {
   "cell_type": "code",
   "execution_count": 91,
   "id": "1e0d5bfe",
   "metadata": {},
   "outputs": [],
   "source": [
    "def vif_cal(x):\n",
    "    vif=pd.DataFrame()\n",
    "    vif['Features']=x.columns\n",
    "    vif['VIF Factor']=[VIF(x.values,i) for i in range(x.shape[1])]\n",
    "    return vif"
   ]
  },
  {
   "cell_type": "code",
   "execution_count": 92,
   "id": "3eefa854",
   "metadata": {},
   "outputs": [
    {
     "data": {
      "text/html": [
       "<div>\n",
       "<style scoped>\n",
       "    .dataframe tbody tr th:only-of-type {\n",
       "        vertical-align: middle;\n",
       "    }\n",
       "\n",
       "    .dataframe tbody tr th {\n",
       "        vertical-align: top;\n",
       "    }\n",
       "\n",
       "    .dataframe thead th {\n",
       "        text-align: right;\n",
       "    }\n",
       "</style>\n",
       "<table border=\"1\" class=\"dataframe\">\n",
       "  <thead>\n",
       "    <tr style=\"text-align: right;\">\n",
       "      <th></th>\n",
       "      <th>Features</th>\n",
       "      <th>VIF Factor</th>\n",
       "    </tr>\n",
       "  </thead>\n",
       "  <tbody>\n",
       "    <tr>\n",
       "      <th>0</th>\n",
       "      <td>TITLE_1</td>\n",
       "      <td>1.122732</td>\n",
       "    </tr>\n",
       "    <tr>\n",
       "      <th>1</th>\n",
       "      <td>TITLE_2</td>\n",
       "      <td>1.031891</td>\n",
       "    </tr>\n",
       "    <tr>\n",
       "      <th>2</th>\n",
       "      <td>CUISINE_1</td>\n",
       "      <td>1.061132</td>\n",
       "    </tr>\n",
       "    <tr>\n",
       "      <th>3</th>\n",
       "      <td>CUISINE_2</td>\n",
       "      <td>1.075508</td>\n",
       "    </tr>\n",
       "    <tr>\n",
       "      <th>4</th>\n",
       "      <td>CUISINE_3</td>\n",
       "      <td>1.257329</td>\n",
       "    </tr>\n",
       "    <tr>\n",
       "      <th>5</th>\n",
       "      <td>CUISINE_4</td>\n",
       "      <td>1.377130</td>\n",
       "    </tr>\n",
       "    <tr>\n",
       "      <th>6</th>\n",
       "      <td>CUISINE_5</td>\n",
       "      <td>1.513176</td>\n",
       "    </tr>\n",
       "    <tr>\n",
       "      <th>7</th>\n",
       "      <td>CUISINE_6</td>\n",
       "      <td>1.511759</td>\n",
       "    </tr>\n",
       "    <tr>\n",
       "      <th>8</th>\n",
       "      <td>CUISINE_7</td>\n",
       "      <td>1.289238</td>\n",
       "    </tr>\n",
       "    <tr>\n",
       "      <th>9</th>\n",
       "      <td>CUISINE_8</td>\n",
       "      <td>1.105941</td>\n",
       "    </tr>\n",
       "    <tr>\n",
       "      <th>10</th>\n",
       "      <td>CITY</td>\n",
       "      <td>1.024559</td>\n",
       "    </tr>\n",
       "    <tr>\n",
       "      <th>11</th>\n",
       "      <td>LOCALITY</td>\n",
       "      <td>1.005572</td>\n",
       "    </tr>\n",
       "    <tr>\n",
       "      <th>12</th>\n",
       "      <td>RATING</td>\n",
       "      <td>1.908675</td>\n",
       "    </tr>\n",
       "    <tr>\n",
       "      <th>13</th>\n",
       "      <td>VOTES</td>\n",
       "      <td>2.058476</td>\n",
       "    </tr>\n",
       "  </tbody>\n",
       "</table>\n",
       "</div>"
      ],
      "text/plain": [
       "     Features  VIF Factor\n",
       "0     TITLE_1    1.122732\n",
       "1     TITLE_2    1.031891\n",
       "2   CUISINE_1    1.061132\n",
       "3   CUISINE_2    1.075508\n",
       "4   CUISINE_3    1.257329\n",
       "5   CUISINE_4    1.377130\n",
       "6   CUISINE_5    1.513176\n",
       "7   CUISINE_6    1.511759\n",
       "8   CUISINE_7    1.289238\n",
       "9   CUISINE_8    1.105941\n",
       "10       CITY    1.024559\n",
       "11   LOCALITY    1.005572\n",
       "12     RATING    1.908675\n",
       "13      VOTES    2.058476"
      ]
     },
     "execution_count": 92,
     "metadata": {},
     "output_type": "execute_result"
    }
   ],
   "source": [
    "vif_cal(x)"
   ]
  },
  {
   "cell_type": "markdown",
   "id": "0cf9e9c3",
   "metadata": {},
   "source": [
    "- The VIF factor in the dataset is within the acceptable range."
   ]
  },
  {
   "cell_type": "markdown",
   "id": "0c926715",
   "metadata": {},
   "source": [
    "# Modelling"
   ]
  },
  {
   "cell_type": "markdown",
   "id": "3e90251f",
   "metadata": {},
   "source": [
    "Calculating the random state and score"
   ]
  },
  {
   "cell_type": "code",
   "execution_count": 99,
   "id": "40b0c780",
   "metadata": {},
   "outputs": [],
   "source": [
    "def random_state_cal(x,y):\n",
    "    best_randomstate = None\n",
    "    best_score = 0\n",
    "    \n",
    "    for rs in range(1,201):\n",
    "        x_train,x_test,y_train,y_test=train_test_split(x,y,test_size=.3,random_state=rs)\n",
    "        model_lr=LinearRegression()\n",
    "        model_lr.fit(x_train,y_train)\n",
    "        pred=model_lr.predict(x_test)\n",
    "        score=r2_score(y_test,pred)\n",
    "        \n",
    "        if score>best_score:\n",
    "            best_score=score\n",
    "            best_randomstate=rs\n",
    "    print('R2 Score :{} Random state :{}'.format(best_score,best_randomstate))"
   ]
  },
  {
   "cell_type": "code",
   "execution_count": 100,
   "id": "b1c6a75b",
   "metadata": {},
   "outputs": [
    {
     "name": "stdout",
     "output_type": "stream",
     "text": [
      "R2 Score :0.2227843483694968 Random state :65\n"
     ]
    }
   ],
   "source": [
    "random_state_cal(x,y)"
   ]
  },
  {
   "cell_type": "markdown",
   "id": "2c1d1d5d",
   "metadata": {},
   "source": [
    "Applying train_test_split with test_size=.30 and random_state=65"
   ]
  },
  {
   "cell_type": "code",
   "execution_count": 101,
   "id": "006c3947",
   "metadata": {},
   "outputs": [],
   "source": [
    "x_train,x_test,y_train,y_test=train_test_split(x,y,test_size=.3,random_state=37)"
   ]
  },
  {
   "cell_type": "markdown",
   "id": "2f8b00c7",
   "metadata": {},
   "source": [
    "Linear Regression"
   ]
  },
  {
   "cell_type": "code",
   "execution_count": 102,
   "id": "e0b19dca",
   "metadata": {},
   "outputs": [],
   "source": [
    "def Linear_Regression(x_train,x_test,y_train,y_test):\n",
    "    \n",
    "    model_lr=LinearRegression()\n",
    "    model_lr.fit(x_train,y_train)\n",
    "    prediction_lr=model_lr.predict(x_test)\n",
    "    prediction_y_train=model_lr.predict(x_train)\n",
    "    \n",
    "    r2=r2_score(y_test,prediction_lr) * 100\n",
    "    r2_train=r2_score(y_train,prediction_y_train) * 100\n",
    "    mae=mean_absolute_error(y_test,prediction_lr)\n",
    "    mse=mean_squared_error(y_test,prediction_lr)\n",
    "    rmse=np.sqrt(mean_squared_error(y_test,prediction_lr))\n",
    "    prediction_chart=pd.DataFrame({'Linear Regression':['R2 Score',\n",
    "                                             'R2 Score on Training Data',\n",
    "                                             'Mean Absolute Error',\n",
    "                                             'Mean Squared Error', \n",
    "                                             'Root Mean Squared Error'], \n",
    "                                   'Scores':[r2,r2_train,mae,mse,rmse]\n",
    "                                  })\n",
    "    return prediction_chart,prediction_lr "
   ]
  },
  {
   "cell_type": "code",
   "execution_count": 103,
   "id": "a848fdb5",
   "metadata": {},
   "outputs": [
    {
     "data": {
      "text/html": [
       "<div>\n",
       "<style scoped>\n",
       "    .dataframe tbody tr th:only-of-type {\n",
       "        vertical-align: middle;\n",
       "    }\n",
       "\n",
       "    .dataframe tbody tr th {\n",
       "        vertical-align: top;\n",
       "    }\n",
       "\n",
       "    .dataframe thead th {\n",
       "        text-align: right;\n",
       "    }\n",
       "</style>\n",
       "<table border=\"1\" class=\"dataframe\">\n",
       "  <thead>\n",
       "    <tr style=\"text-align: right;\">\n",
       "      <th></th>\n",
       "      <th>Linear Regression</th>\n",
       "      <th>Scores</th>\n",
       "    </tr>\n",
       "  </thead>\n",
       "  <tbody>\n",
       "    <tr>\n",
       "      <th>0</th>\n",
       "      <td>R2 Score</td>\n",
       "      <td>19.723176</td>\n",
       "    </tr>\n",
       "    <tr>\n",
       "      <th>1</th>\n",
       "      <td>R2 Score on Training Data</td>\n",
       "      <td>18.662790</td>\n",
       "    </tr>\n",
       "    <tr>\n",
       "      <th>2</th>\n",
       "      <td>Mean Absolute Error</td>\n",
       "      <td>314.308658</td>\n",
       "    </tr>\n",
       "    <tr>\n",
       "      <th>3</th>\n",
       "      <td>Mean Squared Error</td>\n",
       "      <td>280500.014881</td>\n",
       "    </tr>\n",
       "    <tr>\n",
       "      <th>4</th>\n",
       "      <td>Root Mean Squared Error</td>\n",
       "      <td>529.622521</td>\n",
       "    </tr>\n",
       "  </tbody>\n",
       "</table>\n",
       "</div>"
      ],
      "text/plain": [
       "           Linear Regression         Scores\n",
       "0                   R2 Score      19.723176\n",
       "1  R2 Score on Training Data      18.662790\n",
       "2        Mean Absolute Error     314.308658\n",
       "3         Mean Squared Error  280500.014881\n",
       "4    Root Mean Squared Error     529.622521"
      ]
     },
     "execution_count": 103,
     "metadata": {},
     "output_type": "execute_result"
    }
   ],
   "source": [
    "prediction_chart,prediction_lr=Linear_Regression(x_train,x_test,y_train,y_test)\n",
    "prediction_chart"
   ]
  },
  {
   "cell_type": "markdown",
   "id": "d0eeb32b",
   "metadata": {},
   "source": [
    "Lasso Regression"
   ]
  },
  {
   "cell_type": "code",
   "execution_count": 104,
   "id": "0cdc4682",
   "metadata": {},
   "outputs": [],
   "source": [
    "def lasso(x_train,x_test,y_train,y_test):\n",
    "    \n",
    "    model_lasso=Lasso()\n",
    "    model_lasso.fit(x_train,y_train)\n",
    "    prediction_las=model_lasso.predict(x_test)\n",
    "    prediction_y_train=model_lasso.predict(x_train)\n",
    "    \n",
    "    r2=r2_score(y_test,prediction_las) * 100\n",
    "    r2_train=r2_score(y_train,prediction_y_train) * 100\n",
    "    mae=mean_absolute_error(y_test,prediction_las)\n",
    "    mse=mean_squared_error(y_test,prediction_las)\n",
    "    rmse=np.sqrt(mean_squared_error(y_test,prediction_las))\n",
    "    prediction_chart=pd.DataFrame({'Lasso':['R2 Score',\n",
    "                                             'R2 Score on Training Data',\n",
    "                                             'Mean Absolute Error',\n",
    "                                             'Mean Squared Error', \n",
    "                                             'Root Mean Squared Error'], \n",
    "                                   'Scores':[r2,r2_train,mae,mse,rmse]\n",
    "                                  })\n",
    "    return prediction_chart,prediction_las"
   ]
  },
  {
   "cell_type": "code",
   "execution_count": 105,
   "id": "bb83ac8c",
   "metadata": {},
   "outputs": [
    {
     "data": {
      "text/html": [
       "<div>\n",
       "<style scoped>\n",
       "    .dataframe tbody tr th:only-of-type {\n",
       "        vertical-align: middle;\n",
       "    }\n",
       "\n",
       "    .dataframe tbody tr th {\n",
       "        vertical-align: top;\n",
       "    }\n",
       "\n",
       "    .dataframe thead th {\n",
       "        text-align: right;\n",
       "    }\n",
       "</style>\n",
       "<table border=\"1\" class=\"dataframe\">\n",
       "  <thead>\n",
       "    <tr style=\"text-align: right;\">\n",
       "      <th></th>\n",
       "      <th>Lasso</th>\n",
       "      <th>Scores</th>\n",
       "    </tr>\n",
       "  </thead>\n",
       "  <tbody>\n",
       "    <tr>\n",
       "      <th>0</th>\n",
       "      <td>R2 Score</td>\n",
       "      <td>19.704936</td>\n",
       "    </tr>\n",
       "    <tr>\n",
       "      <th>1</th>\n",
       "      <td>R2 Score on Training Data</td>\n",
       "      <td>18.658809</td>\n",
       "    </tr>\n",
       "    <tr>\n",
       "      <th>2</th>\n",
       "      <td>Mean Absolute Error</td>\n",
       "      <td>314.620269</td>\n",
       "    </tr>\n",
       "    <tr>\n",
       "      <th>3</th>\n",
       "      <td>Mean Squared Error</td>\n",
       "      <td>280563.747491</td>\n",
       "    </tr>\n",
       "    <tr>\n",
       "      <th>4</th>\n",
       "      <td>Root Mean Squared Error</td>\n",
       "      <td>529.682686</td>\n",
       "    </tr>\n",
       "  </tbody>\n",
       "</table>\n",
       "</div>"
      ],
      "text/plain": [
       "                       Lasso         Scores\n",
       "0                   R2 Score      19.704936\n",
       "1  R2 Score on Training Data      18.658809\n",
       "2        Mean Absolute Error     314.620269\n",
       "3         Mean Squared Error  280563.747491\n",
       "4    Root Mean Squared Error     529.682686"
      ]
     },
     "execution_count": 105,
     "metadata": {},
     "output_type": "execute_result"
    }
   ],
   "source": [
    "prediction_chart,prediction_las=lasso(x_train,x_test,y_train,y_test)\n",
    "prediction_chart"
   ]
  },
  {
   "cell_type": "markdown",
   "id": "8bf57462",
   "metadata": {},
   "source": [
    "Ridge Regression"
   ]
  },
  {
   "cell_type": "code",
   "execution_count": 106,
   "id": "c425419b",
   "metadata": {},
   "outputs": [],
   "source": [
    "def ridge(x_train,x_test,y_train,y_test):\n",
    "    \n",
    "    model_ridge=Ridge()\n",
    "    model_ridge.fit(x_train,y_train)\n",
    "    prediction_ridge=model_ridge.predict(x_test)\n",
    "    prediction_y_train=model_ridge.predict(x_train)\n",
    "    \n",
    "    r2=r2_score(y_test,prediction_ridge) * 100\n",
    "    r2_train=r2_score(y_train,prediction_y_train) * 100\n",
    "    mae=mean_absolute_error(y_test,prediction_ridge)\n",
    "    mse=mean_squared_error(y_test,prediction_ridge)\n",
    "    rmse=np.sqrt(mean_squared_error(y_test,prediction_ridge))\n",
    "    prediction_chart=pd.DataFrame({'Ridge':['R2 Score',\n",
    "                                             'R2 Score on Training Data',\n",
    "                                             'Mean Absolute Error',\n",
    "                                             'Mean Squared Error', \n",
    "                                             'Root Mean Squared Error'], \n",
    "                                   'Scores':[r2,r2_train,mae,mse,rmse]\n",
    "                                  })\n",
    "    return prediction_chart,prediction_ridge"
   ]
  },
  {
   "cell_type": "code",
   "execution_count": 107,
   "id": "c2af63fb",
   "metadata": {},
   "outputs": [
    {
     "data": {
      "text/html": [
       "<div>\n",
       "<style scoped>\n",
       "    .dataframe tbody tr th:only-of-type {\n",
       "        vertical-align: middle;\n",
       "    }\n",
       "\n",
       "    .dataframe tbody tr th {\n",
       "        vertical-align: top;\n",
       "    }\n",
       "\n",
       "    .dataframe thead th {\n",
       "        text-align: right;\n",
       "    }\n",
       "</style>\n",
       "<table border=\"1\" class=\"dataframe\">\n",
       "  <thead>\n",
       "    <tr style=\"text-align: right;\">\n",
       "      <th></th>\n",
       "      <th>Ridge</th>\n",
       "      <th>Scores</th>\n",
       "    </tr>\n",
       "  </thead>\n",
       "  <tbody>\n",
       "    <tr>\n",
       "      <th>0</th>\n",
       "      <td>R2 Score</td>\n",
       "      <td>19.723283</td>\n",
       "    </tr>\n",
       "    <tr>\n",
       "      <th>1</th>\n",
       "      <td>R2 Score on Training Data</td>\n",
       "      <td>18.662789</td>\n",
       "    </tr>\n",
       "    <tr>\n",
       "      <th>2</th>\n",
       "      <td>Mean Absolute Error</td>\n",
       "      <td>314.308564</td>\n",
       "    </tr>\n",
       "    <tr>\n",
       "      <th>3</th>\n",
       "      <td>Mean Squared Error</td>\n",
       "      <td>280499.642187</td>\n",
       "    </tr>\n",
       "    <tr>\n",
       "      <th>4</th>\n",
       "      <td>Root Mean Squared Error</td>\n",
       "      <td>529.622169</td>\n",
       "    </tr>\n",
       "  </tbody>\n",
       "</table>\n",
       "</div>"
      ],
      "text/plain": [
       "                       Ridge         Scores\n",
       "0                   R2 Score      19.723283\n",
       "1  R2 Score on Training Data      18.662789\n",
       "2        Mean Absolute Error     314.308564\n",
       "3         Mean Squared Error  280499.642187\n",
       "4    Root Mean Squared Error     529.622169"
      ]
     },
     "execution_count": 107,
     "metadata": {},
     "output_type": "execute_result"
    }
   ],
   "source": [
    "prediction_chart,prediction_ridge=ridge(x_train,x_test,y_train,y_test)\n",
    "prediction_chart"
   ]
  },
  {
   "cell_type": "markdown",
   "id": "183fa962",
   "metadata": {},
   "source": [
    "Random forest"
   ]
  },
  {
   "cell_type": "code",
   "execution_count": 108,
   "id": "2387d454",
   "metadata": {},
   "outputs": [],
   "source": [
    "def random_forest(x_train,x_test,y_train,y_test):\n",
    "    \n",
    "    model_ran_forest=RandomForestRegressor()\n",
    "    model_ran_forest.fit(x_train,y_train)\n",
    "    prediction_rf=model_ran_forest.predict(x_test)\n",
    "    prediction_y_train=model_ran_forest.predict(x_train)\n",
    "    \n",
    "    r2=r2_score(y_test,prediction_rf) * 100\n",
    "    r2_train=r2_score(y_train,prediction_y_train) * 100\n",
    "    mae=mean_absolute_error(y_test,prediction_rf)\n",
    "    mse=mean_squared_error(y_test,prediction_rf)\n",
    "    rmse=np.sqrt(mean_squared_error(y_test,prediction_rf))\n",
    "    prediction_chart=pd.DataFrame({'Random Forest':['R2 Score',\n",
    "                                             'R2 Score on Training Data',\n",
    "                                             'Mean Absolute Error',\n",
    "                                             'Mean Squared Error', \n",
    "                                             'Root Mean Squared Error'], \n",
    "                                   'Scores':[r2,r2_train,mae,mse,rmse]\n",
    "                                  })\n",
    "    return prediction_chart, prediction_rf"
   ]
  },
  {
   "cell_type": "code",
   "execution_count": 109,
   "id": "149c08dc",
   "metadata": {},
   "outputs": [
    {
     "data": {
      "text/html": [
       "<div>\n",
       "<style scoped>\n",
       "    .dataframe tbody tr th:only-of-type {\n",
       "        vertical-align: middle;\n",
       "    }\n",
       "\n",
       "    .dataframe tbody tr th {\n",
       "        vertical-align: top;\n",
       "    }\n",
       "\n",
       "    .dataframe thead th {\n",
       "        text-align: right;\n",
       "    }\n",
       "</style>\n",
       "<table border=\"1\" class=\"dataframe\">\n",
       "  <thead>\n",
       "    <tr style=\"text-align: right;\">\n",
       "      <th></th>\n",
       "      <th>Random Forest</th>\n",
       "      <th>Scores</th>\n",
       "    </tr>\n",
       "  </thead>\n",
       "  <tbody>\n",
       "    <tr>\n",
       "      <th>0</th>\n",
       "      <td>R2 Score</td>\n",
       "      <td>66.318904</td>\n",
       "    </tr>\n",
       "    <tr>\n",
       "      <th>1</th>\n",
       "      <td>R2 Score on Training Data</td>\n",
       "      <td>95.565692</td>\n",
       "    </tr>\n",
       "    <tr>\n",
       "      <th>2</th>\n",
       "      <td>Mean Absolute Error</td>\n",
       "      <td>193.034096</td>\n",
       "    </tr>\n",
       "    <tr>\n",
       "      <th>3</th>\n",
       "      <td>Mean Squared Error</td>\n",
       "      <td>117687.117990</td>\n",
       "    </tr>\n",
       "    <tr>\n",
       "      <th>4</th>\n",
       "      <td>Root Mean Squared Error</td>\n",
       "      <td>343.055561</td>\n",
       "    </tr>\n",
       "  </tbody>\n",
       "</table>\n",
       "</div>"
      ],
      "text/plain": [
       "               Random Forest         Scores\n",
       "0                   R2 Score      66.318904\n",
       "1  R2 Score on Training Data      95.565692\n",
       "2        Mean Absolute Error     193.034096\n",
       "3         Mean Squared Error  117687.117990\n",
       "4    Root Mean Squared Error     343.055561"
      ]
     },
     "execution_count": 109,
     "metadata": {},
     "output_type": "execute_result"
    }
   ],
   "source": [
    "prediction_chart, prediction_rf=random_forest(x_train,x_test,y_train,y_test)\n",
    "prediction_chart"
   ]
  },
  {
   "cell_type": "markdown",
   "id": "f037555a",
   "metadata": {},
   "source": [
    "KNN Regressor"
   ]
  },
  {
   "cell_type": "code",
   "execution_count": 110,
   "id": "f14ba174",
   "metadata": {},
   "outputs": [],
   "source": [
    "def knn(x_train,x_test,y_train,y_test):\n",
    "    \n",
    "    model_knn=KNN()\n",
    "    model_knn.fit(x_train,y_train)\n",
    "    prediction_knn=model_knn.predict(x_test)\n",
    "    prediction_y_train=model_knn.predict(x_train)\n",
    "    \n",
    "    r2=r2_score(y_test,prediction_knn) * 100\n",
    "    r2_train=r2_score(y_train,prediction_y_train) * 100\n",
    "    mae=mean_absolute_error(y_test,prediction_knn)\n",
    "    mse=mean_squared_error(y_test,prediction_knn)\n",
    "    rmse=np.sqrt(mean_squared_error(y_test,prediction_knn))\n",
    "    prediction_chart=pd.DataFrame({'KNN':['R2 Score',\n",
    "                                             'R2 Score on Training Data',\n",
    "                                             'Mean Absolute Error',\n",
    "                                             'Mean Squared Error', \n",
    "                                             'Root Mean Squared Error'], \n",
    "                                   'Scores':[r2,r2_train,mae,mse,rmse]\n",
    "                                  })\n",
    "    return prediction_chart,prediction_knn"
   ]
  },
  {
   "cell_type": "code",
   "execution_count": 111,
   "id": "849da016",
   "metadata": {},
   "outputs": [
    {
     "data": {
      "text/html": [
       "<div>\n",
       "<style scoped>\n",
       "    .dataframe tbody tr th:only-of-type {\n",
       "        vertical-align: middle;\n",
       "    }\n",
       "\n",
       "    .dataframe tbody tr th {\n",
       "        vertical-align: top;\n",
       "    }\n",
       "\n",
       "    .dataframe thead th {\n",
       "        text-align: right;\n",
       "    }\n",
       "</style>\n",
       "<table border=\"1\" class=\"dataframe\">\n",
       "  <thead>\n",
       "    <tr style=\"text-align: right;\">\n",
       "      <th></th>\n",
       "      <th>KNN</th>\n",
       "      <th>Scores</th>\n",
       "    </tr>\n",
       "  </thead>\n",
       "  <tbody>\n",
       "    <tr>\n",
       "      <th>0</th>\n",
       "      <td>R2 Score</td>\n",
       "      <td>36.365188</td>\n",
       "    </tr>\n",
       "    <tr>\n",
       "      <th>1</th>\n",
       "      <td>R2 Score on Training Data</td>\n",
       "      <td>53.850768</td>\n",
       "    </tr>\n",
       "    <tr>\n",
       "      <th>2</th>\n",
       "      <td>Mean Absolute Error</td>\n",
       "      <td>267.220657</td>\n",
       "    </tr>\n",
       "    <tr>\n",
       "      <th>3</th>\n",
       "      <td>Mean Squared Error</td>\n",
       "      <td>222350.172437</td>\n",
       "    </tr>\n",
       "    <tr>\n",
       "      <th>4</th>\n",
       "      <td>Root Mean Squared Error</td>\n",
       "      <td>471.540213</td>\n",
       "    </tr>\n",
       "  </tbody>\n",
       "</table>\n",
       "</div>"
      ],
      "text/plain": [
       "                         KNN         Scores\n",
       "0                   R2 Score      36.365188\n",
       "1  R2 Score on Training Data      53.850768\n",
       "2        Mean Absolute Error     267.220657\n",
       "3         Mean Squared Error  222350.172437\n",
       "4    Root Mean Squared Error     471.540213"
      ]
     },
     "execution_count": 111,
     "metadata": {},
     "output_type": "execute_result"
    }
   ],
   "source": [
    "prediction_chart,prediction_knn=knn(x_train,x_test,y_train,y_test)\n",
    "prediction_chart"
   ]
  },
  {
   "cell_type": "markdown",
   "id": "65c1f0bd",
   "metadata": {},
   "source": [
    "SVR"
   ]
  },
  {
   "cell_type": "code",
   "execution_count": 112,
   "id": "79b04c77",
   "metadata": {},
   "outputs": [],
   "source": [
    "def svr(x_train,x_test,y_train,y_test):\n",
    "    \n",
    "    model_svr=SVR()\n",
    "    model_svr.fit(x_train,y_train)\n",
    "    prediction_svr=model_svr.predict(x_test)\n",
    "    prediction_y_train=model_svr.predict(x_train)\n",
    "    \n",
    "    r2=r2_score(y_test,prediction_svr) * 100\n",
    "    r2_train=r2_score(y_train,prediction_y_train) * 100\n",
    "    mae=mean_absolute_error(y_test,prediction_svr)\n",
    "    mse=mean_squared_error(y_test,prediction_svr)\n",
    "    rmse=np.sqrt(mean_squared_error(y_test,prediction_svr))\n",
    "    prediction_chart=pd.DataFrame({'SVR':['R2 Score',\n",
    "                                             'R2 Score on Training Data',\n",
    "                                             'Mean Absolute Error',\n",
    "                                             'Mean Squared Error', \n",
    "                                             'Root Mean Squared Error'], \n",
    "                                   'Scores':[r2,r2_train,mae,mse,rmse]\n",
    "                                  })\n",
    "    return prediction_chart, prediction_svr"
   ]
  },
  {
   "cell_type": "code",
   "execution_count": 113,
   "id": "3479903e",
   "metadata": {},
   "outputs": [
    {
     "data": {
      "text/html": [
       "<div>\n",
       "<style scoped>\n",
       "    .dataframe tbody tr th:only-of-type {\n",
       "        vertical-align: middle;\n",
       "    }\n",
       "\n",
       "    .dataframe tbody tr th {\n",
       "        vertical-align: top;\n",
       "    }\n",
       "\n",
       "    .dataframe thead th {\n",
       "        text-align: right;\n",
       "    }\n",
       "</style>\n",
       "<table border=\"1\" class=\"dataframe\">\n",
       "  <thead>\n",
       "    <tr style=\"text-align: right;\">\n",
       "      <th></th>\n",
       "      <th>SVR</th>\n",
       "      <th>Scores</th>\n",
       "    </tr>\n",
       "  </thead>\n",
       "  <tbody>\n",
       "    <tr>\n",
       "      <th>0</th>\n",
       "      <td>R2 Score</td>\n",
       "      <td>6.762548</td>\n",
       "    </tr>\n",
       "    <tr>\n",
       "      <th>1</th>\n",
       "      <td>R2 Score on Training Data</td>\n",
       "      <td>5.597786</td>\n",
       "    </tr>\n",
       "    <tr>\n",
       "      <th>2</th>\n",
       "      <td>Mean Absolute Error</td>\n",
       "      <td>294.280101</td>\n",
       "    </tr>\n",
       "    <tr>\n",
       "      <th>3</th>\n",
       "      <td>Mean Squared Error</td>\n",
       "      <td>325786.516250</td>\n",
       "    </tr>\n",
       "    <tr>\n",
       "      <th>4</th>\n",
       "      <td>Root Mean Squared Error</td>\n",
       "      <td>570.777116</td>\n",
       "    </tr>\n",
       "  </tbody>\n",
       "</table>\n",
       "</div>"
      ],
      "text/plain": [
       "                         SVR         Scores\n",
       "0                   R2 Score       6.762548\n",
       "1  R2 Score on Training Data       5.597786\n",
       "2        Mean Absolute Error     294.280101\n",
       "3         Mean Squared Error  325786.516250\n",
       "4    Root Mean Squared Error     570.777116"
      ]
     },
     "execution_count": 113,
     "metadata": {},
     "output_type": "execute_result"
    }
   ],
   "source": [
    "prediction_chart, prediction_svr=svr(x_train,x_test,y_train,y_test)\n",
    "prediction_chart"
   ]
  },
  {
   "cell_type": "markdown",
   "id": "fe994721",
   "metadata": {},
   "source": [
    "DecisionTree Regressor"
   ]
  },
  {
   "cell_type": "code",
   "execution_count": 114,
   "id": "085a892b",
   "metadata": {},
   "outputs": [],
   "source": [
    "def decision_tree(x_train,x_test,y_train,y_test):\n",
    "    \n",
    "    model_dt=DTR()\n",
    "    model_dt.fit(x_train,y_train)\n",
    "    prediction_dt=model_dt.predict(x_test)\n",
    "    prediction_y_train=model_dt.predict(x_train)\n",
    "    \n",
    "    r2=r2_score(y_test,prediction_dt) * 100\n",
    "    r2_train=r2_score(y_train,prediction_y_train) * 100\n",
    "    mae=mean_absolute_error(y_test,prediction_dt)\n",
    "    mse=mean_squared_error(y_test,prediction_dt)\n",
    "    rmse=np.sqrt(mean_squared_error(y_test,prediction_dt))\n",
    "    prediction_chart=pd.DataFrame({'Decision Tree':['R2 Score',\n",
    "                                             'R2 Score on Training Data',\n",
    "                                             'Mean Absolute Error',\n",
    "                                             'Mean Squared Error', \n",
    "                                             'Root Mean Squared Error'], \n",
    "                                   'Scores':[r2,r2_train,mae,mse,rmse]\n",
    "                                  })\n",
    "    return prediction_chart, prediction_dt"
   ]
  },
  {
   "cell_type": "code",
   "execution_count": 115,
   "id": "63077bcd",
   "metadata": {},
   "outputs": [
    {
     "data": {
      "text/html": [
       "<div>\n",
       "<style scoped>\n",
       "    .dataframe tbody tr th:only-of-type {\n",
       "        vertical-align: middle;\n",
       "    }\n",
       "\n",
       "    .dataframe tbody tr th {\n",
       "        vertical-align: top;\n",
       "    }\n",
       "\n",
       "    .dataframe thead th {\n",
       "        text-align: right;\n",
       "    }\n",
       "</style>\n",
       "<table border=\"1\" class=\"dataframe\">\n",
       "  <thead>\n",
       "    <tr style=\"text-align: right;\">\n",
       "      <th></th>\n",
       "      <th>Decision Tree</th>\n",
       "      <th>Scores</th>\n",
       "    </tr>\n",
       "  </thead>\n",
       "  <tbody>\n",
       "    <tr>\n",
       "      <th>0</th>\n",
       "      <td>R2 Score</td>\n",
       "      <td>4.664338</td>\n",
       "    </tr>\n",
       "    <tr>\n",
       "      <th>1</th>\n",
       "      <td>R2 Score on Training Data</td>\n",
       "      <td>99.988189</td>\n",
       "    </tr>\n",
       "    <tr>\n",
       "      <th>2</th>\n",
       "      <td>Mean Absolute Error</td>\n",
       "      <td>266.314874</td>\n",
       "    </tr>\n",
       "    <tr>\n",
       "      <th>3</th>\n",
       "      <td>Mean Squared Error</td>\n",
       "      <td>333117.995085</td>\n",
       "    </tr>\n",
       "    <tr>\n",
       "      <th>4</th>\n",
       "      <td>Root Mean Squared Error</td>\n",
       "      <td>577.163751</td>\n",
       "    </tr>\n",
       "  </tbody>\n",
       "</table>\n",
       "</div>"
      ],
      "text/plain": [
       "               Decision Tree         Scores\n",
       "0                   R2 Score       4.664338\n",
       "1  R2 Score on Training Data      99.988189\n",
       "2        Mean Absolute Error     266.314874\n",
       "3         Mean Squared Error  333117.995085\n",
       "4    Root Mean Squared Error     577.163751"
      ]
     },
     "execution_count": 115,
     "metadata": {},
     "output_type": "execute_result"
    }
   ],
   "source": [
    "prediction_chart, prediction_dt=decision_tree(x_train,x_test,y_train,y_test)\n",
    "prediction_chart"
   ]
  },
  {
   "cell_type": "markdown",
   "id": "42be9d33",
   "metadata": {},
   "source": [
    "Gradient Boosting"
   ]
  },
  {
   "cell_type": "code",
   "execution_count": 116,
   "id": "dc7df26e",
   "metadata": {},
   "outputs": [],
   "source": [
    "def gradient_boosting(x_train,x_test,y_train,y_test):\n",
    "    \n",
    "    model_gbr=GradientBoostingRegressor()\n",
    "    model_gbr.fit(x_train,y_train)\n",
    "    prediction_gb=model_gbr.predict(x_test)\n",
    "    prediction_y_train=model_gbr.predict(x_train)\n",
    "    \n",
    "    r2=r2_score(y_test,prediction_gb) * 100\n",
    "    r2_train=r2_score(y_train,prediction_y_train) * 100\n",
    "    mae=mean_absolute_error(y_test,prediction_gb)\n",
    "    mse=mean_squared_error(y_test,prediction_gb)\n",
    "    rmse=np.sqrt(mean_squared_error(y_test,prediction_gb))\n",
    "    prediction_chart=pd.DataFrame({'Gradient Boosting Regressor':['R2 Score',\n",
    "                                             'R2 Score on Training Data',\n",
    "                                             'Mean Absolute Error',\n",
    "                                             'Mean Squared Error', \n",
    "                                             'Root Mean Squared Error'], \n",
    "                                   'Scores':[r2,r2_train,mae,mse,rmse]\n",
    "                                  })\n",
    "    return prediction_chart, prediction_gb"
   ]
  },
  {
   "cell_type": "code",
   "execution_count": 117,
   "id": "ed259802",
   "metadata": {},
   "outputs": [
    {
     "data": {
      "text/html": [
       "<div>\n",
       "<style scoped>\n",
       "    .dataframe tbody tr th:only-of-type {\n",
       "        vertical-align: middle;\n",
       "    }\n",
       "\n",
       "    .dataframe tbody tr th {\n",
       "        vertical-align: top;\n",
       "    }\n",
       "\n",
       "    .dataframe thead th {\n",
       "        text-align: right;\n",
       "    }\n",
       "</style>\n",
       "<table border=\"1\" class=\"dataframe\">\n",
       "  <thead>\n",
       "    <tr style=\"text-align: right;\">\n",
       "      <th></th>\n",
       "      <th>Gradient Boosting Regressor</th>\n",
       "      <th>Scores</th>\n",
       "    </tr>\n",
       "  </thead>\n",
       "  <tbody>\n",
       "    <tr>\n",
       "      <th>0</th>\n",
       "      <td>R2 Score</td>\n",
       "      <td>70.088894</td>\n",
       "    </tr>\n",
       "    <tr>\n",
       "      <th>1</th>\n",
       "      <td>R2 Score on Training Data</td>\n",
       "      <td>71.871906</td>\n",
       "    </tr>\n",
       "    <tr>\n",
       "      <th>2</th>\n",
       "      <td>Mean Absolute Error</td>\n",
       "      <td>194.688865</td>\n",
       "    </tr>\n",
       "    <tr>\n",
       "      <th>3</th>\n",
       "      <td>Mean Squared Error</td>\n",
       "      <td>104514.170513</td>\n",
       "    </tr>\n",
       "    <tr>\n",
       "      <th>4</th>\n",
       "      <td>Root Mean Squared Error</td>\n",
       "      <td>323.286515</td>\n",
       "    </tr>\n",
       "  </tbody>\n",
       "</table>\n",
       "</div>"
      ],
      "text/plain": [
       "  Gradient Boosting Regressor         Scores\n",
       "0                    R2 Score      70.088894\n",
       "1   R2 Score on Training Data      71.871906\n",
       "2         Mean Absolute Error     194.688865\n",
       "3          Mean Squared Error  104514.170513\n",
       "4     Root Mean Squared Error     323.286515"
      ]
     },
     "execution_count": 117,
     "metadata": {},
     "output_type": "execute_result"
    }
   ],
   "source": [
    "prediction_chart, prediction_gb=gradient_boosting(x_train,x_test,y_train,y_test)\n",
    "prediction_chart"
   ]
  },
  {
   "cell_type": "markdown",
   "id": "a5782a79",
   "metadata": {},
   "source": [
    "Extratrees Regressor"
   ]
  },
  {
   "cell_type": "code",
   "execution_count": 118,
   "id": "fe99f628",
   "metadata": {},
   "outputs": [],
   "source": [
    "def extra_trees_regressor(x_train,x_test,y_train,y_test):\n",
    "    \n",
    "    model_etr=GradientBoostingRegressor()\n",
    "    model_etr.fit(x_train,y_train)\n",
    "    prediction_etr=model_etr.predict(x_test)\n",
    "    prediction_y_train=model_etr.predict(x_train)\n",
    "    \n",
    "    r2=r2_score(y_test,prediction_etr) * 100\n",
    "    r2_train=r2_score(y_train,prediction_y_train) * 100\n",
    "    mae=mean_absolute_error(y_test,prediction_etr)\n",
    "    mse=mean_squared_error(y_test,prediction_etr)\n",
    "    rmse=np.sqrt(mean_squared_error(y_test,prediction_etr))\n",
    "    prediction_chart=pd.DataFrame({'Extra Trees Regressor':['R2 Score',\n",
    "                                             'R2 Score on Training Data',\n",
    "                                             'Mean Absolute Error',\n",
    "                                             'Mean Squared Error', \n",
    "                                             'Root Mean Squared Error'], \n",
    "                                   'Scores':[r2,r2_train,mae,mse,rmse]\n",
    "                                  })\n",
    "    return prediction_chart, prediction_etr"
   ]
  },
  {
   "cell_type": "code",
   "execution_count": 119,
   "id": "df0a4fc1",
   "metadata": {},
   "outputs": [
    {
     "data": {
      "text/html": [
       "<div>\n",
       "<style scoped>\n",
       "    .dataframe tbody tr th:only-of-type {\n",
       "        vertical-align: middle;\n",
       "    }\n",
       "\n",
       "    .dataframe tbody tr th {\n",
       "        vertical-align: top;\n",
       "    }\n",
       "\n",
       "    .dataframe thead th {\n",
       "        text-align: right;\n",
       "    }\n",
       "</style>\n",
       "<table border=\"1\" class=\"dataframe\">\n",
       "  <thead>\n",
       "    <tr style=\"text-align: right;\">\n",
       "      <th></th>\n",
       "      <th>Extra Trees Regressor</th>\n",
       "      <th>Scores</th>\n",
       "    </tr>\n",
       "  </thead>\n",
       "  <tbody>\n",
       "    <tr>\n",
       "      <th>0</th>\n",
       "      <td>R2 Score</td>\n",
       "      <td>70.070552</td>\n",
       "    </tr>\n",
       "    <tr>\n",
       "      <th>1</th>\n",
       "      <td>R2 Score on Training Data</td>\n",
       "      <td>71.871906</td>\n",
       "    </tr>\n",
       "    <tr>\n",
       "      <th>2</th>\n",
       "      <td>Mean Absolute Error</td>\n",
       "      <td>194.735536</td>\n",
       "    </tr>\n",
       "    <tr>\n",
       "      <th>3</th>\n",
       "      <td>Mean Squared Error</td>\n",
       "      <td>104578.260669</td>\n",
       "    </tr>\n",
       "    <tr>\n",
       "      <th>4</th>\n",
       "      <td>Root Mean Squared Error</td>\n",
       "      <td>323.385622</td>\n",
       "    </tr>\n",
       "  </tbody>\n",
       "</table>\n",
       "</div>"
      ],
      "text/plain": [
       "       Extra Trees Regressor         Scores\n",
       "0                   R2 Score      70.070552\n",
       "1  R2 Score on Training Data      71.871906\n",
       "2        Mean Absolute Error     194.735536\n",
       "3         Mean Squared Error  104578.260669\n",
       "4    Root Mean Squared Error     323.385622"
      ]
     },
     "execution_count": 119,
     "metadata": {},
     "output_type": "execute_result"
    }
   ],
   "source": [
    "prediction_chart, prediction_etr=extra_trees_regressor(x_train,x_test,y_train,y_test)\n",
    "prediction_chart"
   ]
  },
  {
   "cell_type": "markdown",
   "id": "70ede2f8",
   "metadata": {},
   "source": [
    "### Cross validating for all the regression models"
   ]
  },
  {
   "cell_type": "code",
   "execution_count": 120,
   "id": "25d4e81e",
   "metadata": {},
   "outputs": [],
   "source": [
    "def cross_validation(x,y,*args):\n",
    "    \n",
    "    # Cross validation for LinearRegression\n",
    "    cv_score_lr= cross_val_score(LinearRegression(),x,y,cv=5, scoring='r2')\n",
    "    cv_r2_score_lr=cv_score_lr.mean()\n",
    "    r2_lr=r2_score(y_test,prediction_lr)\n",
    "    score_diff_lr=(r2_lr-cv_r2_score_lr)\n",
    "    \n",
    "    # Cross validation for Lasso\n",
    "    cv_score_las= cross_val_score(Lasso(),x,y,cv=5, scoring='r2')\n",
    "    cv_r2_score_las=cv_score_las.mean()\n",
    "    r2_las=r2_score(y_test,prediction_las)\n",
    "    score_diff_las=(r2_las-cv_r2_score_las)\n",
    "    \n",
    "    # Cross validation for Ridge\n",
    "    cv_score_ridge= cross_val_score(Ridge(),x,y,cv=5, scoring='r2')\n",
    "    cv_r2_score_ridge=cv_score_ridge.mean()\n",
    "    r2_ridge=r2_score(y_test,prediction_ridge)\n",
    "    score_diff_ridge=(r2_ridge-cv_r2_score_ridge)\n",
    "    \n",
    "    # Cross validation for Random Forest\n",
    "    cv_score_rf= cross_val_score(RandomForestRegressor(),x,y,cv=5, scoring='r2')\n",
    "    cv_r2_score_rf=cv_score_rf.mean()\n",
    "    r2_rf=r2_score(y_test,prediction_rf)\n",
    "    score_diff_rf=(r2_rf-cv_r2_score_rf)\n",
    "    \n",
    "    # Cross validation for KNN\n",
    "    cv_score_knn= cross_val_score(KNN(),x,y,cv=5, scoring='r2')\n",
    "    cv_r2_score_knn=cv_score_knn.mean()\n",
    "    r2_knn=r2_score(y_test,prediction_knn)\n",
    "    score_diff_knn=(r2_knn-cv_r2_score_knn)\n",
    "    \n",
    "    # Cross validation for SVR\n",
    "    cv_score_svr= cross_val_score(SVR(),x,y,cv=5, scoring='r2')\n",
    "    cv_r2_score_svr=cv_score_svr.mean()\n",
    "    r2_svr=r2_score(y_test,prediction_svr)\n",
    "    score_diff_svr=(r2_svr-cv_r2_score_svr)\n",
    "    \n",
    "    # Cross validation for Decision Tree\n",
    "    cv_score_dt= cross_val_score(DTR(),x,y,cv=5, scoring='r2')\n",
    "    cv_r2_score_dt=cv_score_dt.mean()\n",
    "    r2_dt=r2_score(y_test,prediction_dt)\n",
    "    score_diff_dt=(r2_dt-cv_r2_score_dt)\n",
    "    \n",
    "    # Cross validation for GradientBoost\n",
    "    cv_score_gb= cross_val_score(GradientBoostingRegressor(),x,y,cv=5, scoring='r2')\n",
    "    cv_r2_score_gb=cv_score_gb.mean()\n",
    "    r2_gb=r2_score(y_test,prediction_gb)\n",
    "    score_diff_gb=(r2_gb-cv_r2_score_gb)\n",
    "    \n",
    "    # Cross validation for ExtraTreesRegressor\n",
    "    cv_score_etr= cross_val_score(ExtraTreesRegressor(),x,y,cv=5, scoring='r2')\n",
    "    cv_r2_score_etr=cv_score_etr.mean()\n",
    "    r2_etr=r2_score(y_test,prediction_etr)\n",
    "    score_diff_etr=(r2_etr-cv_r2_score_etr)\n",
    "    \n",
    "    df=pd.DataFrame({'Regression Name':['LinearRegression',\n",
    "                                        'Lasso',\n",
    "                                        'Ridge',\n",
    "                                        'Random Forest',\n",
    "                                        'KNN',\n",
    "                                        'SVR',\n",
    "                                        'Decision Tree',\n",
    "                                        'GradientBoost',\n",
    "                                        'ExtraTreesRegressor'],\n",
    "                     'Regression Score':[r2_lr,r2_las,r2_ridge,r2_rf,r2_knn,r2_svr,r2_dt,r2_gb,r2_etr],\n",
    "                     'Cross Val Score':[cv_r2_score_lr,cv_r2_score_las,cv_r2_score_ridge, cv_r2_score_rf,cv_r2_score_knn,\n",
    "                                        cv_r2_score_svr,cv_r2_score_dt,cv_r2_score_gb,cv_r2_score_etr],\n",
    "                     'Difference': [score_diff_lr,score_diff_las,score_diff_ridge,score_diff_rf,score_diff_knn,score_diff_svr,\n",
    "                                    score_diff_dt,score_diff_gb,score_diff_etr]\n",
    "                    })\n",
    "    return df"
   ]
  },
  {
   "cell_type": "code",
   "execution_count": 121,
   "id": "ecb3f038",
   "metadata": {},
   "outputs": [],
   "source": [
    "pred=[prediction_lr, prediction_las, prediction_ridge, prediction_rf, prediction_knn,prediction_svr,prediction_dt, prediction_gb, prediction_etr]"
   ]
  },
  {
   "cell_type": "code",
   "execution_count": 122,
   "id": "57bad10d",
   "metadata": {},
   "outputs": [
    {
     "data": {
      "text/html": [
       "<div>\n",
       "<style scoped>\n",
       "    .dataframe tbody tr th:only-of-type {\n",
       "        vertical-align: middle;\n",
       "    }\n",
       "\n",
       "    .dataframe tbody tr th {\n",
       "        vertical-align: top;\n",
       "    }\n",
       "\n",
       "    .dataframe thead th {\n",
       "        text-align: right;\n",
       "    }\n",
       "</style>\n",
       "<table border=\"1\" class=\"dataframe\">\n",
       "  <thead>\n",
       "    <tr style=\"text-align: right;\">\n",
       "      <th></th>\n",
       "      <th>Regression Name</th>\n",
       "      <th>Regression Score</th>\n",
       "      <th>Cross Val Score</th>\n",
       "      <th>Difference</th>\n",
       "    </tr>\n",
       "  </thead>\n",
       "  <tbody>\n",
       "    <tr>\n",
       "      <th>0</th>\n",
       "      <td>LinearRegression</td>\n",
       "      <td>0.197232</td>\n",
       "      <td>0.189852</td>\n",
       "      <td>0.007379</td>\n",
       "    </tr>\n",
       "    <tr>\n",
       "      <th>1</th>\n",
       "      <td>Lasso</td>\n",
       "      <td>0.197049</td>\n",
       "      <td>0.189931</td>\n",
       "      <td>0.007119</td>\n",
       "    </tr>\n",
       "    <tr>\n",
       "      <th>2</th>\n",
       "      <td>Ridge</td>\n",
       "      <td>0.197233</td>\n",
       "      <td>0.189853</td>\n",
       "      <td>0.007380</td>\n",
       "    </tr>\n",
       "    <tr>\n",
       "      <th>3</th>\n",
       "      <td>Random Forest</td>\n",
       "      <td>0.663189</td>\n",
       "      <td>0.700257</td>\n",
       "      <td>-0.037068</td>\n",
       "    </tr>\n",
       "    <tr>\n",
       "      <th>4</th>\n",
       "      <td>KNN</td>\n",
       "      <td>0.363652</td>\n",
       "      <td>0.323467</td>\n",
       "      <td>0.040185</td>\n",
       "    </tr>\n",
       "    <tr>\n",
       "      <th>5</th>\n",
       "      <td>SVR</td>\n",
       "      <td>0.067625</td>\n",
       "      <td>0.064544</td>\n",
       "      <td>0.003081</td>\n",
       "    </tr>\n",
       "    <tr>\n",
       "      <th>6</th>\n",
       "      <td>Decision Tree</td>\n",
       "      <td>0.046643</td>\n",
       "      <td>0.357454</td>\n",
       "      <td>-0.310811</td>\n",
       "    </tr>\n",
       "    <tr>\n",
       "      <th>7</th>\n",
       "      <td>GradientBoost</td>\n",
       "      <td>0.700889</td>\n",
       "      <td>0.687849</td>\n",
       "      <td>0.013040</td>\n",
       "    </tr>\n",
       "    <tr>\n",
       "      <th>8</th>\n",
       "      <td>ExtraTreesRegressor</td>\n",
       "      <td>0.700706</td>\n",
       "      <td>0.693666</td>\n",
       "      <td>0.007039</td>\n",
       "    </tr>\n",
       "  </tbody>\n",
       "</table>\n",
       "</div>"
      ],
      "text/plain": [
       "       Regression Name  Regression Score  Cross Val Score  Difference\n",
       "0     LinearRegression          0.197232         0.189852    0.007379\n",
       "1                Lasso          0.197049         0.189931    0.007119\n",
       "2                Ridge          0.197233         0.189853    0.007380\n",
       "3        Random Forest          0.663189         0.700257   -0.037068\n",
       "4                  KNN          0.363652         0.323467    0.040185\n",
       "5                  SVR          0.067625         0.064544    0.003081\n",
       "6        Decision Tree          0.046643         0.357454   -0.310811\n",
       "7        GradientBoost          0.700889         0.687849    0.013040\n",
       "8  ExtraTreesRegressor          0.700706         0.693666    0.007039"
      ]
     },
     "execution_count": 122,
     "metadata": {},
     "output_type": "execute_result"
    }
   ],
   "source": [
    "cross_validation(x,y,y_test, *pred)"
   ]
  },
  {
   "cell_type": "markdown",
   "id": "37bcd353",
   "metadata": {},
   "source": [
    "- We have observed that both GradientBoost model and Ridge ExtraTreesRegressor model are performing well. \n",
    "- The Cross Val Score is better in ExtraTreesRegressor and difference between them is low. \n",
    "\n",
    "Hence ExtraTreesRegressor will be best fit model."
   ]
  },
  {
   "cell_type": "markdown",
   "id": "d84d98cc",
   "metadata": {},
   "source": [
    "# Hypertuning using GridSearchCV"
   ]
  },
  {
   "cell_type": "markdown",
   "id": "43cd3bc0",
   "metadata": {},
   "source": [
    "Creating parameter list for ExtraTreesRegressor "
   ]
  },
  {
   "cell_type": "code",
   "execution_count": 126,
   "id": "201857d3",
   "metadata": {},
   "outputs": [],
   "source": [
    "parameters = {\n",
    "    'n_estimators': [50, 100, 200],               \n",
    "    'max_features': ['auto', 'sqrt', 'log2'],      \n",
    "    'max_depth': [None, 10, 20, 30],              \n",
    "    'criterion': ['squared_error', 'friedman_mse', 'poisson'],                        \n",
    "    'random_state': [42,65,70] \n",
    "}"
   ]
  },
  {
   "cell_type": "markdown",
   "id": "60985c5e",
   "metadata": {},
   "source": [
    "Applying GridSearchCV on the ExtraTreesRegressor model"
   ]
  },
  {
   "cell_type": "code",
   "execution_count": 127,
   "id": "72d8ee2e",
   "metadata": {},
   "outputs": [],
   "source": [
    "gridsearch_cv=GridSearchCV(ExtraTreesRegressor(),parameters,cv=5)"
   ]
  },
  {
   "cell_type": "code",
   "execution_count": 128,
   "id": "c9e4f33f",
   "metadata": {},
   "outputs": [
    {
     "data": {
      "text/html": [
       "<style>#sk-container-id-1 {color: black;background-color: white;}#sk-container-id-1 pre{padding: 0;}#sk-container-id-1 div.sk-toggleable {background-color: white;}#sk-container-id-1 label.sk-toggleable__label {cursor: pointer;display: block;width: 100%;margin-bottom: 0;padding: 0.3em;box-sizing: border-box;text-align: center;}#sk-container-id-1 label.sk-toggleable__label-arrow:before {content: \"▸\";float: left;margin-right: 0.25em;color: #696969;}#sk-container-id-1 label.sk-toggleable__label-arrow:hover:before {color: black;}#sk-container-id-1 div.sk-estimator:hover label.sk-toggleable__label-arrow:before {color: black;}#sk-container-id-1 div.sk-toggleable__content {max-height: 0;max-width: 0;overflow: hidden;text-align: left;background-color: #f0f8ff;}#sk-container-id-1 div.sk-toggleable__content pre {margin: 0.2em;color: black;border-radius: 0.25em;background-color: #f0f8ff;}#sk-container-id-1 input.sk-toggleable__control:checked~div.sk-toggleable__content {max-height: 200px;max-width: 100%;overflow: auto;}#sk-container-id-1 input.sk-toggleable__control:checked~label.sk-toggleable__label-arrow:before {content: \"▾\";}#sk-container-id-1 div.sk-estimator input.sk-toggleable__control:checked~label.sk-toggleable__label {background-color: #d4ebff;}#sk-container-id-1 div.sk-label input.sk-toggleable__control:checked~label.sk-toggleable__label {background-color: #d4ebff;}#sk-container-id-1 input.sk-hidden--visually {border: 0;clip: rect(1px 1px 1px 1px);clip: rect(1px, 1px, 1px, 1px);height: 1px;margin: -1px;overflow: hidden;padding: 0;position: absolute;width: 1px;}#sk-container-id-1 div.sk-estimator {font-family: monospace;background-color: #f0f8ff;border: 1px dotted black;border-radius: 0.25em;box-sizing: border-box;margin-bottom: 0.5em;}#sk-container-id-1 div.sk-estimator:hover {background-color: #d4ebff;}#sk-container-id-1 div.sk-parallel-item::after {content: \"\";width: 100%;border-bottom: 1px solid gray;flex-grow: 1;}#sk-container-id-1 div.sk-label:hover label.sk-toggleable__label {background-color: #d4ebff;}#sk-container-id-1 div.sk-serial::before {content: \"\";position: absolute;border-left: 1px solid gray;box-sizing: border-box;top: 0;bottom: 0;left: 50%;z-index: 0;}#sk-container-id-1 div.sk-serial {display: flex;flex-direction: column;align-items: center;background-color: white;padding-right: 0.2em;padding-left: 0.2em;position: relative;}#sk-container-id-1 div.sk-item {position: relative;z-index: 1;}#sk-container-id-1 div.sk-parallel {display: flex;align-items: stretch;justify-content: center;background-color: white;position: relative;}#sk-container-id-1 div.sk-item::before, #sk-container-id-1 div.sk-parallel-item::before {content: \"\";position: absolute;border-left: 1px solid gray;box-sizing: border-box;top: 0;bottom: 0;left: 50%;z-index: -1;}#sk-container-id-1 div.sk-parallel-item {display: flex;flex-direction: column;z-index: 1;position: relative;background-color: white;}#sk-container-id-1 div.sk-parallel-item:first-child::after {align-self: flex-end;width: 50%;}#sk-container-id-1 div.sk-parallel-item:last-child::after {align-self: flex-start;width: 50%;}#sk-container-id-1 div.sk-parallel-item:only-child::after {width: 0;}#sk-container-id-1 div.sk-dashed-wrapped {border: 1px dashed gray;margin: 0 0.4em 0.5em 0.4em;box-sizing: border-box;padding-bottom: 0.4em;background-color: white;}#sk-container-id-1 div.sk-label label {font-family: monospace;font-weight: bold;display: inline-block;line-height: 1.2em;}#sk-container-id-1 div.sk-label-container {text-align: center;}#sk-container-id-1 div.sk-container {/* jupyter's `normalize.less` sets `[hidden] { display: none; }` but bootstrap.min.css set `[hidden] { display: none !important; }` so we also need the `!important` here to be able to override the default hidden behavior on the sphinx rendered scikit-learn.org. See: https://github.com/scikit-learn/scikit-learn/issues/21755 */display: inline-block !important;position: relative;}#sk-container-id-1 div.sk-text-repr-fallback {display: none;}</style><div id=\"sk-container-id-1\" class=\"sk-top-container\"><div class=\"sk-text-repr-fallback\"><pre>GridSearchCV(cv=5, estimator=ExtraTreesRegressor(),\n",
       "             param_grid={&#x27;criterion&#x27;: [&#x27;squared_error&#x27;, &#x27;friedman_mse&#x27;,\n",
       "                                       &#x27;poisson&#x27;],\n",
       "                         &#x27;max_depth&#x27;: [None, 10, 20, 30],\n",
       "                         &#x27;max_features&#x27;: [&#x27;auto&#x27;, &#x27;sqrt&#x27;, &#x27;log2&#x27;],\n",
       "                         &#x27;n_estimators&#x27;: [50, 100, 200],\n",
       "                         &#x27;random_state&#x27;: [42, 65, 70]})</pre><b>In a Jupyter environment, please rerun this cell to show the HTML representation or trust the notebook. <br />On GitHub, the HTML representation is unable to render, please try loading this page with nbviewer.org.</b></div><div class=\"sk-container\" hidden><div class=\"sk-item sk-dashed-wrapped\"><div class=\"sk-label-container\"><div class=\"sk-label sk-toggleable\"><input class=\"sk-toggleable__control sk-hidden--visually\" id=\"sk-estimator-id-1\" type=\"checkbox\" ><label for=\"sk-estimator-id-1\" class=\"sk-toggleable__label sk-toggleable__label-arrow\">GridSearchCV</label><div class=\"sk-toggleable__content\"><pre>GridSearchCV(cv=5, estimator=ExtraTreesRegressor(),\n",
       "             param_grid={&#x27;criterion&#x27;: [&#x27;squared_error&#x27;, &#x27;friedman_mse&#x27;,\n",
       "                                       &#x27;poisson&#x27;],\n",
       "                         &#x27;max_depth&#x27;: [None, 10, 20, 30],\n",
       "                         &#x27;max_features&#x27;: [&#x27;auto&#x27;, &#x27;sqrt&#x27;, &#x27;log2&#x27;],\n",
       "                         &#x27;n_estimators&#x27;: [50, 100, 200],\n",
       "                         &#x27;random_state&#x27;: [42, 65, 70]})</pre></div></div></div><div class=\"sk-parallel\"><div class=\"sk-parallel-item\"><div class=\"sk-item\"><div class=\"sk-label-container\"><div class=\"sk-label sk-toggleable\"><input class=\"sk-toggleable__control sk-hidden--visually\" id=\"sk-estimator-id-2\" type=\"checkbox\" ><label for=\"sk-estimator-id-2\" class=\"sk-toggleable__label sk-toggleable__label-arrow\">estimator: ExtraTreesRegressor</label><div class=\"sk-toggleable__content\"><pre>ExtraTreesRegressor()</pre></div></div></div><div class=\"sk-serial\"><div class=\"sk-item\"><div class=\"sk-estimator sk-toggleable\"><input class=\"sk-toggleable__control sk-hidden--visually\" id=\"sk-estimator-id-3\" type=\"checkbox\" ><label for=\"sk-estimator-id-3\" class=\"sk-toggleable__label sk-toggleable__label-arrow\">ExtraTreesRegressor</label><div class=\"sk-toggleable__content\"><pre>ExtraTreesRegressor()</pre></div></div></div></div></div></div></div></div></div></div>"
      ],
      "text/plain": [
       "GridSearchCV(cv=5, estimator=ExtraTreesRegressor(),\n",
       "             param_grid={'criterion': ['squared_error', 'friedman_mse',\n",
       "                                       'poisson'],\n",
       "                         'max_depth': [None, 10, 20, 30],\n",
       "                         'max_features': ['auto', 'sqrt', 'log2'],\n",
       "                         'n_estimators': [50, 100, 200],\n",
       "                         'random_state': [42, 65, 70]})"
      ]
     },
     "execution_count": 128,
     "metadata": {},
     "output_type": "execute_result"
    }
   ],
   "source": [
    "gridsearch_cv.fit(x_train,y_train)"
   ]
  },
  {
   "cell_type": "markdown",
   "id": "878a6613",
   "metadata": {},
   "source": [
    "Checking the best parameter"
   ]
  },
  {
   "cell_type": "code",
   "execution_count": 129,
   "id": "2d852ca1",
   "metadata": {},
   "outputs": [
    {
     "data": {
      "text/plain": [
       "{'criterion': 'squared_error',\n",
       " 'max_depth': 20,\n",
       " 'max_features': 'auto',\n",
       " 'n_estimators': 200,\n",
       " 'random_state': 42}"
      ]
     },
     "execution_count": 129,
     "metadata": {},
     "output_type": "execute_result"
    }
   ],
   "source": [
    "gridsearch_cv.best_params_"
   ]
  },
  {
   "cell_type": "markdown",
   "id": "9a69aab9",
   "metadata": {},
   "source": [
    "# Creating the Final model"
   ]
  },
  {
   "cell_type": "code",
   "execution_count": 130,
   "id": "1e959e33",
   "metadata": {},
   "outputs": [],
   "source": [
    "final_model=ExtraTreesRegressor(n_estimators= 200, max_features= 'auto', max_depth=20 ,criterion= 'squared_error', random_state= 42)"
   ]
  },
  {
   "cell_type": "code",
   "execution_count": 131,
   "id": "fb01828a",
   "metadata": {},
   "outputs": [
    {
     "data": {
      "text/html": [
       "<div>\n",
       "<style scoped>\n",
       "    .dataframe tbody tr th:only-of-type {\n",
       "        vertical-align: middle;\n",
       "    }\n",
       "\n",
       "    .dataframe tbody tr th {\n",
       "        vertical-align: top;\n",
       "    }\n",
       "\n",
       "    .dataframe thead th {\n",
       "        text-align: right;\n",
       "    }\n",
       "</style>\n",
       "<table border=\"1\" class=\"dataframe\">\n",
       "  <thead>\n",
       "    <tr style=\"text-align: right;\">\n",
       "      <th></th>\n",
       "      <th>Final model</th>\n",
       "      <th>Scores</th>\n",
       "    </tr>\n",
       "  </thead>\n",
       "  <tbody>\n",
       "    <tr>\n",
       "      <th>0</th>\n",
       "      <td>R2 Score</td>\n",
       "      <td>0.691923</td>\n",
       "    </tr>\n",
       "    <tr>\n",
       "      <th>1</th>\n",
       "      <td>Mean Absolute Error</td>\n",
       "      <td>191.019436</td>\n",
       "    </tr>\n",
       "    <tr>\n",
       "      <th>2</th>\n",
       "      <td>Mean Squared Error</td>\n",
       "      <td>107647.008181</td>\n",
       "    </tr>\n",
       "    <tr>\n",
       "      <th>3</th>\n",
       "      <td>Root Mean Squared Error</td>\n",
       "      <td>13.820978</td>\n",
       "    </tr>\n",
       "  </tbody>\n",
       "</table>\n",
       "</div>"
      ],
      "text/plain": [
       "               Final model         Scores\n",
       "0                 R2 Score       0.691923\n",
       "1      Mean Absolute Error     191.019436\n",
       "2       Mean Squared Error  107647.008181\n",
       "3  Root Mean Squared Error      13.820978"
      ]
     },
     "execution_count": 131,
     "metadata": {},
     "output_type": "execute_result"
    }
   ],
   "source": [
    "final_model.fit(x_train,y_train)\n",
    "pred=final_model.predict(x_test)\n",
    "r2=r2_score(y_test,pred)\n",
    "mse=mean_squared_error(y_test,pred)\n",
    "mae=mean_absolute_error(y_test,pred)\n",
    "rmse=np.sqrt(mean_absolute_error(y_test,pred))\n",
    "\n",
    "prediction_chart=pd.DataFrame({'Final model':['R2 Score',\n",
    "                                             'Mean Absolute Error',\n",
    "                                             'Mean Squared Error', \n",
    "                                             'Root Mean Squared Error'], \n",
    "                                   'Scores':[r2,mae,mse,rmse]\n",
    "                                  })\n",
    "prediction_chart"
   ]
  },
  {
   "cell_type": "markdown",
   "id": "6bb33421",
   "metadata": {},
   "source": [
    "# Saving the model"
   ]
  },
  {
   "cell_type": "code",
   "execution_count": 132,
   "id": "384c01a9",
   "metadata": {},
   "outputs": [],
   "source": [
    "import pickle"
   ]
  },
  {
   "cell_type": "code",
   "execution_count": 133,
   "id": "e96a5a9c",
   "metadata": {},
   "outputs": [],
   "source": [
    "file='Restaurant_Price_Prediction.pkl'\n",
    "pickle.dump(final_model,open(file,'wb'))"
   ]
  },
  {
   "cell_type": "markdown",
   "id": "0836e31c",
   "metadata": {},
   "source": [
    "# Exploratory Data Analysis - Test Data"
   ]
  },
  {
   "cell_type": "code",
   "execution_count": 136,
   "id": "ac8f78b9",
   "metadata": {},
   "outputs": [],
   "source": [
    "test_data=pd.read_excel('https://github.com/FlipRoboTechnologies/ML-Datasets/raw/main/Restaurant%20Food%20Cost/Data_Test.xlsx')"
   ]
  },
  {
   "cell_type": "code",
   "execution_count": 137,
   "id": "daecbb1b",
   "metadata": {},
   "outputs": [],
   "source": [
    "df_test=pd.DataFrame(data=test_data)"
   ]
  },
  {
   "cell_type": "code",
   "execution_count": 138,
   "id": "fa52adf8",
   "metadata": {},
   "outputs": [
    {
     "data": {
      "text/html": [
       "<div>\n",
       "<style scoped>\n",
       "    .dataframe tbody tr th:only-of-type {\n",
       "        vertical-align: middle;\n",
       "    }\n",
       "\n",
       "    .dataframe tbody tr th {\n",
       "        vertical-align: top;\n",
       "    }\n",
       "\n",
       "    .dataframe thead th {\n",
       "        text-align: right;\n",
       "    }\n",
       "</style>\n",
       "<table border=\"1\" class=\"dataframe\">\n",
       "  <thead>\n",
       "    <tr style=\"text-align: right;\">\n",
       "      <th></th>\n",
       "      <th>TITLE</th>\n",
       "      <th>RESTAURANT_ID</th>\n",
       "      <th>CUISINES</th>\n",
       "      <th>TIME</th>\n",
       "      <th>CITY</th>\n",
       "      <th>LOCALITY</th>\n",
       "      <th>RATING</th>\n",
       "      <th>VOTES</th>\n",
       "    </tr>\n",
       "  </thead>\n",
       "  <tbody>\n",
       "    <tr>\n",
       "      <th>0</th>\n",
       "      <td>CASUAL DINING</td>\n",
       "      <td>4085</td>\n",
       "      <td>North Indian, Chinese, Mughlai, Kebab</td>\n",
       "      <td>12noon – 12midnight (Mon-Sun)</td>\n",
       "      <td>Noida</td>\n",
       "      <td>Sector 18</td>\n",
       "      <td>4.3</td>\n",
       "      <td>564 votes</td>\n",
       "    </tr>\n",
       "    <tr>\n",
       "      <th>1</th>\n",
       "      <td>QUICK BITES</td>\n",
       "      <td>12680</td>\n",
       "      <td>South Indian, Fast Food, Pizza, North Indian</td>\n",
       "      <td>7am – 12:30AM (Mon-Sun)</td>\n",
       "      <td>Mumbai</td>\n",
       "      <td>Grant Road</td>\n",
       "      <td>4.2</td>\n",
       "      <td>61 votes</td>\n",
       "    </tr>\n",
       "    <tr>\n",
       "      <th>2</th>\n",
       "      <td>CASUAL DINING</td>\n",
       "      <td>1411</td>\n",
       "      <td>North Indian, Seafood, Biryani, Chinese</td>\n",
       "      <td>11am – 11:30pm (Mon-Sun)</td>\n",
       "      <td>Mumbai</td>\n",
       "      <td>Marine Lines</td>\n",
       "      <td>3.8</td>\n",
       "      <td>350 votes</td>\n",
       "    </tr>\n",
       "    <tr>\n",
       "      <th>3</th>\n",
       "      <td>NaN</td>\n",
       "      <td>204</td>\n",
       "      <td>Biryani</td>\n",
       "      <td>9am – 10pm (Mon, Wed, Thu, Fri, Sat, Sun), 10:...</td>\n",
       "      <td>Faridabad</td>\n",
       "      <td>NIT</td>\n",
       "      <td>3.8</td>\n",
       "      <td>1445 votes</td>\n",
       "    </tr>\n",
       "    <tr>\n",
       "      <th>4</th>\n",
       "      <td>QUICK BITES</td>\n",
       "      <td>13453</td>\n",
       "      <td>South Indian, Kerala</td>\n",
       "      <td>11am – 10pm (Mon-Sun)</td>\n",
       "      <td>Kochi</td>\n",
       "      <td>Kaloor</td>\n",
       "      <td>3.6</td>\n",
       "      <td>23 votes</td>\n",
       "    </tr>\n",
       "    <tr>\n",
       "      <th>...</th>\n",
       "      <td>...</td>\n",
       "      <td>...</td>\n",
       "      <td>...</td>\n",
       "      <td>...</td>\n",
       "      <td>...</td>\n",
       "      <td>...</td>\n",
       "      <td>...</td>\n",
       "      <td>...</td>\n",
       "    </tr>\n",
       "    <tr>\n",
       "      <th>4226</th>\n",
       "      <td>CASUAL DINING</td>\n",
       "      <td>9057</td>\n",
       "      <td>North Indian, Mughlai, Chinese</td>\n",
       "      <td>11:30am – 11:30pm (Mon-Sun)</td>\n",
       "      <td>New Delhi</td>\n",
       "      <td>Punjabi Bagh</td>\n",
       "      <td>3.9</td>\n",
       "      <td>287 votes</td>\n",
       "    </tr>\n",
       "    <tr>\n",
       "      <th>4227</th>\n",
       "      <td>NaN</td>\n",
       "      <td>1247</td>\n",
       "      <td>Biryani, North Indian, Sandwich, Salad, Wraps</td>\n",
       "      <td>11am – 1am (Mon-Sun)</td>\n",
       "      <td>Bangalore</td>\n",
       "      <td>HSR Layout</td>\n",
       "      <td>4.3</td>\n",
       "      <td>469 votes</td>\n",
       "    </tr>\n",
       "    <tr>\n",
       "      <th>4228</th>\n",
       "      <td>QUICK BITES</td>\n",
       "      <td>8617</td>\n",
       "      <td>Continental, North Indian</td>\n",
       "      <td>9:30am – 10:30pm (Mon-Sun)</td>\n",
       "      <td>Faridabad</td>\n",
       "      <td>Sector 86</td>\n",
       "      <td>3.7</td>\n",
       "      <td>53 votes</td>\n",
       "    </tr>\n",
       "    <tr>\n",
       "      <th>4229</th>\n",
       "      <td>QUICK BITES</td>\n",
       "      <td>6485</td>\n",
       "      <td>Rolls, Beverages</td>\n",
       "      <td>11am – 11:30pm (Mon, Tue, Wed, Thu, Sat, Sun),...</td>\n",
       "      <td>Kochi</td>\n",
       "      <td>Kochi</td>\n",
       "      <td>-</td>\n",
       "      <td>NaN</td>\n",
       "    </tr>\n",
       "    <tr>\n",
       "      <th>4230</th>\n",
       "      <td>QUICK BITES</td>\n",
       "      <td>2421</td>\n",
       "      <td>Mughlai</td>\n",
       "      <td>5pm – 1am (Mon-Sun)</td>\n",
       "      <td>Bandra West</td>\n",
       "      <td>Perry Cross Road</td>\n",
       "      <td>3.7</td>\n",
       "      <td>63 votes</td>\n",
       "    </tr>\n",
       "  </tbody>\n",
       "</table>\n",
       "<p>4231 rows × 8 columns</p>\n",
       "</div>"
      ],
      "text/plain": [
       "              TITLE  RESTAURANT_ID  \\\n",
       "0     CASUAL DINING           4085   \n",
       "1       QUICK BITES          12680   \n",
       "2     CASUAL DINING           1411   \n",
       "3               NaN            204   \n",
       "4       QUICK BITES          13453   \n",
       "...             ...            ...   \n",
       "4226  CASUAL DINING           9057   \n",
       "4227            NaN           1247   \n",
       "4228    QUICK BITES           8617   \n",
       "4229    QUICK BITES           6485   \n",
       "4230    QUICK BITES           2421   \n",
       "\n",
       "                                           CUISINES  \\\n",
       "0             North Indian, Chinese, Mughlai, Kebab   \n",
       "1      South Indian, Fast Food, Pizza, North Indian   \n",
       "2           North Indian, Seafood, Biryani, Chinese   \n",
       "3                                           Biryani   \n",
       "4                              South Indian, Kerala   \n",
       "...                                             ...   \n",
       "4226                 North Indian, Mughlai, Chinese   \n",
       "4227  Biryani, North Indian, Sandwich, Salad, Wraps   \n",
       "4228                      Continental, North Indian   \n",
       "4229                               Rolls, Beverages   \n",
       "4230                                        Mughlai   \n",
       "\n",
       "                                                   TIME         CITY  \\\n",
       "0                         12noon – 12midnight (Mon-Sun)        Noida   \n",
       "1                               7am – 12:30AM (Mon-Sun)       Mumbai   \n",
       "2                              11am – 11:30pm (Mon-Sun)       Mumbai   \n",
       "3     9am – 10pm (Mon, Wed, Thu, Fri, Sat, Sun), 10:...    Faridabad   \n",
       "4                                 11am – 10pm (Mon-Sun)        Kochi   \n",
       "...                                                 ...          ...   \n",
       "4226                        11:30am – 11:30pm (Mon-Sun)    New Delhi   \n",
       "4227                               11am – 1am (Mon-Sun)    Bangalore   \n",
       "4228                         9:30am – 10:30pm (Mon-Sun)    Faridabad   \n",
       "4229  11am – 11:30pm (Mon, Tue, Wed, Thu, Sat, Sun),...        Kochi   \n",
       "4230                                5pm – 1am (Mon-Sun)  Bandra West   \n",
       "\n",
       "              LOCALITY RATING       VOTES  \n",
       "0            Sector 18    4.3   564 votes  \n",
       "1           Grant Road    4.2    61 votes  \n",
       "2         Marine Lines    3.8   350 votes  \n",
       "3                  NIT    3.8  1445 votes  \n",
       "4               Kaloor    3.6    23 votes  \n",
       "...                ...    ...         ...  \n",
       "4226      Punjabi Bagh    3.9   287 votes  \n",
       "4227        HSR Layout    4.3   469 votes  \n",
       "4228         Sector 86    3.7    53 votes  \n",
       "4229             Kochi      -         NaN  \n",
       "4230  Perry Cross Road    3.7    63 votes  \n",
       "\n",
       "[4231 rows x 8 columns]"
      ]
     },
     "execution_count": 138,
     "metadata": {},
     "output_type": "execute_result"
    }
   ],
   "source": [
    "df_test"
   ]
  },
  {
   "cell_type": "code",
   "execution_count": 139,
   "id": "abd9c8c9",
   "metadata": {},
   "outputs": [
    {
     "data": {
      "text/html": [
       "<div>\n",
       "<style scoped>\n",
       "    .dataframe tbody tr th:only-of-type {\n",
       "        vertical-align: middle;\n",
       "    }\n",
       "\n",
       "    .dataframe tbody tr th {\n",
       "        vertical-align: top;\n",
       "    }\n",
       "\n",
       "    .dataframe thead th {\n",
       "        text-align: right;\n",
       "    }\n",
       "</style>\n",
       "<table border=\"1\" class=\"dataframe\">\n",
       "  <thead>\n",
       "    <tr style=\"text-align: right;\">\n",
       "      <th></th>\n",
       "      <th>TITLE</th>\n",
       "      <th>RESTAURANT_ID</th>\n",
       "      <th>CUISINES</th>\n",
       "      <th>TIME</th>\n",
       "      <th>CITY</th>\n",
       "      <th>LOCALITY</th>\n",
       "      <th>RATING</th>\n",
       "      <th>VOTES</th>\n",
       "    </tr>\n",
       "  </thead>\n",
       "  <tbody>\n",
       "    <tr>\n",
       "      <th>0</th>\n",
       "      <td>CASUAL DINING</td>\n",
       "      <td>4085</td>\n",
       "      <td>North Indian, Chinese, Mughlai, Kebab</td>\n",
       "      <td>12noon – 12midnight (Mon-Sun)</td>\n",
       "      <td>Noida</td>\n",
       "      <td>Sector 18</td>\n",
       "      <td>4.3</td>\n",
       "      <td>564 votes</td>\n",
       "    </tr>\n",
       "    <tr>\n",
       "      <th>1</th>\n",
       "      <td>QUICK BITES</td>\n",
       "      <td>12680</td>\n",
       "      <td>South Indian, Fast Food, Pizza, North Indian</td>\n",
       "      <td>7am – 12:30AM (Mon-Sun)</td>\n",
       "      <td>Mumbai</td>\n",
       "      <td>Grant Road</td>\n",
       "      <td>4.2</td>\n",
       "      <td>61 votes</td>\n",
       "    </tr>\n",
       "    <tr>\n",
       "      <th>2</th>\n",
       "      <td>CASUAL DINING</td>\n",
       "      <td>1411</td>\n",
       "      <td>North Indian, Seafood, Biryani, Chinese</td>\n",
       "      <td>11am – 11:30pm (Mon-Sun)</td>\n",
       "      <td>Mumbai</td>\n",
       "      <td>Marine Lines</td>\n",
       "      <td>3.8</td>\n",
       "      <td>350 votes</td>\n",
       "    </tr>\n",
       "    <tr>\n",
       "      <th>3</th>\n",
       "      <td>NaN</td>\n",
       "      <td>204</td>\n",
       "      <td>Biryani</td>\n",
       "      <td>9am – 10pm (Mon, Wed, Thu, Fri, Sat, Sun), 10:...</td>\n",
       "      <td>Faridabad</td>\n",
       "      <td>NIT</td>\n",
       "      <td>3.8</td>\n",
       "      <td>1445 votes</td>\n",
       "    </tr>\n",
       "    <tr>\n",
       "      <th>4</th>\n",
       "      <td>QUICK BITES</td>\n",
       "      <td>13453</td>\n",
       "      <td>South Indian, Kerala</td>\n",
       "      <td>11am – 10pm (Mon-Sun)</td>\n",
       "      <td>Kochi</td>\n",
       "      <td>Kaloor</td>\n",
       "      <td>3.6</td>\n",
       "      <td>23 votes</td>\n",
       "    </tr>\n",
       "    <tr>\n",
       "      <th>5</th>\n",
       "      <td>FOOD TRUCK,DESSERT PARLOR</td>\n",
       "      <td>4518</td>\n",
       "      <td>Ice Cream, Desserts</td>\n",
       "      <td>2pm – 12midnight (Mon),1pm – 12:30AM (Tue-Sun)</td>\n",
       "      <td>Hyderabad</td>\n",
       "      <td>Banjara Hills</td>\n",
       "      <td>3.7</td>\n",
       "      <td>36 votes</td>\n",
       "    </tr>\n",
       "    <tr>\n",
       "      <th>6</th>\n",
       "      <td>CASUAL DINING</td>\n",
       "      <td>1643</td>\n",
       "      <td>North Indian, Street Food, Fast Food</td>\n",
       "      <td>12noon – 3:30pm, 7pm – 11:30pm (Mon-Sun)</td>\n",
       "      <td>Navi Mumbai</td>\n",
       "      <td>Kharghar</td>\n",
       "      <td>NEW</td>\n",
       "      <td>NaN</td>\n",
       "    </tr>\n",
       "    <tr>\n",
       "      <th>7</th>\n",
       "      <td>CASUAL DINING</td>\n",
       "      <td>5109</td>\n",
       "      <td>Biryani, Chinese</td>\n",
       "      <td>12noon – 3:30pm, 7pm – 10pm (Mon-Sun)</td>\n",
       "      <td>Chennai</td>\n",
       "      <td>Navalur</td>\n",
       "      <td>4.0</td>\n",
       "      <td>703 votes</td>\n",
       "    </tr>\n",
       "    <tr>\n",
       "      <th>8</th>\n",
       "      <td>NaN</td>\n",
       "      <td>5606</td>\n",
       "      <td>North Indian, Chinese, Pizza, Fast Food</td>\n",
       "      <td>11am – 11pm (Mon-Sun)</td>\n",
       "      <td>New Delhi</td>\n",
       "      <td>IP Extension</td>\n",
       "      <td>3.4</td>\n",
       "      <td>475 votes</td>\n",
       "    </tr>\n",
       "    <tr>\n",
       "      <th>9</th>\n",
       "      <td>CASUAL DINING</td>\n",
       "      <td>14319</td>\n",
       "      <td>North Indian</td>\n",
       "      <td>Not Available</td>\n",
       "      <td>Kochi</td>\n",
       "      <td>Palarivattom</td>\n",
       "      <td>3.2</td>\n",
       "      <td>6 votes</td>\n",
       "    </tr>\n",
       "  </tbody>\n",
       "</table>\n",
       "</div>"
      ],
      "text/plain": [
       "                       TITLE  RESTAURANT_ID  \\\n",
       "0              CASUAL DINING           4085   \n",
       "1                QUICK BITES          12680   \n",
       "2              CASUAL DINING           1411   \n",
       "3                        NaN            204   \n",
       "4                QUICK BITES          13453   \n",
       "5  FOOD TRUCK,DESSERT PARLOR           4518   \n",
       "6              CASUAL DINING           1643   \n",
       "7              CASUAL DINING           5109   \n",
       "8                        NaN           5606   \n",
       "9              CASUAL DINING          14319   \n",
       "\n",
       "                                       CUISINES  \\\n",
       "0         North Indian, Chinese, Mughlai, Kebab   \n",
       "1  South Indian, Fast Food, Pizza, North Indian   \n",
       "2       North Indian, Seafood, Biryani, Chinese   \n",
       "3                                       Biryani   \n",
       "4                          South Indian, Kerala   \n",
       "5                           Ice Cream, Desserts   \n",
       "6          North Indian, Street Food, Fast Food   \n",
       "7                              Biryani, Chinese   \n",
       "8       North Indian, Chinese, Pizza, Fast Food   \n",
       "9                                  North Indian   \n",
       "\n",
       "                                                TIME         CITY  \\\n",
       "0                      12noon – 12midnight (Mon-Sun)        Noida   \n",
       "1                            7am – 12:30AM (Mon-Sun)       Mumbai   \n",
       "2                           11am – 11:30pm (Mon-Sun)       Mumbai   \n",
       "3  9am – 10pm (Mon, Wed, Thu, Fri, Sat, Sun), 10:...    Faridabad   \n",
       "4                              11am – 10pm (Mon-Sun)        Kochi   \n",
       "5     2pm – 12midnight (Mon),1pm – 12:30AM (Tue-Sun)    Hyderabad   \n",
       "6           12noon – 3:30pm, 7pm – 11:30pm (Mon-Sun)  Navi Mumbai   \n",
       "7              12noon – 3:30pm, 7pm – 10pm (Mon-Sun)      Chennai   \n",
       "8                              11am – 11pm (Mon-Sun)    New Delhi   \n",
       "9                                      Not Available        Kochi   \n",
       "\n",
       "        LOCALITY RATING       VOTES  \n",
       "0      Sector 18    4.3   564 votes  \n",
       "1     Grant Road    4.2    61 votes  \n",
       "2   Marine Lines    3.8   350 votes  \n",
       "3            NIT    3.8  1445 votes  \n",
       "4         Kaloor    3.6    23 votes  \n",
       "5  Banjara Hills    3.7    36 votes  \n",
       "6       Kharghar    NEW         NaN  \n",
       "7        Navalur    4.0   703 votes  \n",
       "8   IP Extension    3.4   475 votes  \n",
       "9   Palarivattom    3.2     6 votes  "
      ]
     },
     "execution_count": 139,
     "metadata": {},
     "output_type": "execute_result"
    }
   ],
   "source": [
    "df_test.head(10)"
   ]
  },
  {
   "cell_type": "code",
   "execution_count": 140,
   "id": "937cfff7",
   "metadata": {},
   "outputs": [
    {
     "data": {
      "text/plain": [
       "(4231, 8)"
      ]
     },
     "execution_count": 140,
     "metadata": {},
     "output_type": "execute_result"
    }
   ],
   "source": [
    "df_test.shape"
   ]
  },
  {
   "cell_type": "code",
   "execution_count": 141,
   "id": "da2cedda",
   "metadata": {},
   "outputs": [
    {
     "name": "stdout",
     "output_type": "stream",
     "text": [
      "<class 'pandas.core.frame.DataFrame'>\n",
      "RangeIndex: 4231 entries, 0 to 4230\n",
      "Data columns (total 8 columns):\n",
      " #   Column         Non-Null Count  Dtype \n",
      "---  ------         --------------  ----- \n",
      " 0   TITLE          3947 non-null   object\n",
      " 1   RESTAURANT_ID  4231 non-null   int64 \n",
      " 2   CUISINES       4231 non-null   object\n",
      " 3   TIME           4231 non-null   object\n",
      " 4   CITY           4196 non-null   object\n",
      " 5   LOCALITY       4201 non-null   object\n",
      " 6   RATING         4229 non-null   object\n",
      " 7   VOTES          3829 non-null   object\n",
      "dtypes: int64(1), object(7)\n",
      "memory usage: 264.6+ KB\n"
     ]
    }
   ],
   "source": [
    "df_test.info()"
   ]
  },
  {
   "cell_type": "markdown",
   "id": "d7258a47",
   "metadata": {},
   "source": [
    "Removing the string votes from VOTES feature"
   ]
  },
  {
   "cell_type": "code",
   "execution_count": 142,
   "id": "90214a3f",
   "metadata": {},
   "outputs": [],
   "source": [
    "df_test['VOTES']=df_test['VOTES'].str.replace(' votes','')"
   ]
  },
  {
   "cell_type": "markdown",
   "id": "b758ea50",
   "metadata": {},
   "source": [
    "Checking uniques values in categorical columns"
   ]
  },
  {
   "cell_type": "code",
   "execution_count": 143,
   "id": "839eee0f",
   "metadata": {},
   "outputs": [
    {
     "data": {
      "text/plain": [
       "['TITLE', 'CUISINES', 'TIME', 'CITY', 'LOCALITY']"
      ]
     },
     "execution_count": 143,
     "metadata": {},
     "output_type": "execute_result"
    }
   ],
   "source": [
    "cat_features=[feature for feature in df_test.columns if df_test[feature].dtypes=='O' and feature not in ['VOTES','RATING']]\n",
    "cat_features"
   ]
  },
  {
   "cell_type": "markdown",
   "id": "14b20f1c",
   "metadata": {},
   "source": [
    "Checking the count unique values in each categorical feature"
   ]
  },
  {
   "cell_type": "code",
   "execution_count": 144,
   "id": "684b09eb",
   "metadata": {},
   "outputs": [
    {
     "name": "stdout",
     "output_type": "stream",
     "text": [
      "TITLE: Unique value count 86\n",
      "\n",
      "\n",
      "CUISINES: Unique value count 1727\n",
      "\n",
      "\n",
      "TIME: Unique value count 1183\n",
      "\n",
      "\n",
      "CITY: Unique value count 152\n",
      "\n",
      "\n",
      "LOCALITY: Unique value count 835\n",
      "\n",
      "\n"
     ]
    }
   ],
   "source": [
    "for feature in cat_features:\n",
    "    count=len(df_test[feature].unique())\n",
    "    print('{}: Unique value count {}'.format(feature,count))\n",
    "    print('\\n')"
   ]
  },
  {
   "cell_type": "markdown",
   "id": "29bba824",
   "metadata": {},
   "source": [
    "Checking for null values"
   ]
  },
  {
   "cell_type": "code",
   "execution_count": 145,
   "id": "80b5bbbf",
   "metadata": {},
   "outputs": [],
   "source": [
    "def null_value_check(df_test):\n",
    "    for column in df_test.columns:\n",
    "        if column not in 'RESTAURANT_ID':\n",
    "            total_null_count=df_test[column].isnull().sum()\n",
    "            null_percentage=total_null_count*100/df_test.shape[0]\n",
    "            print('{} count = {}. Percentage = {:.2f}%'.format(column,total_null_count,null_percentage))"
   ]
  },
  {
   "cell_type": "code",
   "execution_count": 146,
   "id": "2cbf85af",
   "metadata": {},
   "outputs": [
    {
     "name": "stdout",
     "output_type": "stream",
     "text": [
      "TITLE count = 284. Percentage = 6.71%\n",
      "CUISINES count = 0. Percentage = 0.00%\n",
      "TIME count = 0. Percentage = 0.00%\n",
      "CITY count = 35. Percentage = 0.83%\n",
      "LOCALITY count = 30. Percentage = 0.71%\n",
      "RATING count = 2. Percentage = 0.05%\n",
      "VOTES count = 402. Percentage = 9.50%\n"
     ]
    }
   ],
   "source": [
    "null_value_check(df_test)"
   ]
  },
  {
   "cell_type": "markdown",
   "id": "2e49a14d",
   "metadata": {},
   "source": [
    "Removing null values"
   ]
  },
  {
   "cell_type": "markdown",
   "id": "00891ff4",
   "metadata": {},
   "source": [
    "Replacing null values on RATING with 0"
   ]
  },
  {
   "cell_type": "code",
   "execution_count": 147,
   "id": "d41dc2b8",
   "metadata": {},
   "outputs": [],
   "source": [
    "df_test['RATING'].fillna(0,inplace=True)"
   ]
  },
  {
   "cell_type": "markdown",
   "id": "67dfe7e3",
   "metadata": {},
   "source": [
    "Replacing null values in VOTES with 0"
   ]
  },
  {
   "cell_type": "code",
   "execution_count": 148,
   "id": "024b0a93",
   "metadata": {},
   "outputs": [],
   "source": [
    "df_test['VOTES'].fillna(0,inplace=True)"
   ]
  },
  {
   "cell_type": "markdown",
   "id": "c4220ed0",
   "metadata": {},
   "source": [
    "Replacing null values in TITLE with Not Available"
   ]
  },
  {
   "cell_type": "code",
   "execution_count": 149,
   "id": "acf9bc15",
   "metadata": {},
   "outputs": [],
   "source": [
    "df_test['TITLE'].fillna('Not Available',inplace=True)"
   ]
  },
  {
   "cell_type": "markdown",
   "id": "106b647c",
   "metadata": {},
   "source": [
    "Replacing null values in CITY with Not Available"
   ]
  },
  {
   "cell_type": "code",
   "execution_count": 150,
   "id": "9947e85e",
   "metadata": {},
   "outputs": [],
   "source": [
    "df_test['CITY'].fillna('Not Available',inplace=True)"
   ]
  },
  {
   "cell_type": "markdown",
   "id": "e0201885",
   "metadata": {},
   "source": [
    "Replacing null values in LOCALITY with Not Available"
   ]
  },
  {
   "cell_type": "code",
   "execution_count": 151,
   "id": "4fc1db06",
   "metadata": {},
   "outputs": [],
   "source": [
    "df_test['LOCALITY'].fillna('Not Available',inplace=True)"
   ]
  },
  {
   "cell_type": "markdown",
   "id": "07bc3577",
   "metadata": {},
   "source": [
    "Verifying Null value presence"
   ]
  },
  {
   "cell_type": "code",
   "execution_count": 152,
   "id": "a2606ef6",
   "metadata": {},
   "outputs": [
    {
     "name": "stdout",
     "output_type": "stream",
     "text": [
      "TITLE count = 0. Percentage = 0.00%\n",
      "CUISINES count = 0. Percentage = 0.00%\n",
      "TIME count = 0. Percentage = 0.00%\n",
      "CITY count = 0. Percentage = 0.00%\n",
      "LOCALITY count = 0. Percentage = 0.00%\n",
      "RATING count = 0. Percentage = 0.00%\n",
      "VOTES count = 0. Percentage = 0.00%\n"
     ]
    }
   ],
   "source": [
    "null_value_check(df_test)"
   ]
  },
  {
   "cell_type": "markdown",
   "id": "7d6796a3",
   "metadata": {},
   "source": [
    "Typecasting object to integer"
   ]
  },
  {
   "cell_type": "markdown",
   "id": "3d6a2eee",
   "metadata": {},
   "source": [
    "Checking for uniuqe values in RATING and VOTES"
   ]
  },
  {
   "cell_type": "code",
   "execution_count": 153,
   "id": "8c079ca3",
   "metadata": {},
   "outputs": [
    {
     "data": {
      "text/plain": [
       "array(['564', '61', '350', ..., '1697', '749', '1239'], dtype=object)"
      ]
     },
     "execution_count": 153,
     "metadata": {},
     "output_type": "execute_result"
    }
   ],
   "source": [
    "df_test['VOTES'].unique()"
   ]
  },
  {
   "cell_type": "code",
   "execution_count": 154,
   "id": "656cfd4a",
   "metadata": {},
   "outputs": [
    {
     "data": {
      "text/plain": [
       "array(['4.3', '4.2', '3.8', '3.6', '3.7', 'NEW', '4.0', '3.4', '3.2',\n",
       "       '4.1', '3.0', '-', '3.5', '4.5', '3.9', '3.3', '2.9', '3.1', '2.5',\n",
       "       '2.8', '4.6', '4.4', '2.7', '4.8', '2.6', '4.9', '2.1', '4.7',\n",
       "       '2.3', '2.4', '2.2', 0], dtype=object)"
      ]
     },
     "execution_count": 154,
     "metadata": {},
     "output_type": "execute_result"
    }
   ],
   "source": [
    "df_test['RATING'].unique()"
   ]
  },
  {
   "cell_type": "markdown",
   "id": "c2933d8e",
   "metadata": {},
   "source": [
    "Checking the count of value '-' in RATING"
   ]
  },
  {
   "cell_type": "code",
   "execution_count": 155,
   "id": "ac604c08",
   "metadata": {},
   "outputs": [
    {
     "data": {
      "text/plain": [
       "177"
      ]
     },
     "execution_count": 155,
     "metadata": {},
     "output_type": "execute_result"
    }
   ],
   "source": [
    "count=(df_test['RATING']=='-').sum()\n",
    "count"
   ]
  },
  {
   "cell_type": "markdown",
   "id": "4b05869d",
   "metadata": {},
   "source": [
    "Replacing '-' with value 0"
   ]
  },
  {
   "cell_type": "code",
   "execution_count": 156,
   "id": "ef316296",
   "metadata": {},
   "outputs": [],
   "source": [
    "df_test['RATING']=df_test['RATING'].str.replace('-','0')"
   ]
  },
  {
   "cell_type": "code",
   "execution_count": 157,
   "id": "ddd141bd",
   "metadata": {},
   "outputs": [
    {
     "data": {
      "text/plain": [
       "0"
      ]
     },
     "execution_count": 157,
     "metadata": {},
     "output_type": "execute_result"
    }
   ],
   "source": [
    "count=(df_test['RATING']=='-').sum()\n",
    "count"
   ]
  },
  {
   "cell_type": "markdown",
   "id": "d6486c92",
   "metadata": {},
   "source": [
    "Checking the count of value 'NEW' in RATING"
   ]
  },
  {
   "cell_type": "code",
   "execution_count": 158,
   "id": "929c3779",
   "metadata": {},
   "outputs": [
    {
     "data": {
      "text/plain": [
       "223"
      ]
     },
     "execution_count": 158,
     "metadata": {},
     "output_type": "execute_result"
    }
   ],
   "source": [
    "count=(df_test['RATING']=='NEW').sum()\n",
    "count"
   ]
  },
  {
   "cell_type": "markdown",
   "id": "d7cb56f9",
   "metadata": {},
   "source": [
    "Replacing 'NEW' with value 0"
   ]
  },
  {
   "cell_type": "code",
   "execution_count": 159,
   "id": "3f5265ca",
   "metadata": {},
   "outputs": [],
   "source": [
    "df_test['RATING']=df_test['RATING'].str.replace('NEW','0')"
   ]
  },
  {
   "cell_type": "code",
   "execution_count": 160,
   "id": "8f84017a",
   "metadata": {},
   "outputs": [
    {
     "data": {
      "text/plain": [
       "0"
      ]
     },
     "execution_count": 160,
     "metadata": {},
     "output_type": "execute_result"
    }
   ],
   "source": [
    "count=(df_test['RATING']=='NEW').sum()\n",
    "count"
   ]
  },
  {
   "cell_type": "markdown",
   "id": "7a48d5e7",
   "metadata": {},
   "source": [
    "Typecasting VOTES feature as Integer"
   ]
  },
  {
   "cell_type": "code",
   "execution_count": 161,
   "id": "c8eae227",
   "metadata": {},
   "outputs": [],
   "source": [
    "df_test['VOTES']=df_test['VOTES'].astype('int')"
   ]
  },
  {
   "cell_type": "markdown",
   "id": "3084623d",
   "metadata": {},
   "source": [
    "Typecasting RATING feature into float"
   ]
  },
  {
   "cell_type": "code",
   "execution_count": 162,
   "id": "707f72d4",
   "metadata": {},
   "outputs": [],
   "source": [
    "df_test['RATING']=df_test['RATING'].astype('float')"
   ]
  },
  {
   "cell_type": "markdown",
   "id": "c6f018af",
   "metadata": {},
   "source": [
    "Verifying the datatypes"
   ]
  },
  {
   "cell_type": "code",
   "execution_count": 163,
   "id": "217a8bf1",
   "metadata": {},
   "outputs": [
    {
     "data": {
      "text/plain": [
       "TITLE             object\n",
       "RESTAURANT_ID      int64\n",
       "CUISINES          object\n",
       "TIME              object\n",
       "CITY              object\n",
       "LOCALITY          object\n",
       "RATING           float64\n",
       "VOTES              int32\n",
       "dtype: object"
      ]
     },
     "execution_count": 163,
     "metadata": {},
     "output_type": "execute_result"
    }
   ],
   "source": [
    "df_test.dtypes"
   ]
  },
  {
   "cell_type": "markdown",
   "id": "b8f40644",
   "metadata": {},
   "source": [
    "Separating each CUISINES into a separate columns"
   ]
  },
  {
   "cell_type": "code",
   "execution_count": 164,
   "id": "259c0ddc",
   "metadata": {},
   "outputs": [],
   "source": [
    "cuisines_split = df_test['CUISINES'].str.split(', ', expand=True)\n",
    "cuisines_split.columns = [f'CUISINE_{i+1}' for i in range(cuisines_split.shape[1])]\n",
    "df_test = pd.concat([df_test, cuisines_split], axis=1)"
   ]
  },
  {
   "cell_type": "code",
   "execution_count": 165,
   "id": "425d3ab0",
   "metadata": {},
   "outputs": [],
   "source": [
    "df_test.drop('CUISINES', axis=1, inplace=True)"
   ]
  },
  {
   "cell_type": "markdown",
   "id": "7cc1ae45",
   "metadata": {},
   "source": [
    "Separating each Title into a separate columns"
   ]
  },
  {
   "cell_type": "code",
   "execution_count": 166,
   "id": "5e8c2a22",
   "metadata": {},
   "outputs": [],
   "source": [
    "title_split = df_test['TITLE'].str.split(',', expand=True)\n",
    "title_split.columns = [f'TITLE_{i+1}' for i in range(title_split.shape[1])]\n",
    "df_test = pd.concat([df_test, title_split], axis=1)"
   ]
  },
  {
   "cell_type": "code",
   "execution_count": 167,
   "id": "7d9ad9b7",
   "metadata": {},
   "outputs": [],
   "source": [
    "df_test.drop('TITLE', axis=1, inplace=True)"
   ]
  },
  {
   "cell_type": "markdown",
   "id": "a88a4e80",
   "metadata": {},
   "source": [
    "Dropping TIME column"
   ]
  },
  {
   "cell_type": "code",
   "execution_count": 168,
   "id": "3d2dacc7",
   "metadata": {},
   "outputs": [],
   "source": [
    "df_test.drop('TIME',axis=1,inplace=True)"
   ]
  },
  {
   "cell_type": "markdown",
   "id": "ad9d3188",
   "metadata": {},
   "source": [
    "Dropping RESTAURANT_ID"
   ]
  },
  {
   "cell_type": "code",
   "execution_count": 169,
   "id": "b50512cc",
   "metadata": {},
   "outputs": [],
   "source": [
    "df_test.drop('RESTAURANT_ID',axis=1,inplace=True)"
   ]
  },
  {
   "cell_type": "markdown",
   "id": "8eac5814",
   "metadata": {},
   "source": [
    "Checking the revised columns"
   ]
  },
  {
   "cell_type": "code",
   "execution_count": 170,
   "id": "d87c3807",
   "metadata": {},
   "outputs": [
    {
     "data": {
      "text/plain": [
       "['CITY',\n",
       " 'LOCALITY',\n",
       " 'RATING',\n",
       " 'VOTES',\n",
       " 'CUISINE_1',\n",
       " 'CUISINE_2',\n",
       " 'CUISINE_3',\n",
       " 'CUISINE_4',\n",
       " 'CUISINE_5',\n",
       " 'CUISINE_6',\n",
       " 'CUISINE_7',\n",
       " 'CUISINE_8',\n",
       " 'TITLE_1',\n",
       " 'TITLE_2']"
      ]
     },
     "execution_count": 170,
     "metadata": {},
     "output_type": "execute_result"
    }
   ],
   "source": [
    "df_test.columns.to_list()"
   ]
  },
  {
   "cell_type": "markdown",
   "id": "87300734",
   "metadata": {},
   "source": [
    "Rearranging the columns for better analysis"
   ]
  },
  {
   "cell_type": "code",
   "execution_count": 171,
   "id": "7f239229",
   "metadata": {},
   "outputs": [],
   "source": [
    "rearrange=['TITLE_1','TITLE_2',\n",
    "           'CUISINE_1','CUISINE_2','CUISINE_3','CUISINE_4','CUISINE_5','CUISINE_6','CUISINE_7','CUISINE_8',\n",
    "           'CITY',\n",
    "           'LOCALITY',\n",
    "           'RATING',\n",
    "           'VOTES'\n",
    "          ]"
   ]
  },
  {
   "cell_type": "code",
   "execution_count": 172,
   "id": "5c74a70b",
   "metadata": {},
   "outputs": [],
   "source": [
    "df_test=df_test[rearrange]"
   ]
  },
  {
   "cell_type": "markdown",
   "id": "5352a896",
   "metadata": {},
   "source": [
    "Checking for Null values"
   ]
  },
  {
   "cell_type": "code",
   "execution_count": 173,
   "id": "25f3a85a",
   "metadata": {},
   "outputs": [
    {
     "name": "stdout",
     "output_type": "stream",
     "text": [
      "TITLE_1 count = 0. Percentage = 0.00%\n",
      "TITLE_2 count = 3769. Percentage = 89.08%\n",
      "CUISINE_1 count = 0. Percentage = 0.00%\n",
      "CUISINE_2 count = 985. Percentage = 23.28%\n",
      "CUISINE_3 count = 2331. Percentage = 55.09%\n",
      "CUISINE_4 count = 3314. Percentage = 78.33%\n",
      "CUISINE_5 count = 3875. Percentage = 91.59%\n",
      "CUISINE_6 count = 4094. Percentage = 96.76%\n",
      "CUISINE_7 count = 4166. Percentage = 98.46%\n",
      "CUISINE_8 count = 4225. Percentage = 99.86%\n",
      "CITY count = 0. Percentage = 0.00%\n",
      "LOCALITY count = 0. Percentage = 0.00%\n",
      "RATING count = 2. Percentage = 0.05%\n",
      "VOTES count = 0. Percentage = 0.00%\n"
     ]
    }
   ],
   "source": [
    "null_value_check(df_test)"
   ]
  },
  {
   "cell_type": "markdown",
   "id": "07147185",
   "metadata": {},
   "source": [
    "Remove NULL from 'CUISINES' with 0"
   ]
  },
  {
   "cell_type": "code",
   "execution_count": 174,
   "id": "2e26e716",
   "metadata": {},
   "outputs": [],
   "source": [
    "df_test['CUISINE_2'].fillna('0',inplace=True)\n",
    "df_test['CUISINE_3'].fillna('0',inplace=True)\n",
    "df_test['CUISINE_4'].fillna('0',inplace=True)\n",
    "df_test['CUISINE_5'].fillna('0',inplace=True)\n",
    "df_test['CUISINE_6'].fillna('0',inplace=True)\n",
    "df_test['CUISINE_7'].fillna('0',inplace=True)\n",
    "df_test['CUISINE_8'].fillna('0',inplace=True)"
   ]
  },
  {
   "cell_type": "markdown",
   "id": "6ce9c515",
   "metadata": {},
   "source": [
    "Remove NULL from 'TITLE_2'"
   ]
  },
  {
   "cell_type": "code",
   "execution_count": 175,
   "id": "4eb4466f",
   "metadata": {},
   "outputs": [],
   "source": [
    "df_test['TITLE_2'].fillna('0',inplace=True)"
   ]
  },
  {
   "cell_type": "markdown",
   "id": "d03ea437",
   "metadata": {},
   "source": [
    "Checking the RATING Null values"
   ]
  },
  {
   "cell_type": "code",
   "execution_count": 176,
   "id": "65374b44",
   "metadata": {},
   "outputs": [
    {
     "data": {
      "text/html": [
       "<div>\n",
       "<style scoped>\n",
       "    .dataframe tbody tr th:only-of-type {\n",
       "        vertical-align: middle;\n",
       "    }\n",
       "\n",
       "    .dataframe tbody tr th {\n",
       "        vertical-align: top;\n",
       "    }\n",
       "\n",
       "    .dataframe thead th {\n",
       "        text-align: right;\n",
       "    }\n",
       "</style>\n",
       "<table border=\"1\" class=\"dataframe\">\n",
       "  <thead>\n",
       "    <tr style=\"text-align: right;\">\n",
       "      <th></th>\n",
       "      <th>TITLE_1</th>\n",
       "      <th>TITLE_2</th>\n",
       "      <th>CUISINE_1</th>\n",
       "      <th>CUISINE_2</th>\n",
       "      <th>CUISINE_3</th>\n",
       "      <th>CUISINE_4</th>\n",
       "      <th>CUISINE_5</th>\n",
       "      <th>CUISINE_6</th>\n",
       "      <th>CUISINE_7</th>\n",
       "      <th>CUISINE_8</th>\n",
       "      <th>CITY</th>\n",
       "      <th>LOCALITY</th>\n",
       "      <th>RATING</th>\n",
       "      <th>VOTES</th>\n",
       "    </tr>\n",
       "  </thead>\n",
       "  <tbody>\n",
       "    <tr>\n",
       "      <th>2035</th>\n",
       "      <td>QUICK BITES</td>\n",
       "      <td>0</td>\n",
       "      <td>Kerala</td>\n",
       "      <td>Arabian</td>\n",
       "      <td>0</td>\n",
       "      <td>0</td>\n",
       "      <td>0</td>\n",
       "      <td>0</td>\n",
       "      <td>0</td>\n",
       "      <td>0</td>\n",
       "      <td>Kochi</td>\n",
       "      <td>Kakkanad</td>\n",
       "      <td>NaN</td>\n",
       "      <td>0</td>\n",
       "    </tr>\n",
       "    <tr>\n",
       "      <th>2758</th>\n",
       "      <td>Not Available</td>\n",
       "      <td>0</td>\n",
       "      <td>Chinese</td>\n",
       "      <td>North Indian</td>\n",
       "      <td>South Indian</td>\n",
       "      <td>0</td>\n",
       "      <td>0</td>\n",
       "      <td>0</td>\n",
       "      <td>0</td>\n",
       "      <td>0</td>\n",
       "      <td>Kochi</td>\n",
       "      <td>Tripunithura</td>\n",
       "      <td>NaN</td>\n",
       "      <td>0</td>\n",
       "    </tr>\n",
       "  </tbody>\n",
       "</table>\n",
       "</div>"
      ],
      "text/plain": [
       "            TITLE_1 TITLE_2 CUISINE_1     CUISINE_2     CUISINE_3 CUISINE_4  \\\n",
       "2035    QUICK BITES       0    Kerala       Arabian             0         0   \n",
       "2758  Not Available       0   Chinese  North Indian  South Indian         0   \n",
       "\n",
       "     CUISINE_5 CUISINE_6 CUISINE_7 CUISINE_8   CITY      LOCALITY  RATING  \\\n",
       "2035         0         0         0         0  Kochi      Kakkanad     NaN   \n",
       "2758         0         0         0         0  Kochi  Tripunithura     NaN   \n",
       "\n",
       "      VOTES  \n",
       "2035      0  \n",
       "2758      0  "
      ]
     },
     "execution_count": 176,
     "metadata": {},
     "output_type": "execute_result"
    }
   ],
   "source": [
    "df_test.loc[df_test['RATING'].isnull()]"
   ]
  },
  {
   "cell_type": "markdown",
   "id": "326bb074",
   "metadata": {},
   "source": [
    "Removing null values from RATING"
   ]
  },
  {
   "cell_type": "code",
   "execution_count": 177,
   "id": "86d9eca3",
   "metadata": {},
   "outputs": [],
   "source": [
    "df_test['RATING'].fillna(0,inplace=True)"
   ]
  },
  {
   "cell_type": "markdown",
   "id": "ec8c077b",
   "metadata": {},
   "source": [
    "Verifying Null values"
   ]
  },
  {
   "cell_type": "code",
   "execution_count": 178,
   "id": "5a9894c3",
   "metadata": {},
   "outputs": [
    {
     "name": "stdout",
     "output_type": "stream",
     "text": [
      "TITLE_1 count = 0. Percentage = 0.00%\n",
      "TITLE_2 count = 0. Percentage = 0.00%\n",
      "CUISINE_1 count = 0. Percentage = 0.00%\n",
      "CUISINE_2 count = 0. Percentage = 0.00%\n",
      "CUISINE_3 count = 0. Percentage = 0.00%\n",
      "CUISINE_4 count = 0. Percentage = 0.00%\n",
      "CUISINE_5 count = 0. Percentage = 0.00%\n",
      "CUISINE_6 count = 0. Percentage = 0.00%\n",
      "CUISINE_7 count = 0. Percentage = 0.00%\n",
      "CUISINE_8 count = 0. Percentage = 0.00%\n",
      "CITY count = 0. Percentage = 0.00%\n",
      "LOCALITY count = 0. Percentage = 0.00%\n",
      "RATING count = 0. Percentage = 0.00%\n",
      "VOTES count = 0. Percentage = 0.00%\n"
     ]
    }
   ],
   "source": [
    "null_value_check(df_test)"
   ]
  },
  {
   "cell_type": "markdown",
   "id": "10455ffc",
   "metadata": {},
   "source": [
    "Checking for empty string"
   ]
  },
  {
   "cell_type": "code",
   "execution_count": 179,
   "id": "c9eba0ce",
   "metadata": {},
   "outputs": [
    {
     "data": {
      "text/html": [
       "<div>\n",
       "<style scoped>\n",
       "    .dataframe tbody tr th:only-of-type {\n",
       "        vertical-align: middle;\n",
       "    }\n",
       "\n",
       "    .dataframe tbody tr th {\n",
       "        vertical-align: top;\n",
       "    }\n",
       "\n",
       "    .dataframe thead th {\n",
       "        text-align: right;\n",
       "    }\n",
       "</style>\n",
       "<table border=\"1\" class=\"dataframe\">\n",
       "  <thead>\n",
       "    <tr style=\"text-align: right;\">\n",
       "      <th></th>\n",
       "      <th>TITLE_1</th>\n",
       "      <th>TITLE_2</th>\n",
       "      <th>CUISINE_1</th>\n",
       "      <th>CUISINE_2</th>\n",
       "      <th>CUISINE_3</th>\n",
       "      <th>CUISINE_4</th>\n",
       "      <th>CUISINE_5</th>\n",
       "      <th>CUISINE_6</th>\n",
       "      <th>CUISINE_7</th>\n",
       "      <th>CUISINE_8</th>\n",
       "      <th>CITY</th>\n",
       "      <th>LOCALITY</th>\n",
       "      <th>RATING</th>\n",
       "      <th>VOTES</th>\n",
       "    </tr>\n",
       "  </thead>\n",
       "  <tbody>\n",
       "  </tbody>\n",
       "</table>\n",
       "</div>"
      ],
      "text/plain": [
       "Empty DataFrame\n",
       "Columns: [TITLE_1, TITLE_2, CUISINE_1, CUISINE_2, CUISINE_3, CUISINE_4, CUISINE_5, CUISINE_6, CUISINE_7, CUISINE_8, CITY, LOCALITY, RATING, VOTES]\n",
       "Index: []"
      ]
     },
     "execution_count": 179,
     "metadata": {},
     "output_type": "execute_result"
    }
   ],
   "source": [
    "df_test[df_test.applymap(lambda x: x == '').any(axis=1)]"
   ]
  },
  {
   "cell_type": "code",
   "execution_count": 180,
   "id": "054de36b",
   "metadata": {},
   "outputs": [],
   "source": [
    "df_test.replace('', 'X', inplace=True)"
   ]
  },
  {
   "cell_type": "markdown",
   "id": "68160748",
   "metadata": {},
   "source": [
    "Verying empty string"
   ]
  },
  {
   "cell_type": "code",
   "execution_count": 181,
   "id": "d23c4c02",
   "metadata": {},
   "outputs": [
    {
     "data": {
      "text/html": [
       "<div>\n",
       "<style scoped>\n",
       "    .dataframe tbody tr th:only-of-type {\n",
       "        vertical-align: middle;\n",
       "    }\n",
       "\n",
       "    .dataframe tbody tr th {\n",
       "        vertical-align: top;\n",
       "    }\n",
       "\n",
       "    .dataframe thead th {\n",
       "        text-align: right;\n",
       "    }\n",
       "</style>\n",
       "<table border=\"1\" class=\"dataframe\">\n",
       "  <thead>\n",
       "    <tr style=\"text-align: right;\">\n",
       "      <th></th>\n",
       "      <th>TITLE_1</th>\n",
       "      <th>TITLE_2</th>\n",
       "      <th>CUISINE_1</th>\n",
       "      <th>CUISINE_2</th>\n",
       "      <th>CUISINE_3</th>\n",
       "      <th>CUISINE_4</th>\n",
       "      <th>CUISINE_5</th>\n",
       "      <th>CUISINE_6</th>\n",
       "      <th>CUISINE_7</th>\n",
       "      <th>CUISINE_8</th>\n",
       "      <th>CITY</th>\n",
       "      <th>LOCALITY</th>\n",
       "      <th>RATING</th>\n",
       "      <th>VOTES</th>\n",
       "    </tr>\n",
       "  </thead>\n",
       "  <tbody>\n",
       "  </tbody>\n",
       "</table>\n",
       "</div>"
      ],
      "text/plain": [
       "Empty DataFrame\n",
       "Columns: [TITLE_1, TITLE_2, CUISINE_1, CUISINE_2, CUISINE_3, CUISINE_4, CUISINE_5, CUISINE_6, CUISINE_7, CUISINE_8, CITY, LOCALITY, RATING, VOTES]\n",
       "Index: []"
      ]
     },
     "execution_count": 181,
     "metadata": {},
     "output_type": "execute_result"
    }
   ],
   "source": [
    "df_test[df_test.applymap(lambda x: x == '').any(axis=1)]"
   ]
  },
  {
   "cell_type": "markdown",
   "id": "0f96a26a",
   "metadata": {},
   "source": [
    "## Checking for Outliers"
   ]
  },
  {
   "cell_type": "code",
   "execution_count": 182,
   "id": "ec8ea9bd",
   "metadata": {},
   "outputs": [
    {
     "data": {
      "text/plain": [
       "['RATING', 'VOTES']"
      ]
     },
     "execution_count": 182,
     "metadata": {},
     "output_type": "execute_result"
    }
   ],
   "source": [
    "num_features=[feature for feature in df_test.columns if df_test[feature].dtypes!='O']\n",
    "num_features"
   ]
  },
  {
   "cell_type": "code",
   "execution_count": 183,
   "id": "4206f8e1",
   "metadata": {},
   "outputs": [
    {
     "data": {
      "image/png": "[encoded data removed]",
      "text/plain": [
       "<Figure size 500x1500 with 2 Axes>"
      ]
     },
     "metadata": {},
     "output_type": "display_data"
    }
   ],
   "source": [
    "plt.figure(figsize=(5,15))\n",
    "index=1\n",
    "for feature in num_features:\n",
    "    if index<=len(num_features):\n",
    "        plt.subplot(3,1,index)\n",
    "        sns.boxplot(df_test[feature],palette='deep',linewidth=.5)\n",
    "        plt.xlabel(feature)\n",
    "        index+=1\n",
    "        \n",
    "plt.tight_layout()"
   ]
  },
  {
   "cell_type": "markdown",
   "id": "aab56dc9",
   "metadata": {},
   "source": [
    "Checking outlier using zscore"
   ]
  },
  {
   "cell_type": "code",
   "execution_count": 184,
   "id": "ac9e5240",
   "metadata": {},
   "outputs": [],
   "source": [
    "def outliers_detection(data):\n",
    "    z_score=np.abs(zscore(data[['RATING','VOTES']]))\n",
    "    print(np.where(z_score>3))\n",
    "    return z_score"
   ]
  },
  {
   "cell_type": "markdown",
   "id": "2f920046",
   "metadata": {},
   "source": [
    "Checking for zscore values"
   ]
  },
  {
   "cell_type": "code",
   "execution_count": 185,
   "id": "0228f49c",
   "metadata": {},
   "outputs": [
    {
     "name": "stdout",
     "output_type": "stream",
     "text": [
      "(array([  31,   83,   86,   92,  282,  377,  479,  534,  730,  759,  763,\n",
      "        804,  806,  880,  987, 1093, 1098, 1111, 1147, 1156, 1314, 1324,\n",
      "       1692, 1751, 1789, 1870, 1998, 2019, 2093, 2130, 2140, 2194, 2215,\n",
      "       2304, 2326, 2355, 2363, 2415, 2486, 2639, 2641, 2657, 2697, 2749,\n",
      "       2771, 2798, 2834, 2843, 2850, 2911, 2940, 2962, 3015, 3041, 3129,\n",
      "       3209, 3279, 3317, 3442, 3443, 3501, 3520, 3683, 3703, 3728, 3734,\n",
      "       3950, 4006, 4047, 4067, 4119, 4124, 4151, 4163], dtype=int64), array([1, 1, 1, 1, 1, 1, 1, 1, 1, 1, 1, 1, 1, 1, 1, 1, 1, 1, 1, 1, 1, 1,\n",
      "       1, 1, 1, 1, 1, 1, 1, 1, 1, 1, 1, 1, 1, 1, 1, 1, 1, 1, 1, 1, 1, 1,\n",
      "       1, 1, 1, 1, 1, 1, 1, 1, 1, 1, 1, 1, 1, 1, 1, 1, 1, 1, 1, 1, 1, 1,\n",
      "       1, 1, 1, 1, 1, 1, 1, 1], dtype=int64))\n"
     ]
    }
   ],
   "source": [
    "z_score=outliers_detection(df_test)"
   ]
  },
  {
   "cell_type": "markdown",
   "id": "6f602926",
   "metadata": {},
   "source": [
    "Removing outliers in the dataset"
   ]
  },
  {
   "cell_type": "code",
   "execution_count": 187,
   "id": "7fa3173d",
   "metadata": {},
   "outputs": [],
   "source": [
    "def removing_outliers(z_score,data):\n",
    "    data=data[(z_score<3).all(axis=1)]\n",
    "    return data"
   ]
  },
  {
   "cell_type": "code",
   "execution_count": 188,
   "id": "7ac3f1b7",
   "metadata": {},
   "outputs": [],
   "source": [
    "df_clean=removing_outliers(z_score,df_test)"
   ]
  },
  {
   "cell_type": "code",
   "execution_count": 189,
   "id": "4a3477bc",
   "metadata": {},
   "outputs": [
    {
     "data": {
      "text/plain": [
       "(4157, 14)"
      ]
     },
     "execution_count": 189,
     "metadata": {},
     "output_type": "execute_result"
    }
   ],
   "source": [
    "df_clean.shape"
   ]
  },
  {
   "cell_type": "markdown",
   "id": "e93d4b4a",
   "metadata": {},
   "source": [
    "Calculating the total data loss"
   ]
  },
  {
   "cell_type": "code",
   "execution_count": 190,
   "id": "134f531c",
   "metadata": {},
   "outputs": [
    {
     "name": "stdout",
     "output_type": "stream",
     "text": [
      "The total data lost due to outliers is: 74\n"
     ]
    }
   ],
   "source": [
    "total_data_loss=df_test.shape[0]-df_clean.shape[0]\n",
    "print('The total data lost due to outliers is:', total_data_loss)"
   ]
  },
  {
   "cell_type": "markdown",
   "id": "75d23494",
   "metadata": {},
   "source": [
    "Calculating the percentage of data loss"
   ]
  },
  {
   "cell_type": "code",
   "execution_count": 191,
   "id": "6638701a",
   "metadata": {},
   "outputs": [
    {
     "name": "stdout",
     "output_type": "stream",
     "text": [
      "Total percentage of data lost is: 1.75%\n"
     ]
    }
   ],
   "source": [
    "total_data=df_test.shape[0]\n",
    "percent=total_data_loss*100/total_data\n",
    "print('Total percentage of data lost is: {:.2f}%'.format(percent))"
   ]
  },
  {
   "cell_type": "markdown",
   "id": "6b840d73",
   "metadata": {},
   "source": [
    "Assigning the outlier free dataset to df_test"
   ]
  },
  {
   "cell_type": "code",
   "execution_count": 192,
   "id": "66b7b7df",
   "metadata": {},
   "outputs": [],
   "source": [
    "df_test=df_clean"
   ]
  },
  {
   "cell_type": "markdown",
   "id": "69c260a0",
   "metadata": {},
   "source": [
    "### Skewness check"
   ]
  },
  {
   "cell_type": "code",
   "execution_count": 193,
   "id": "2deb5aa6",
   "metadata": {},
   "outputs": [
    {
     "data": {
      "text/plain": [
       "RATING   -2.179015\n",
       "VOTES     2.507474\n",
       "dtype: float64"
      ]
     },
     "execution_count": 193,
     "metadata": {},
     "output_type": "execute_result"
    }
   ],
   "source": [
    "df_test[['RATING','VOTES']].skew()"
   ]
  },
  {
   "cell_type": "markdown",
   "id": "5992781a",
   "metadata": {},
   "source": [
    "Removing skewness in VOTED using cube root"
   ]
  },
  {
   "cell_type": "code",
   "execution_count": 194,
   "id": "b4d05907",
   "metadata": {},
   "outputs": [],
   "source": [
    "votes_cbrt=np.cbrt(df_test['VOTES'])"
   ]
  },
  {
   "cell_type": "code",
   "execution_count": 195,
   "id": "ea02e1ad",
   "metadata": {},
   "outputs": [
    {
     "data": {
      "text/plain": [
       "0.2649249208946332"
      ]
     },
     "execution_count": 195,
     "metadata": {},
     "output_type": "execute_result"
    }
   ],
   "source": [
    "votes_cbrt.skew()"
   ]
  },
  {
   "cell_type": "code",
   "execution_count": 196,
   "id": "b59a3627",
   "metadata": {},
   "outputs": [],
   "source": [
    "df_test['VOTES']=votes_cbrt"
   ]
  },
  {
   "cell_type": "markdown",
   "id": "58b7bf0d",
   "metadata": {},
   "source": [
    "### Applying LabelEncoder"
   ]
  },
  {
   "cell_type": "code",
   "execution_count": 197,
   "id": "401f1842",
   "metadata": {},
   "outputs": [
    {
     "data": {
      "text/plain": [
       "['TITLE_1',\n",
       " 'TITLE_2',\n",
       " 'CUISINE_1',\n",
       " 'CUISINE_2',\n",
       " 'CUISINE_3',\n",
       " 'CUISINE_4',\n",
       " 'CUISINE_5',\n",
       " 'CUISINE_6',\n",
       " 'CUISINE_7',\n",
       " 'CUISINE_8',\n",
       " 'CITY',\n",
       " 'LOCALITY']"
      ]
     },
     "execution_count": 197,
     "metadata": {},
     "output_type": "execute_result"
    }
   ],
   "source": [
    "cat_features_test=[feature for feature in df_test.columns if df_test[feature].dtypes=='O']\n",
    "cat_features_test"
   ]
  },
  {
   "cell_type": "code",
   "execution_count": 199,
   "id": "dd337038",
   "metadata": {},
   "outputs": [],
   "source": [
    "df_test[cat_features_test]=df_test[cat_features_test].apply(lambda column: le.fit_transform(column))"
   ]
  },
  {
   "cell_type": "markdown",
   "id": "84eb3448",
   "metadata": {},
   "source": [
    "### Scaling the Dataset"
   ]
  },
  {
   "cell_type": "code",
   "execution_count": 202,
   "id": "4fa171f5",
   "metadata": {},
   "outputs": [],
   "source": [
    "def StandardScaling(df_test):\n",
    "    ss=StandardScaler()\n",
    "    df_test=pd.DataFrame(ss.fit_transform(df_test),columns=df_test.columns)\n",
    "    return df_test"
   ]
  },
  {
   "cell_type": "code",
   "execution_count": 203,
   "id": "1dd6597e",
   "metadata": {},
   "outputs": [],
   "source": [
    "df_test=StandardScaling(df_test)"
   ]
  },
  {
   "cell_type": "markdown",
   "id": "a7315c24",
   "metadata": {},
   "source": [
    "# Variance Inflation Factor"
   ]
  },
  {
   "cell_type": "code",
   "execution_count": 204,
   "id": "1714b35d",
   "metadata": {},
   "outputs": [],
   "source": [
    "def vif_cal(df_test):\n",
    "    vif=pd.DataFrame()\n",
    "    vif['Features']=df_test.columns\n",
    "    vif['VIF Factor']=[VIF(df_test.values,i) for i in range(df_test.shape[1])]\n",
    "    return vif"
   ]
  },
  {
   "cell_type": "code",
   "execution_count": 205,
   "id": "2c5efec1",
   "metadata": {},
   "outputs": [
    {
     "data": {
      "text/html": [
       "<div>\n",
       "<style scoped>\n",
       "    .dataframe tbody tr th:only-of-type {\n",
       "        vertical-align: middle;\n",
       "    }\n",
       "\n",
       "    .dataframe tbody tr th {\n",
       "        vertical-align: top;\n",
       "    }\n",
       "\n",
       "    .dataframe thead th {\n",
       "        text-align: right;\n",
       "    }\n",
       "</style>\n",
       "<table border=\"1\" class=\"dataframe\">\n",
       "  <thead>\n",
       "    <tr style=\"text-align: right;\">\n",
       "      <th></th>\n",
       "      <th>Features</th>\n",
       "      <th>VIF Factor</th>\n",
       "    </tr>\n",
       "  </thead>\n",
       "  <tbody>\n",
       "    <tr>\n",
       "      <th>0</th>\n",
       "      <td>TITLE_1</td>\n",
       "      <td>1.111742</td>\n",
       "    </tr>\n",
       "    <tr>\n",
       "      <th>1</th>\n",
       "      <td>TITLE_2</td>\n",
       "      <td>1.034642</td>\n",
       "    </tr>\n",
       "    <tr>\n",
       "      <th>2</th>\n",
       "      <td>CUISINE_1</td>\n",
       "      <td>1.067424</td>\n",
       "    </tr>\n",
       "    <tr>\n",
       "      <th>3</th>\n",
       "      <td>CUISINE_2</td>\n",
       "      <td>1.078603</td>\n",
       "    </tr>\n",
       "    <tr>\n",
       "      <th>4</th>\n",
       "      <td>CUISINE_3</td>\n",
       "      <td>1.285965</td>\n",
       "    </tr>\n",
       "    <tr>\n",
       "      <th>5</th>\n",
       "      <td>CUISINE_4</td>\n",
       "      <td>1.406267</td>\n",
       "    </tr>\n",
       "    <tr>\n",
       "      <th>6</th>\n",
       "      <td>CUISINE_5</td>\n",
       "      <td>1.446162</td>\n",
       "    </tr>\n",
       "    <tr>\n",
       "      <th>7</th>\n",
       "      <td>CUISINE_6</td>\n",
       "      <td>1.439695</td>\n",
       "    </tr>\n",
       "    <tr>\n",
       "      <th>8</th>\n",
       "      <td>CUISINE_7</td>\n",
       "      <td>1.209463</td>\n",
       "    </tr>\n",
       "    <tr>\n",
       "      <th>9</th>\n",
       "      <td>CUISINE_8</td>\n",
       "      <td>1.077509</td>\n",
       "    </tr>\n",
       "    <tr>\n",
       "      <th>10</th>\n",
       "      <td>CITY</td>\n",
       "      <td>1.027281</td>\n",
       "    </tr>\n",
       "    <tr>\n",
       "      <th>11</th>\n",
       "      <td>LOCALITY</td>\n",
       "      <td>1.006542</td>\n",
       "    </tr>\n",
       "    <tr>\n",
       "      <th>12</th>\n",
       "      <td>RATING</td>\n",
       "      <td>1.897297</td>\n",
       "    </tr>\n",
       "    <tr>\n",
       "      <th>13</th>\n",
       "      <td>VOTES</td>\n",
       "      <td>2.003275</td>\n",
       "    </tr>\n",
       "  </tbody>\n",
       "</table>\n",
       "</div>"
      ],
      "text/plain": [
       "     Features  VIF Factor\n",
       "0     TITLE_1    1.111742\n",
       "1     TITLE_2    1.034642\n",
       "2   CUISINE_1    1.067424\n",
       "3   CUISINE_2    1.078603\n",
       "4   CUISINE_3    1.285965\n",
       "5   CUISINE_4    1.406267\n",
       "6   CUISINE_5    1.446162\n",
       "7   CUISINE_6    1.439695\n",
       "8   CUISINE_7    1.209463\n",
       "9   CUISINE_8    1.077509\n",
       "10       CITY    1.027281\n",
       "11   LOCALITY    1.006542\n",
       "12     RATING    1.897297\n",
       "13      VOTES    2.003275"
      ]
     },
     "execution_count": 205,
     "metadata": {},
     "output_type": "execute_result"
    }
   ],
   "source": [
    "vif_cal(df_test)"
   ]
  },
  {
   "cell_type": "markdown",
   "id": "3acdcc2d",
   "metadata": {},
   "source": [
    "# Testing the test dataset"
   ]
  },
  {
   "cell_type": "code",
   "execution_count": 206,
   "id": "a503da08",
   "metadata": {},
   "outputs": [
    {
     "name": "stdout",
     "output_type": "stream",
     "text": [
      "[1478.27672145  499.71666667 1363.75227494 ...  421.63217725  322.30760206\n",
      "  407.80164141]\n"
     ]
    }
   ],
   "source": [
    "test_model=pickle.load(open('Restaurant_Price_Prediction.pkl','rb'))\n",
    "pred=test_model.predict(df_test)\n",
    "print(pred)"
   ]
  }
 ],
 "metadata": {
  "kernelspec": {
   "display_name": "Python 3 (ipykernel)",
   "language": "python",
   "name": "python3"
  },
  "language_info": {
   "codemirror_mode": {
    "name": "ipython",
    "version": 3
   },
   "file_extension": ".py",
   "mimetype": "text/x-python",
   "name": "python",
   "nbconvert_exporter": "python",
   "pygments_lexer": "ipython3",
   "version": "3.11.5"
  }
 },
 "nbformat": 4,
 "nbformat_minor": 5
}
